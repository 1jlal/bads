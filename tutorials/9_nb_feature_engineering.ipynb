{
 "cells": [
  {
   "cell_type": "markdown",
   "metadata": {},
   "source": [
    "- Some demos of the transformations\n",
    "  - Machinelearningmastery has some examples: https://machinelearningmastery.com/power-transforms-with-scikit-learn/, https://machinelearningmastery.com/machine-learning-data-transforms-for-time-series-forecasting/\n",
    "\n",
    "Focus is on variable importance and feature selection\n",
    "- Demonstrate some of the filters from the lecture\n",
    "- WOE\n",
    "  - Bin all variables using a tree\n",
    "  - Translate variables into WOE\n",
    "  - Then check IV of the variables\n",
    "  - Do results agree with other filters?\n",
    "- Vanilla stepwise logit using AIC\n",
    "  - does the order of variables agree with what IV predicts?\n",
    "- Demonstrate `sklearn` feature selection stack https://scikit-learn.org/stable/modules/feature_selection.html"
   ]
  }
 ],
 "metadata": {
  "kernelspec": {
   "display_name": "PyCharm (adams)",
   "language": "python",
   "name": "pycharm-feb95198"
  },
  "language_info": {
   "codemirror_mode": {
    "name": "ipython",
    "version": 3
   },
   "file_extension": ".py",
   "mimetype": "text/x-python",
   "name": "python",
   "nbconvert_exporter": "python",
   "pygments_lexer": "ipython3",
   "version": "3.7.6"
  }
 },
 "nbformat": 4,
 "nbformat_minor": 4
}

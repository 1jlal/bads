{
  "nbformat": 4,
  "nbformat_minor": 0,
  "metadata": {
    "colab": {
      "name": "Introduction to Python 1.ipynb",
      "provenance": []
    },
    "kernelspec": {
      "name": "python3",
      "display_name": "Python 3"
    }
  },
  "cells": [
    {
      "cell_type": "markdown",
      "metadata": {
        "id": "L3WS_UbWixlo"
      },
      "source": [
        "# Python Introduction\n",
        "\n",
        "## Table of Contents\n",
        "\n",
        "Welcome to this introduction of Python! This tutorial will review the following:\n",
        "\n",
        "1.   Jupyter Notebook\n",
        "2.   Common Math Functions\n",
        "3.   Using Variables\n",
        "4.   Data Types\n",
        "5.   Methods and Attributes\n",
        "5.   If-Statements and Loops\n",
        "6.   Functions\n",
        "7.   Libraries\n",
        "8.   Getting Help\n",
        "9.   NumPy\n"
      ]
    },
    {
      "cell_type": "markdown",
      "metadata": {
        "id": "T0WIRTv0jRT8"
      },
      "source": [
        "# Jupyter Notebook\n",
        "\n",
        "Jupyter has two modes. When the cell marker is blue, you can select cells with the keyboard arrows and handle them by creating new cells, moving, copying or deleting them. When you press Enter while selecting a cell, you jump into editing mode and can change the content of a cell, e.g. by writing code.\n",
        "\n",
        "The types of actions you can perform are listed under Help > Keyboard shortcuts\n",
        "\n",
        "\n",
        "\n",
        "*   New cells are inserted with a (above) or b (below)\n",
        "*   Cells can be c copied, x cut and v pasted\n",
        "*   Cells are deleted by pressing d two times\n",
        "*   To run a cell and select the next cell: Shift + Enter\n",
        "*   While typing, use Tab to finish the object name for you and Shift + Tab to see the documentation  \n",
        "\n",
        "It is worth remembering the shortcuts to work efficiently. Also check out notebook magic commands starting with % when things get more interesting.\n"
      ]
    },
    {
      "cell_type": "markdown",
      "metadata": {
        "id": "-YG2-vkboJAx"
      },
      "source": [
        "## Cell Types\n",
        "\n",
        "A Jupyter notebook usually consists of text describing the context of the problem and describing the code as well as the actual code. Text is written in markup cells, which allow nice formatting similar to LaTeX, while code should be written in code cells. There, the code can be run interactively and the output will be visualized in the notebook.\n",
        "\n",
        "You can change the cell content with 'm' for markup and 'y' for code. Remember that you need to be in selection (or command) mode."
      ]
    },
    {
      "cell_type": "markdown",
      "metadata": {
        "id": "7VeKJR1iY8lR"
      },
      "source": [
        "# Common Math Functions\n",
        "\n",
        "As a little introduction, let's first use Python as a calculator and see how it behaves. Notice that how the program can separate lines of code into cells. Cells can only display one output although all lines of code are executed. If you'd like it to produce multiple at once, it can be useful to use the print command as shown at the end.\n",
        "\n",
        "By adding the character \"#\", you are telling Python to ignore the following characters on the same line. This is called creating a comment and can be very useful to explain your code to others."
      ]
    },
    {
      "cell_type": "code",
      "metadata": {
        "id": "U3hGuMdXXwr1",
        "outputId": "45b186c7-d240-4ba0-b853-d0cda90a8abc",
        "colab": {
          "base_uri": "https://localhost:8080/",
          "height": 0
        }
      },
      "source": [
        "1+1 # Python will ignore everything after \"#\""
      ],
      "execution_count": 1,
      "outputs": [
        {
          "output_type": "execute_result",
          "data": {
            "text/plain": [
              "2"
            ]
          },
          "metadata": {
            "tags": []
          },
          "execution_count": 1
        }
      ]
    },
    {
      "cell_type": "code",
      "metadata": {
        "id": "h4QjhlRdZIlO",
        "outputId": "65bf4637-d429-4cc0-b7de-b8d29f385d97",
        "colab": {
          "base_uri": "https://localhost:8080/",
          "height": 0
        }
      },
      "source": [
        "333/10"
      ],
      "execution_count": 2,
      "outputs": [
        {
          "output_type": "execute_result",
          "data": {
            "text/plain": [
              "33.3"
            ]
          },
          "metadata": {
            "tags": []
          },
          "execution_count": 2
        }
      ]
    },
    {
      "cell_type": "code",
      "metadata": {
        "id": "U2Bp6LmbtmsZ",
        "outputId": "e287821c-47c5-43c6-c61b-c0b1ac870aae",
        "colab": {
          "base_uri": "https://localhost:8080/",
          "height": 0
        }
      },
      "source": [
        "333 // 10 # returns you the floor of the quotient (result of the division rounded down to the nearest integer)"
      ],
      "execution_count": 3,
      "outputs": [
        {
          "output_type": "execute_result",
          "data": {
            "text/plain": [
              "33"
            ]
          },
          "metadata": {
            "tags": []
          },
          "execution_count": 3
        }
      ]
    },
    {
      "cell_type": "code",
      "metadata": {
        "id": "Q8lcepY0ZJfh",
        "outputId": "428ec821-0543-4677-900a-b53a0bccf5b8",
        "colab": {
          "base_uri": "https://localhost:8080/",
          "height": 0
        }
      },
      "source": [
        "1+1/2 # Python follows order of operations"
      ],
      "execution_count": 4,
      "outputs": [
        {
          "output_type": "execute_result",
          "data": {
            "text/plain": [
              "1.5"
            ]
          },
          "metadata": {
            "tags": []
          },
          "execution_count": 4
        }
      ]
    },
    {
      "cell_type": "code",
      "metadata": {
        "id": "3-rYmacKt6aa",
        "outputId": "63320e38-9a9e-47cc-eeb9-94f0a1515051",
        "colab": {
          "base_uri": "https://localhost:8080/",
          "height": 0
        }
      },
      "source": [
        "333 % 10 # returns remainder of the division"
      ],
      "execution_count": 5,
      "outputs": [
        {
          "output_type": "execute_result",
          "data": {
            "text/plain": [
              "3"
            ]
          },
          "metadata": {
            "tags": []
          },
          "execution_count": 5
        }
      ]
    },
    {
      "cell_type": "code",
      "metadata": {
        "id": "rasjMTsdZQaY",
        "outputId": "e48d7ba0-ef71-48ec-decb-b56b73b1e37e",
        "colab": {
          "base_uri": "https://localhost:8080/",
          "height": 0
        }
      },
      "source": [
        "3 ** 3 # Python uses \"**\" instead of \"^\" for exponents"
      ],
      "execution_count": 6,
      "outputs": [
        {
          "output_type": "execute_result",
          "data": {
            "text/plain": [
              "27"
            ]
          },
          "metadata": {
            "tags": []
          },
          "execution_count": 6
        }
      ]
    },
    {
      "cell_type": "code",
      "metadata": {
        "id": "NaS9qxJGcAHQ",
        "outputId": "f79dc1b0-d911-475b-f8f5-794067b4375e",
        "colab": {
          "base_uri": "https://localhost:8080/",
          "height": 0
        }
      },
      "source": [
        "print(1+1, 2+2) # if you need to print multiple items, separate them with a \",\" in the print() function. We will talk about functions soon."
      ],
      "execution_count": 7,
      "outputs": [
        {
          "output_type": "stream",
          "text": [
            "2 4\n"
          ],
          "name": "stdout"
        }
      ]
    },
    {
      "cell_type": "markdown",
      "metadata": {
        "id": "r0dz5f-GZZbW"
      },
      "source": [
        "# Using Variables\n",
        "\n",
        "One very useful feature of nearly every programming language is the ability to give variables a fixed name. Simply use the formula:\n",
        "\n",
        "\n",
        "> variable_name = desired_value\n",
        "\n",
        "\n",
        "Your variable names MUST NOT begin with a number, include a dash or space.\n",
        "\n",
        "After this, every time you type the variable, Python will refer to the value it has been assigned. If the same variable name is ever used, the value will be overwritten.\n",
        "\n",
        "Note that Python will consider all types of text as some kind of variable or command. If you ever want to create or reference actual text, it must be between quotation marks. This is called a string in Python. If you want Python to ignore text all together, use \"#\" to indicate a comment."
      ]
    },
    {
      "cell_type": "code",
      "metadata": {
        "id": "BR0APH8EZVQX",
        "outputId": "a38a7e68-f173-48c3-f02c-f2670dce31e6",
        "colab": {
          "base_uri": "https://localhost:8080/",
          "height": 0
        }
      },
      "source": [
        "a = 1 # all future cells will now refer to a as 1\n",
        "b = 2 # similarly, all future cells will refer to b as 2\n",
        "\n",
        "a+b"
      ],
      "execution_count": 8,
      "outputs": [
        {
          "output_type": "execute_result",
          "data": {
            "text/plain": [
              "3"
            ]
          },
          "metadata": {
            "tags": []
          },
          "execution_count": 8
        }
      ]
    },
    {
      "cell_type": "code",
      "metadata": {
        "id": "GuI9bLX1oUxN",
        "outputId": "5d2baeaa-7092-4ab2-b3e8-02fe9a78d4b9",
        "colab": {
          "base_uri": "https://localhost:8080/",
          "height": 0
        }
      },
      "source": [
        "a, b = 1, 2 # assigns variables above in the same way but in one line\n",
        "\n",
        "a+b"
      ],
      "execution_count": 9,
      "outputs": [
        {
          "output_type": "execute_result",
          "data": {
            "text/plain": [
              "3"
            ]
          },
          "metadata": {
            "tags": []
          },
          "execution_count": 9
        }
      ]
    },
    {
      "cell_type": "code",
      "metadata": {
        "id": "nmLwGwJNoc_U",
        "outputId": "5a327368-f98b-41fc-ce6b-b49619397cd8",
        "colab": {
          "base_uri": "https://localhost:8080/",
          "height": 0
        }
      },
      "source": [
        "a = z = 1 # another way to assign multiple variables of the same value\n",
        "\n",
        "z"
      ],
      "execution_count": 10,
      "outputs": [
        {
          "output_type": "execute_result",
          "data": {
            "text/plain": [
              "1"
            ]
          },
          "metadata": {
            "tags": []
          },
          "execution_count": 10
        }
      ]
    },
    {
      "cell_type": "code",
      "metadata": {
        "id": "uX-mSDoLZgrv",
        "outputId": "25a7b367-72e9-4191-961f-ecbb25db3ba6",
        "colab": {
          "base_uri": "https://localhost:8080/",
          "height": 0
        }
      },
      "source": [
        "print(a)"
      ],
      "execution_count": 11,
      "outputs": [
        {
          "output_type": "stream",
          "text": [
            "1\n"
          ],
          "name": "stdout"
        }
      ]
    },
    {
      "cell_type": "code",
      "metadata": {
        "id": "dtpGIaWPZjN_",
        "outputId": "3a13ea9f-ae02-4d76-e9df-cf31fe156aa7",
        "colab": {
          "base_uri": "https://localhost:8080/",
          "height": 0
        }
      },
      "source": [
        "a*5"
      ],
      "execution_count": 12,
      "outputs": [
        {
          "output_type": "execute_result",
          "data": {
            "text/plain": [
              "5"
            ]
          },
          "metadata": {
            "tags": []
          },
          "execution_count": 12
        }
      ]
    },
    {
      "cell_type": "code",
      "metadata": {
        "id": "erO3QQ3jc37m",
        "outputId": "4b9811a6-eea5-42b0-af17-de1ad407c393",
        "colab": {
          "base_uri": "https://localhost:8080/",
          "height": 0
        }
      },
      "source": [
        "b ** 5 # remember \"**\" means exponent"
      ],
      "execution_count": 13,
      "outputs": [
        {
          "output_type": "execute_result",
          "data": {
            "text/plain": [
              "32"
            ]
          },
          "metadata": {
            "tags": []
          },
          "execution_count": 13
        }
      ]
    },
    {
      "cell_type": "code",
      "metadata": {
        "id": "wIBHVYW2Zkr3",
        "outputId": "9dc1c484-1731-4251-b92e-6f5da0ee76d7",
        "colab": {
          "base_uri": "https://localhost:8080/",
          "height": 0
        }
      },
      "source": [
        "a = 500 # if you use the same variable name again, you overwrite the previous value\n",
        "\n",
        "a+b"
      ],
      "execution_count": 14,
      "outputs": [
        {
          "output_type": "execute_result",
          "data": {
            "text/plain": [
              "502"
            ]
          },
          "metadata": {
            "tags": []
          },
          "execution_count": 14
        }
      ]
    },
    {
      "cell_type": "code",
      "metadata": {
        "id": "JmwnRDGIv043",
        "outputId": "ef9b1637-fffc-4af6-c14e-209865ca6653",
        "colab": {
          "base_uri": "https://localhost:8080/",
          "height": 0
        }
      },
      "source": [
        "# Python only displays the last line of output from a cell\n",
        "\n",
        "a*b # This line will be executed in Python, but since the next line causes an output and it comes afterwards, only its output will be displayed\n",
        "\n",
        "a+b"
      ],
      "execution_count": 15,
      "outputs": [
        {
          "output_type": "execute_result",
          "data": {
            "text/plain": [
              "502"
            ]
          },
          "metadata": {
            "tags": []
          },
          "execution_count": 15
        }
      ]
    },
    {
      "cell_type": "code",
      "metadata": {
        "id": "mdamvwcNOdeN",
        "outputId": "09544206-baf2-49c2-d642-9977663dc6d2",
        "colab": {
          "base_uri": "https://localhost:8080/",
          "height": 0
        }
      },
      "source": [
        "print(a*b, a+b) # using print and a comma separating items will print everything"
      ],
      "execution_count": 16,
      "outputs": [
        {
          "output_type": "stream",
          "text": [
            "1000 502\n"
          ],
          "name": "stdout"
        }
      ]
    },
    {
      "cell_type": "code",
      "metadata": {
        "id": "U9RsDfwWZ_iw"
      },
      "source": [
        "#Can I just write? #this will generate an error because Python will try to look up the value assigned to each word as a variable and find nothing"
      ],
      "execution_count": 17,
      "outputs": []
    },
    {
      "cell_type": "code",
      "metadata": {
        "id": "p4lgFDRhNzjo",
        "outputId": "041836be-02c3-4aa9-b9bf-b931e347979c",
        "colab": {
          "base_uri": "https://localhost:8080/",
          "height": 0
        }
      },
      "source": [
        "a = \"you can't add strings to numbers\" # if you want to generate text for Python to store in memory, use quotation marks around the text to create a string (str for short)\n",
        "\n",
        "print(a)"
      ],
      "execution_count": 18,
      "outputs": [
        {
          "output_type": "stream",
          "text": [
            "you can't add strings to numbers\n"
          ],
          "name": "stdout"
        }
      ]
    },
    {
      "cell_type": "code",
      "metadata": {
        "id": "P8plSRHFaOYP",
        "outputId": "615af0c0-ac9e-4a2b-cf1a-7c9498935c35",
        "colab": {
          "base_uri": "https://localhost:8080/",
          "height": 0
        }
      },
      "source": [
        "b = \", but you can add strings together!\"\n",
        "\n",
        "a+b # you can even concatenate (attach) strings if you'd like"
      ],
      "execution_count": 19,
      "outputs": [
        {
          "output_type": "execute_result",
          "data": {
            "application/vnd.google.colaboratory.intrinsic+json": {
              "type": "string"
            },
            "text/plain": [
              "\"you can't add strings to numbers, but you can add strings together!\""
            ]
          },
          "metadata": {
            "tags": []
          },
          "execution_count": 19
        }
      ]
    },
    {
      "cell_type": "markdown",
      "metadata": {
        "id": "kj8xftILbIbh"
      },
      "source": [
        "# Data Types\n",
        "\n",
        "There are _many_ data types in Python. To check the type of an object, use the function type( ).\n",
        "\n",
        "\n",
        "The most common ones that you will encounter as a data scientist are:\n",
        "\n",
        "\n",
        "*   integer (eg. 100)\n",
        "*   float (eg. 100.0)\n",
        "*   string (eg. \"Hello World!\")\n",
        "*   boolean (eg. True)\n",
        "*   list (eg. [\"one\", \"two\", \"three\"] )\n",
        "*   tuples (eg. (\"one\", \"two\", \"three\") )\n",
        "*   range (eg. range(0,9,3) )\n",
        "*   dictionary (eg. {\"mammal\": \"platypus\", \"fish\": \"eel\"} )\n",
        "*   NumPy array (in future tutorials)\n",
        "*   Pandas Series (in future tutorials)\n",
        "*   Pandas DataFrame (in future tutorials)\n",
        "\n",
        "Aside from these, you will definitely see many more. Let's explore these a bit.\n",
        "\n",
        "\n",
        "\n"
      ]
    },
    {
      "cell_type": "markdown",
      "metadata": {
        "id": "W2XI4ysgpS15"
      },
      "source": [
        "## Integers and Floats\n",
        "\n",
        "These are going to likely be the most common types that you will encounter. Integers are whole numbers while floats contain decimals. If you store a large number of digits, Python slightly adjusts the number type in the background. Numbers with more digits take longer for the computer to process, so Python always tries to store the simples formats possible to save time."
      ]
    },
    {
      "cell_type": "code",
      "metadata": {
        "id": "D6RG79VGiOkN",
        "outputId": "803d6797-8c9a-4d46-ccf0-47bf429acb87",
        "colab": {
          "base_uri": "https://localhost:8080/",
          "height": 0
        }
      },
      "source": [
        "a = 5\n",
        "\n",
        "b = 5.00\n",
        "\n",
        "print(type(a), type(b)) # integers have no decimals while floats do"
      ],
      "execution_count": 20,
      "outputs": [
        {
          "output_type": "stream",
          "text": [
            "<class 'int'> <class 'float'>\n"
          ],
          "name": "stdout"
        }
      ]
    },
    {
      "cell_type": "code",
      "metadata": {
        "id": "L-qC2xiEo1oH",
        "outputId": "51cf8446-c02d-488b-e3f7-4e16053ce78a",
        "colab": {
          "base_uri": "https://localhost:8080/",
          "height": 0
        }
      },
      "source": [
        "int(b) # converts b to an integer, note that if we do not assign this back to b by executing \"b=int(b)\", b will not change"
      ],
      "execution_count": 21,
      "outputs": [
        {
          "output_type": "execute_result",
          "data": {
            "text/plain": [
              "5"
            ]
          },
          "metadata": {
            "tags": []
          },
          "execution_count": 21
        }
      ]
    },
    {
      "cell_type": "code",
      "metadata": {
        "id": "BFP8duKUo-f8",
        "outputId": "0d78ea31-f4d0-4626-c7e3-1f5b32af026a",
        "colab": {
          "base_uri": "https://localhost:8080/",
          "height": 0
        }
      },
      "source": [
        "b = int(b)\n",
        "\n",
        "b"
      ],
      "execution_count": 22,
      "outputs": [
        {
          "output_type": "execute_result",
          "data": {
            "text/plain": [
              "5"
            ]
          },
          "metadata": {
            "tags": []
          },
          "execution_count": 22
        }
      ]
    },
    {
      "cell_type": "markdown",
      "metadata": {
        "id": "HOfwItbGpnGv"
      },
      "source": [
        "## Strings\n",
        "\n",
        "Strings are like pieces of text. They are always enclosed between quotation marks, single or double quotes both work. You can convert numbers to strings too. Note that they will now have all the properties of strings."
      ]
    },
    {
      "cell_type": "code",
      "metadata": {
        "id": "OD6thTMwi9b9"
      },
      "source": [
        "c = \"any text between single or double quotes is a string\" # you can use single or double quotes around strings\n",
        "d = 'any text between single or double quotes is a string'"
      ],
      "execution_count": 23,
      "outputs": []
    },
    {
      "cell_type": "code",
      "metadata": {
        "id": "3ImbP2TmpQCs",
        "outputId": "14ad8b7f-4d66-4807-f2fc-23f827e7b498",
        "colab": {
          "base_uri": "https://localhost:8080/",
          "height": 0
        }
      },
      "source": [
        "a = str(a) # if we want to turn the number that we assigned to a into a string, we can use the str( ) function\n",
        "\n",
        "a*10 # now instead of 1*10, Python is performing '1'*10 so it will paste '1' 10 times"
      ],
      "execution_count": 24,
      "outputs": [
        {
          "output_type": "execute_result",
          "data": {
            "application/vnd.google.colaboratory.intrinsic+json": {
              "type": "string"
            },
            "text/plain": [
              "'5555555555'"
            ]
          },
          "metadata": {
            "tags": []
          },
          "execution_count": 24
        }
      ]
    },
    {
      "cell_type": "code",
      "metadata": {
        "id": "nayOBSjtwFeb",
        "outputId": "16e40cac-41d8-41aa-e67e-0de8a190bbbd",
        "colab": {
          "base_uri": "https://localhost:8080/",
          "height": 0
        }
      },
      "source": [
        "a = int(a) #you can change a string back to a number back by using int() or float()\n",
        "\n",
        "a*10"
      ],
      "execution_count": 25,
      "outputs": [
        {
          "output_type": "execute_result",
          "data": {
            "text/plain": [
              "50"
            ]
          },
          "metadata": {
            "tags": []
          },
          "execution_count": 25
        }
      ]
    },
    {
      "cell_type": "code",
      "metadata": {
        "id": "HegZNoglp9Rw",
        "outputId": "a8b915e1-ab94-4502-bc4f-c51f8e452883",
        "colab": {
          "base_uri": "https://localhost:8080/",
          "height": 0
        }
      },
      "source": [
        "print(c[0], c[2]) # you can find the nth letter in a string by enclosing n-1 in square brackets (since Python starts counting at 0)"
      ],
      "execution_count": 26,
      "outputs": [
        {
          "output_type": "stream",
          "text": [
            "a y\n"
          ],
          "name": "stdout"
        }
      ]
    },
    {
      "cell_type": "code",
      "metadata": {
        "id": "-K1ZpgZcqThq",
        "outputId": "8b0ce326-2997-4421-ebda-46ea9eb3db12",
        "colab": {
          "base_uri": "https://localhost:8080/",
          "height": 0
        }
      },
      "source": [
        "len(c) # gives you the number of characters in the string, this will be useful in Natural Language Processing (NLP) and more"
      ],
      "execution_count": 27,
      "outputs": [
        {
          "output_type": "execute_result",
          "data": {
            "text/plain": [
              "52"
            ]
          },
          "metadata": {
            "tags": []
          },
          "execution_count": 27
        }
      ]
    },
    {
      "cell_type": "markdown",
      "metadata": {
        "id": "MIHtfvtNqdXJ"
      },
      "source": [
        "Other tricks with strings can be found here: https://www.w3schools.com/python/python_strings.asp ."
      ]
    },
    {
      "cell_type": "markdown",
      "metadata": {
        "id": "Df7IJwUaj18-"
      },
      "source": [
        "## Booleans\n",
        "\n",
        "**Booleans** check a condition and return True if the condition is satisfied or False if not.\n",
        "\n",
        "To check if something is equal and get a Boolean value, use \"==\". Recall that \"=\" assigns variables.\n",
        "\n",
        "You can also create conditions using \"<\", \">\" and:\n",
        "\n",
        "*   \">=\" greater than or equal to\n",
        "*   \"<=\" less than or equal to\n",
        "*   \"!=\" not equal to\n",
        "*   \"is\" and \"is not\" also yield Booleans, however they require exact matches in data types unlike \"==\" and \"!=\"\n",
        "\n",
        "Note that you can create Booleans using other many methods which evaluate conditions.\n",
        "\n",
        "For example, there is the function isinstance(x, var_type) which returns the Boolean value if variable x is equivalent to the type specified."
      ]
    },
    {
      "cell_type": "code",
      "metadata": {
        "id": "m6cC6-oAjzXP",
        "outputId": "911ee9b6-ec7f-4e1b-90b4-be6d3e017779",
        "colab": {
          "base_uri": "https://localhost:8080/",
          "height": 35
        }
      },
      "source": [
        "e = 5\n",
        "\n",
        "f = 5.00\n",
        "\n",
        "print(e>f, e==f,  e>=f, e!=f)"
      ],
      "execution_count": 28,
      "outputs": [
        {
          "output_type": "stream",
          "text": [
            "False True True False\n"
          ],
          "name": "stdout"
        }
      ]
    },
    {
      "cell_type": "code",
      "metadata": {
        "id": "nStSbQYirHaV",
        "outputId": "0d6c6293-f974-4acd-883a-37febb1c0dba",
        "colab": {
          "base_uri": "https://localhost:8080/",
          "height": 35
        }
      },
      "source": [
        "print(e is f) # note that since a is not exactly b in terms of types, is in this case returns False"
      ],
      "execution_count": 29,
      "outputs": [
        {
          "output_type": "stream",
          "text": [
            "False\n"
          ],
          "name": "stdout"
        }
      ]
    },
    {
      "cell_type": "code",
      "metadata": {
        "id": "reU_bEd1lut3",
        "outputId": "28298bbd-8018-4cc5-a306-437a4fc77e7e",
        "colab": {
          "base_uri": "https://localhost:8080/",
          "height": 35
        }
      },
      "source": [
        "c = \"any text between single or double quotes is a string\"\n",
        "d = 'any text between single or double quotes is a string'\n",
        "\n",
        "print(c==d) # as mentioned, even though the second uses single quotations, it is equivalent in Python"
      ],
      "execution_count": 30,
      "outputs": [
        {
          "output_type": "stream",
          "text": [
            "True\n"
          ],
          "name": "stdout"
        }
      ]
    },
    {
      "cell_type": "code",
      "metadata": {
        "id": "EAfeqEEHl6U1",
        "outputId": "7d38afc1-67fc-4e0d-eff8-ff7e869312cc",
        "colab": {
          "base_uri": "https://localhost:8080/",
          "height": 35
        }
      },
      "source": [
        "print(isinstance(c, str)) # many functions may return Boolean values like this one which checks if variable c is a string (use the short form str)"
      ],
      "execution_count": 31,
      "outputs": [
        {
          "output_type": "stream",
          "text": [
            "True\n"
          ],
          "name": "stdout"
        }
      ]
    },
    {
      "cell_type": "code",
      "metadata": {
        "id": "7l2oNl0luZ3H",
        "outputId": "64e60897-de8a-4519-9a39-b5e369ca518c",
        "colab": {
          "base_uri": "https://localhost:8080/",
          "height": 35
        }
      },
      "source": [
        "print(True == 1, False == 0) # the Boolean value of True is equal to 1, similarly, the Boolean value of False is equal to 0. \n",
        "# this will be useful for categorical variables."
      ],
      "execution_count": 32,
      "outputs": [
        {
          "output_type": "stream",
          "text": [
            "True True\n"
          ],
          "name": "stdout"
        }
      ]
    },
    {
      "cell_type": "code",
      "metadata": {
        "id": "N80QBYDwPDJ5",
        "outputId": "3849a59b-9bc2-4b1e-8590-8faa52201a27",
        "colab": {
          "base_uri": "https://localhost:8080/",
          "height": 35
        }
      },
      "source": [
        "# Python only recognizes False and True as a Boolean value, FALSE and false (TRUE and true) are considered possible variable names.\n",
        "print(type(False), type(True))"
      ],
      "execution_count": 33,
      "outputs": [
        {
          "output_type": "stream",
          "text": [
            "<class 'bool'> <class 'bool'>\n"
          ],
          "name": "stdout"
        }
      ]
    },
    {
      "cell_type": "code",
      "metadata": {
        "id": "17OEWkgyQlZ1",
        "outputId": "7a0d6775-89ac-4054-f187-c255f395b233",
        "colab": {
          "base_uri": "https://localhost:8080/",
          "height": 166
        }
      },
      "source": [
        "print(type(FALSE)) # only False works as a boolean value, otherwise, Python thinks it's a variable"
      ],
      "execution_count": 34,
      "outputs": [
        {
          "output_type": "error",
          "ename": "NameError",
          "evalue": "ignored",
          "traceback": [
            "\u001b[0;31m---------------------------------------------------------------------------\u001b[0m",
            "\u001b[0;31mNameError\u001b[0m                                 Traceback (most recent call last)",
            "\u001b[0;32m<ipython-input-34-19b7c309ad4d>\u001b[0m in \u001b[0;36m<module>\u001b[0;34m()\u001b[0m\n\u001b[0;32m----> 1\u001b[0;31m \u001b[0mprint\u001b[0m\u001b[0;34m(\u001b[0m\u001b[0mtype\u001b[0m\u001b[0;34m(\u001b[0m\u001b[0mFALSE\u001b[0m\u001b[0;34m)\u001b[0m\u001b[0;34m)\u001b[0m \u001b[0;31m# only False works as a boolean value, otherwise, Python thinks it's a variable\u001b[0m\u001b[0;34m\u001b[0m\u001b[0;34m\u001b[0m\u001b[0m\n\u001b[0m",
            "\u001b[0;31mNameError\u001b[0m: name 'FALSE' is not defined"
          ]
        }
      ]
    },
    {
      "cell_type": "markdown",
      "metadata": {
        "id": "Spq3Eb-9rdNm"
      },
      "source": [
        "We can combine conditions with:\n",
        "*    and (all must be satisfied)\n",
        "*    or (at least 1 must be satisfied)\n",
        "*    not (reverses result)"
      ]
    },
    {
      "cell_type": "code",
      "metadata": {
        "id": "3ObcvKL0rcw9",
        "outputId": "111a542b-ed22-4c43-f0ca-cc9802b211d1",
        "colab": {
          "base_uri": "https://localhost:8080/",
          "height": 35
        }
      },
      "source": [
        "p = 1\n",
        "q = 2\n",
        "\n",
        "p > q and p < q # since both must be satisfied, but each is an opposite, this must be False"
      ],
      "execution_count": 35,
      "outputs": [
        {
          "output_type": "execute_result",
          "data": {
            "text/plain": [
              "False"
            ]
          },
          "metadata": {
            "tags": []
          },
          "execution_count": 35
        }
      ]
    },
    {
      "cell_type": "code",
      "metadata": {
        "id": "zX7ev-SGr5Si",
        "outputId": "d1776060-1f80-408b-86ca-09e821efa67f",
        "colab": {
          "base_uri": "https://localhost:8080/",
          "height": 35
        }
      },
      "source": [
        "p > q or p < q # since at least one of these is true, it is True"
      ],
      "execution_count": 36,
      "outputs": [
        {
          "output_type": "execute_result",
          "data": {
            "text/plain": [
              "True"
            ]
          },
          "metadata": {
            "tags": []
          },
          "execution_count": 36
        }
      ]
    },
    {
      "cell_type": "code",
      "metadata": {
        "id": "gRQ4Ccdir8Fg",
        "outputId": "a427941a-eb90-467d-e389-38ffd10f817b",
        "colab": {
          "base_uri": "https://localhost:8080/",
          "height": 35
        }
      },
      "source": [
        "not (p == q) # the expression in brackets is False but \"not\" reverses that"
      ],
      "execution_count": 37,
      "outputs": [
        {
          "output_type": "execute_result",
          "data": {
            "text/plain": [
              "True"
            ]
          },
          "metadata": {
            "tags": []
          },
          "execution_count": 37
        }
      ]
    },
    {
      "cell_type": "markdown",
      "metadata": {
        "id": "4MkujAJju98-"
      },
      "source": [
        "## Lists, Indexing & Slicing\n",
        "\n",
        "**Lists** contain a number of items in sequence. The items can be of different types as well. Lists are created by putting contents sequentially in square brackets separated by commas. You can initialize an empty list by putting an empty set of square brackets.\n",
        "\n",
        "To call items in a list, you can refer to their position or index in square brackets. Note that counting in Python starts at 0 (this is formally called 0 Indexing). This means that to access the first item in a list, you must call list_name[0]. Indexing calls the unique position of an item."
      ]
    },
    {
      "cell_type": "code",
      "metadata": {
        "id": "fsOM2q3lvgvc",
        "outputId": "63417456-3d4c-4341-f88c-39f83cea3cfd",
        "colab": {
          "base_uri": "https://localhost:8080/",
          "height": 35
        }
      },
      "source": [
        "just_some_empty_list = [] # initalizing empty lists will be useful later on, this simple trick is worth remembering\n",
        "\n",
        "type(just_some_empty_list)"
      ],
      "execution_count": 38,
      "outputs": [
        {
          "output_type": "execute_result",
          "data": {
            "text/plain": [
              "list"
            ]
          },
          "metadata": {
            "tags": []
          },
          "execution_count": 38
        }
      ]
    },
    {
      "cell_type": "code",
      "metadata": {
        "id": "aW4KDIK9vveT",
        "outputId": "d0490b13-446a-4c2c-ebf2-e9c7df0f460b",
        "colab": {
          "base_uri": "https://localhost:8080/",
          "height": 35
        }
      },
      "source": [
        "whats_in_my_fridge = [\"cucumber\", \"pasta sauce\", \"leftovers\", \"margarine\", \"tomato\"]\n",
        "\n",
        "whats_in_my_fridge[0] # calls first element of list or the item at place/index 0"
      ],
      "execution_count": 39,
      "outputs": [
        {
          "output_type": "execute_result",
          "data": {
            "application/vnd.google.colaboratory.intrinsic+json": {
              "type": "string"
            },
            "text/plain": [
              "'cucumber'"
            ]
          },
          "metadata": {
            "tags": []
          },
          "execution_count": 39
        }
      ]
    },
    {
      "cell_type": "code",
      "metadata": {
        "id": "wIKl2JTWl0OF",
        "outputId": "b41e07bd-b97a-4167-9152-0593221155df",
        "colab": {
          "base_uri": "https://localhost:8080/",
          "height": 35
        }
      },
      "source": [
        "whats_in_my_fridge[-1] # items can be called using negative numbers, the final item in the list is index -1, second last is -2 and so on"
      ],
      "execution_count": 40,
      "outputs": [
        {
          "output_type": "execute_result",
          "data": {
            "application/vnd.google.colaboratory.intrinsic+json": {
              "type": "string"
            },
            "text/plain": [
              "'tomato'"
            ]
          },
          "metadata": {
            "tags": []
          },
          "execution_count": 40
        }
      ]
    },
    {
      "cell_type": "code",
      "metadata": {
        "id": "gHo02o5dxFgN",
        "outputId": "3956e8f2-e358-4d7e-9c89-b5ae7efa2ca5",
        "colab": {
          "base_uri": "https://localhost:8080/",
          "height": 35
        }
      },
      "source": [
        "whats_in_my_fridge[1] = \"kartoffelsalat\" # you can replace items using indexing\n",
        "\n",
        "print(whats_in_my_fridge)"
      ],
      "execution_count": 41,
      "outputs": [
        {
          "output_type": "stream",
          "text": [
            "['cucumber', 'kartoffelsalat', 'leftovers', 'margarine', 'tomato']\n"
          ],
          "name": "stdout"
        }
      ]
    },
    {
      "cell_type": "code",
      "metadata": {
        "id": "xOhY836jyVaA",
        "outputId": "48c8e672-8bbb-41c7-d4d0-df874f4635db",
        "colab": {
          "base_uri": "https://localhost:8080/",
          "height": 35
        }
      },
      "source": [
        "del whats_in_my_fridge[2] #if I ate my leftovers, we can delete it from the list like so\n",
        "\n",
        "print(whats_in_my_fridge)"
      ],
      "execution_count": 42,
      "outputs": [
        {
          "output_type": "stream",
          "text": [
            "['cucumber', 'kartoffelsalat', 'margarine', 'tomato']\n"
          ],
          "name": "stdout"
        }
      ]
    },
    {
      "cell_type": "markdown",
      "metadata": {
        "id": "PMjdqfJszoCr"
      },
      "source": [
        "Slicing is how data is often selected in Python. Use the index plus \":\". The \":\" can be read as _up to but not including_ .\n",
        "\n",
        "For example, 2:10 means _item 2 up to but not including item 10_. If you don't Include a start point or an end point for slicing, Python will start at the very beginning of the index or go to the very end of the index."
      ]
    },
    {
      "cell_type": "code",
      "metadata": {
        "id": "fJcmxWAJxYvJ",
        "outputId": "6c01b3a9-b5e0-455e-9216-88ec777c1022",
        "colab": {
          "base_uri": "https://localhost:8080/",
          "height": 35
        }
      },
      "source": [
        "whats_in_my_fridge[0:2] # select item 0 up to but not including item 2"
      ],
      "execution_count": 43,
      "outputs": [
        {
          "output_type": "execute_result",
          "data": {
            "text/plain": [
              "['cucumber', 'kartoffelsalat']"
            ]
          },
          "metadata": {
            "tags": []
          },
          "execution_count": 43
        }
      ]
    },
    {
      "cell_type": "code",
      "metadata": {
        "id": "BT8s8UQMx13q",
        "outputId": "44e0cd64-90e8-4380-c18b-f8a3cde53366",
        "colab": {
          "base_uri": "https://localhost:8080/",
          "height": 35
        }
      },
      "source": [
        "whats_in_my_fridge[2:] # select item 2 up to the end of the list. IF we wrote [:2], Python would have fetched the very beginning up to but not including item 2."
      ],
      "execution_count": 44,
      "outputs": [
        {
          "output_type": "execute_result",
          "data": {
            "text/plain": [
              "['margarine', 'tomato']"
            ]
          },
          "metadata": {
            "tags": []
          },
          "execution_count": 44
        }
      ]
    },
    {
      "cell_type": "code",
      "metadata": {
        "id": "BixxvmYwm0bc",
        "outputId": "32768414-f118-4922-ac14-3d09810f6ac6",
        "colab": {
          "base_uri": "https://localhost:8080/",
          "height": 156
        }
      },
      "source": [
        "what_i_want_in_fridge = [\"apples\"]\n",
        "\n",
        "tomorrow_in_my_fridge = whats_in_my_fridge + whats_in_my_fridge\n",
        "\n",
        "tomorrow_in_my_fridge # you can also add two lists to combine them"
      ],
      "execution_count": 45,
      "outputs": [
        {
          "output_type": "execute_result",
          "data": {
            "text/plain": [
              "['cucumber',\n",
              " 'kartoffelsalat',\n",
              " 'margarine',\n",
              " 'tomato',\n",
              " 'cucumber',\n",
              " 'kartoffelsalat',\n",
              " 'margarine',\n",
              " 'tomato']"
            ]
          },
          "metadata": {
            "tags": []
          },
          "execution_count": 45
        }
      ]
    },
    {
      "cell_type": "code",
      "metadata": {
        "id": "UhJK3dTzy0rz",
        "outputId": "d6fc34bd-c933-44d9-8832-a3225bd03832",
        "colab": {
          "base_uri": "https://localhost:8080/",
          "height": 35
        }
      },
      "source": [
        "whats_in_my_fridge.append('spring rolls') # each data type has associated \"methods and attributes\". For example, lists have the .append() method which adds a new specified item\n",
        "\n",
        "# it is very useful to learn more about possible methods and attributes of your data types as they will make programming much easier\n",
        "\n",
        "print(whats_in_my_fridge)"
      ],
      "execution_count": 46,
      "outputs": [
        {
          "output_type": "stream",
          "text": [
            "['cucumber', 'kartoffelsalat', 'margarine', 'tomato', 'spring rolls']\n"
          ],
          "name": "stdout"
        }
      ]
    },
    {
      "cell_type": "code",
      "metadata": {
        "id": "9q0YajPdzFrb",
        "outputId": "ec5e130f-fbe3-4d83-9234-29538f1ca355",
        "colab": {
          "base_uri": "https://localhost:8080/",
          "height": 35
        }
      },
      "source": [
        "whats_in_your_fridge = whats_in_my_fridge\n",
        "\n",
        "whats_in_your_fridge[1] = \"hummus\"\n",
        "\n",
        "print(whats_in_your_fridge, whats_in_my_fridge) # wait, we changed YOUR fridge, why did my fridge change too?"
      ],
      "execution_count": 47,
      "outputs": [
        {
          "output_type": "stream",
          "text": [
            "['cucumber', 'hummus', 'margarine', 'tomato', 'spring rolls'] ['cucumber', 'hummus', 'margarine', 'tomato', 'spring rolls']\n"
          ],
          "name": "stdout"
        }
      ]
    },
    {
      "cell_type": "code",
      "metadata": {
        "id": "fi8pNHhrziHl",
        "outputId": "4fc54959-74ed-43ef-b1fc-2d07baf1210c",
        "colab": {
          "base_uri": "https://localhost:8080/",
          "height": 35
        }
      },
      "source": [
        "# variable names refer to the original list, to create a copy which you want to edit separately, use .copy()\n",
        "\n",
        "whats_in_your_fridge = whats_in_my_fridge.copy()\n",
        "\n",
        "whats_in_your_fridge[2] = \"guacamole\"\n",
        "\n",
        "print(whats_in_your_fridge, whats_in_my_fridge)"
      ],
      "execution_count": 48,
      "outputs": [
        {
          "output_type": "stream",
          "text": [
            "['cucumber', 'hummus', 'guacamole', 'tomato', 'spring rolls'] ['cucumber', 'hummus', 'margarine', 'tomato', 'spring rolls']\n"
          ],
          "name": "stdout"
        }
      ]
    },
    {
      "cell_type": "markdown",
      "metadata": {
        "id": "klol8pB-8A2A"
      },
      "source": [
        "### List Comprehensions\n",
        "If you want to apply the same function to every item in a list, you can use a list comprehension. This takes on the following format:\n",
        "\n",
        "[_action_ for _item_ in _list_]"
      ]
    },
    {
      "cell_type": "code",
      "metadata": {
        "id": "KWpxjoO471wr",
        "outputId": "a98b6b01-eca5-4e36-ef51-8129816094f7",
        "colab": {
          "base_uri": "https://localhost:8080/",
          "height": 35
        }
      },
      "source": [
        "[len(item) for item in whats_in_my_fridge] # here we get the length of each string in the list"
      ],
      "execution_count": 49,
      "outputs": [
        {
          "output_type": "execute_result",
          "data": {
            "text/plain": [
              "[8, 6, 9, 6, 12]"
            ]
          },
          "metadata": {
            "tags": []
          },
          "execution_count": 49
        }
      ]
    },
    {
      "cell_type": "code",
      "metadata": {
        "id": "hsAvgMsDIHPe",
        "outputId": "fd7ac976-3a6b-4822-8578-022a43f85697",
        "colab": {
          "base_uri": "https://localhost:8080/",
          "height": 35
        }
      },
      "source": [
        "[item[0] for item in whats_in_my_fridge] # here is another example where we get the first letter of every item"
      ],
      "execution_count": 50,
      "outputs": [
        {
          "output_type": "execute_result",
          "data": {
            "text/plain": [
              "['c', 'h', 'm', 't', 's']"
            ]
          },
          "metadata": {
            "tags": []
          },
          "execution_count": 50
        }
      ]
    },
    {
      "cell_type": "markdown",
      "metadata": {
        "id": "frIlePOZIWC8"
      },
      "source": [
        "Other tricks with lists can be found here: https://www.w3schools.com/python/python_lists.asp"
      ]
    },
    {
      "cell_type": "markdown",
      "metadata": {
        "id": "cjdoQKQ5WF8_"
      },
      "source": [
        "## Tuples\n",
        "\n",
        "Tuples are objects stored together. These objects also cannot be altered like lists. Instead of being stored in square brackets, tuples are stored in round brackets.\n",
        "\n",
        "Unlike lists, tuples cannot be altered. You can convert them to lists and alter them that way."
      ]
    },
    {
      "cell_type": "code",
      "metadata": {
        "id": "q8plxJmoWhN9",
        "outputId": "b1665825-0847-4ca1-a42a-57a3ec160220",
        "colab": {
          "base_uri": "https://localhost:8080/",
          "height": 35
        }
      },
      "source": [
        "cool_tuple = (\"ponies\", \"unicorns\", \"sharks with laser beams on their heads\")\n",
        "\n",
        "type(cool_tuple)"
      ],
      "execution_count": 51,
      "outputs": [
        {
          "output_type": "execute_result",
          "data": {
            "text/plain": [
              "tuple"
            ]
          },
          "metadata": {
            "tags": []
          },
          "execution_count": 51
        }
      ]
    },
    {
      "cell_type": "code",
      "metadata": {
        "id": "IUjCrThFW2vg",
        "outputId": "f33021c8-af97-4e23-ea3e-0b79b5639c0a",
        "colab": {
          "base_uri": "https://localhost:8080/",
          "height": 35
        }
      },
      "source": [
        "cool_tuple[2] # indexing works the same way as lists"
      ],
      "execution_count": 52,
      "outputs": [
        {
          "output_type": "execute_result",
          "data": {
            "application/vnd.google.colaboratory.intrinsic+json": {
              "type": "string"
            },
            "text/plain": [
              "'sharks with laser beams on their heads'"
            ]
          },
          "metadata": {
            "tags": []
          },
          "execution_count": 52
        }
      ]
    },
    {
      "cell_type": "code",
      "metadata": {
        "id": "rJ69tJnwXOde",
        "outputId": "2ebdf31c-b530-42b8-d009-ef8607456e01",
        "colab": {
          "base_uri": "https://localhost:8080/",
          "height": 35
        }
      },
      "source": [
        "item_1, item_2, item_3 = cool_tuple # you can break tuples up into individual elements by assigning each to a variable\n",
        "\n",
        "print(\"I want\", item_1, \", \", item_2, \"and especially\", item_3)"
      ],
      "execution_count": 53,
      "outputs": [
        {
          "output_type": "stream",
          "text": [
            "I want ponies ,  unicorns and especially sharks with laser beams on their heads\n"
          ],
          "name": "stdout"
        }
      ]
    },
    {
      "cell_type": "code",
      "metadata": {
        "id": "qsBCzKFyXAZ3",
        "outputId": "1becad7f-db70-4394-92ed-0f3a9833b6a4",
        "colab": {
          "base_uri": "https://localhost:8080/",
          "height": 35
        }
      },
      "source": [
        "cool_list = list(cool_tuple) # tuples CANNOT be changed, but you can turn them into a list and then altered that way\n",
        "\n",
        "cool_list # notice the square brackets"
      ],
      "execution_count": 54,
      "outputs": [
        {
          "output_type": "execute_result",
          "data": {
            "text/plain": [
              "['ponies', 'unicorns', 'sharks with laser beams on their heads']"
            ]
          },
          "metadata": {
            "tags": []
          },
          "execution_count": 54
        }
      ]
    },
    {
      "cell_type": "code",
      "metadata": {
        "id": "KV6gF7ghmTDK",
        "outputId": "04aa2f84-bb11-4b33-8a22-7e8f24325e21",
        "colab": {
          "base_uri": "https://localhost:8080/",
          "height": 35
        }
      },
      "source": [
        "another_cool_tuple = True, # if you want a tuple with one item, you don't even need brackets, just put a comma after the object\n",
        "\n",
        "cool_tuple + another_cool_tuple # adding tuples just causes them to get combined together, you can assign this to a new variable if you'd like"
      ],
      "execution_count": 55,
      "outputs": [
        {
          "output_type": "execute_result",
          "data": {
            "text/plain": [
              "('ponies', 'unicorns', 'sharks with laser beams on their heads', True)"
            ]
          },
          "metadata": {
            "tags": []
          },
          "execution_count": 55
        }
      ]
    },
    {
      "cell_type": "markdown",
      "metadata": {
        "id": "Gg0LfXLdRVLn"
      },
      "source": [
        "## Other Data Types\n",
        "\n",
        "As mentioned, there are many other data types. Some are only available after loading a specific library into Python. As you load new libraries, check its documentation to learn more about how you can effectively use its elements."
      ]
    },
    {
      "cell_type": "markdown",
      "metadata": {
        "id": "7ou6AvTzGVoe"
      },
      "source": [
        "# Methods and Attributes\n",
        "\n",
        "Every data type has its own methods and attributes attached to it. It is very useful to get to know these as they encompass common tasks which may otherwise require you to import functions which are not actually necessary.\n",
        "\n",
        "**Methods** are specific functions to be implemented on your object. Again, this only works for specific functions which are associated with the object. Not every function can be called like this.\n",
        "\n",
        "The format to call one of your object's methods is as follows:\n",
        "\n",
        "\n",
        "\n",
        "```\n",
        "object_name.method(possible_arguments)\n",
        "```\n",
        "\n",
        "**Attributes** are properties of your object which can be displayed. The format to call them is similar but note the absence of parentheses:\n",
        "\n",
        "```\n",
        "object_name.attribute\n",
        "```\n",
        "Attributes are more common in more advanced data types. In the final section for today, we will see some with NumPy arrays."
      ]
    },
    {
      "cell_type": "markdown",
      "metadata": {
        "id": "12gGdGCnHecn"
      },
      "source": [
        "**Lists** have many useful methods. You can view some of the most useful here: https://docs.python.org/3/tutorial/datastructures.html .\n",
        "\n",
        "Let's observe some examples:"
      ]
    },
    {
      "cell_type": "code",
      "metadata": {
        "id": "QlVHu9tpGUBO",
        "outputId": "6edee58c-6442-458a-f776-d62b7b2f9a63",
        "colab": {
          "base_uri": "https://localhost:8080/",
          "height": 35
        }
      },
      "source": [
        "words_i_like = ['fuzzy', 'muffle', 'truck']\n",
        "\n",
        "words_i_like.append('roar')\n",
        "\n",
        "words_i_like.reverse()\n",
        "\n",
        "words_i_like"
      ],
      "execution_count": 56,
      "outputs": [
        {
          "output_type": "execute_result",
          "data": {
            "text/plain": [
              "['roar', 'truck', 'muffle', 'fuzzy']"
            ]
          },
          "metadata": {
            "tags": []
          },
          "execution_count": 56
        }
      ]
    },
    {
      "cell_type": "code",
      "metadata": {
        "id": "SvlRsLsOIs2P",
        "outputId": "522af807-d52a-4072-f62d-ad4e99c437a8",
        "colab": {
          "base_uri": "https://localhost:8080/",
          "height": 35
        }
      },
      "source": [
        "words_i_like.sort(reverse=True)\n",
        "\n",
        "words_i_like"
      ],
      "execution_count": 57,
      "outputs": [
        {
          "output_type": "execute_result",
          "data": {
            "text/plain": [
              "['truck', 'roar', 'muffle', 'fuzzy']"
            ]
          },
          "metadata": {
            "tags": []
          },
          "execution_count": 57
        }
      ]
    },
    {
      "cell_type": "markdown",
      "metadata": {
        "id": "qooROjS1JkBg"
      },
      "source": [
        "**Strings** have many methods associated. You can review all here: https://docs.python.org/3/library/stdtypes.html#string-methods "
      ]
    },
    {
      "cell_type": "code",
      "metadata": {
        "id": "tc02P-AyJprq",
        "outputId": "c0ece0f1-88f9-4b76-93a0-f85a990e00ff",
        "colab": {
          "base_uri": "https://localhost:8080/",
          "height": 35
        }
      },
      "source": [
        "sea_shells = \"she sells sea shells by the sea shore\"\n",
        "\n",
        "sea_shells.upper()"
      ],
      "execution_count": 58,
      "outputs": [
        {
          "output_type": "execute_result",
          "data": {
            "application/vnd.google.colaboratory.intrinsic+json": {
              "type": "string"
            },
            "text/plain": [
              "'SHE SELLS SEA SHELLS BY THE SEA SHORE'"
            ]
          },
          "metadata": {
            "tags": []
          },
          "execution_count": 58
        }
      ]
    },
    {
      "cell_type": "markdown",
      "metadata": {
        "id": "a1S_CTmlMFav"
      },
      "source": [
        "# If-Statements and Loops\n",
        "\n",
        "Another useful feature of almost every programming language is to go through a set of objects and apply the same set of actions on each object. This is called a loop. They can also evaluate whether a statement is true and execute actions according to that status. This is called an if-statement."
      ]
    },
    {
      "cell_type": "markdown",
      "metadata": {
        "id": "wInQsLyXQbJd"
      },
      "source": [
        "## If-Statements\n",
        "If-Statements in Python take the form:\n",
        "\n",
        "\n",
        "```\n",
        "if condition == True:\n",
        " action\n",
        "else:\n",
        " action\n",
        " ```\n",
        "\n",
        "If there are multiple conditions, you can extend this with elif:\n",
        "```\n",
        "if condition == True:\n",
        " action\n",
        "elif condition == True:\n",
        "  action\n",
        "else:\n",
        " action\n",
        " ```\n",
        "Let's observe some simple loops."
      ]
    },
    {
      "cell_type": "code",
      "metadata": {
        "id": "wNLNv0oyMfAx",
        "outputId": "7373e458-f6a6-40b7-8e3c-c83e63b2afcb",
        "colab": {
          "base_uri": "https://localhost:8080/",
          "height": 35
        }
      },
      "source": [
        "if 1 > 2 :\n",
        "  print(\"logic!\")\n",
        "else:\n",
        "  print(\"no logic :(\")"
      ],
      "execution_count": 59,
      "outputs": [
        {
          "output_type": "stream",
          "text": [
            "no logic :(\n"
          ],
          "name": "stdout"
        }
      ]
    },
    {
      "cell_type": "code",
      "metadata": {
        "id": "5H3x0IhhMyNW",
        "outputId": "8f45683a-84f5-42ca-ffc6-eafbb42b8d0a",
        "colab": {
          "base_uri": "https://localhost:8080/",
          "height": 35
        }
      },
      "source": [
        "if 2 > 1 :\n",
        "  print(\"logic!\")\n",
        "else:\n",
        "  print(\"no logic :(\")"
      ],
      "execution_count": 60,
      "outputs": [
        {
          "output_type": "stream",
          "text": [
            "logic!\n"
          ],
          "name": "stdout"
        }
      ]
    },
    {
      "cell_type": "code",
      "metadata": {
        "id": "-aEudjONM_qb",
        "outputId": "069c972e-70f3-489c-d388-25ba3c6eeada",
        "colab": {
          "base_uri": "https://localhost:8080/",
          "height": 35
        }
      },
      "source": [
        "places_to_visit = [\"area 51\", \"bermuda triangle\", \"el dorado\"]\n",
        "\n",
        "if \"atlantis\" not in places_to_visit: # for lists, we can use \"in\" and \"not in\" to return a Boolean\n",
        "  places_to_visit.append(\"atlantis\")\n",
        "else:\n",
        "  places_to_visit\n",
        "\n",
        "places_to_visit\n"
      ],
      "execution_count": 61,
      "outputs": [
        {
          "output_type": "execute_result",
          "data": {
            "text/plain": [
              "['area 51', 'bermuda triangle', 'el dorado', 'atlantis']"
            ]
          },
          "metadata": {
            "tags": []
          },
          "execution_count": 61
        }
      ]
    },
    {
      "cell_type": "code",
      "metadata": {
        "id": "wk6I0faWN73g",
        "outputId": "25e04b00-f364-4429-cd2b-c598b2f79797",
        "colab": {
          "base_uri": "https://localhost:8080/",
          "height": 52
        }
      },
      "source": [
        "toothbrushes_packed = 100\n",
        "\n",
        "if toothbrushes_packed == 0:\n",
        "  toothbrushes_packed += 1 # this format adds 1 to the variable on the left\n",
        "  print(\"Thanks for reminding me, I just packed\", toothbrushes_packed, \"!\")\n",
        "elif toothbrushes_packed == 1:\n",
        "  print(\"All set! I already packed\", toothbrushes_packed, \"!\")\n",
        "else:\n",
        "  print(\"Oops, looks like I put\", toothbrushes_packed, \"in my bag. I'll just take one.\")\n",
        "  toothbrushes_packed=1\n",
        "\n",
        "toothbrushes_packed"
      ],
      "execution_count": 62,
      "outputs": [
        {
          "output_type": "stream",
          "text": [
            "Oops, looks like I put 100 in my bag. I'll just take one.\n"
          ],
          "name": "stdout"
        },
        {
          "output_type": "execute_result",
          "data": {
            "text/plain": [
              "1"
            ]
          },
          "metadata": {
            "tags": []
          },
          "execution_count": 62
        }
      ]
    },
    {
      "cell_type": "markdown",
      "metadata": {
        "id": "eFd4S6b5QowM"
      },
      "source": [
        "## Loops\n",
        "\n",
        "Loops iterate through a sequence of items (such as a list) and perform an action on each item.\n",
        "\n",
        "For-loops are the most common type of loop that you will encounter. They take the following form:\n",
        "\n",
        "\n",
        "```\n",
        "for dummy_item_name in sequence:\n",
        "  ... dummy_item_name ...\n",
        "```\n",
        "\n"
      ]
    },
    {
      "cell_type": "code",
      "metadata": {
        "id": "hC0VIT1PRHD7",
        "outputId": "5680f539-3983-40ce-d546-67d518bf0151",
        "colab": {
          "base_uri": "https://localhost:8080/",
          "height": 35
        }
      },
      "source": [
        "place_name_length=[] # initializing an empty list before the loop allows us to simply add items to it within the loop\n",
        "\n",
        "for place in places_to_visit: # for each item in places_to_visit, assign the temporary label \"place\"\n",
        "  place_name_length.append(len(place)) # apply this action to each item \"place\" one by one\n",
        "\n",
        "place_name_length\n",
        "\n"
      ],
      "execution_count": 63,
      "outputs": [
        {
          "output_type": "execute_result",
          "data": {
            "text/plain": [
              "[7, 16, 9, 8]"
            ]
          },
          "metadata": {
            "tags": []
          },
          "execution_count": 63
        }
      ]
    },
    {
      "cell_type": "code",
      "metadata": {
        "id": "ya5Bl0cFRpAG",
        "outputId": "7fedec76-b4ee-4671-e107-395c9c6267a4",
        "colab": {
          "base_uri": "https://localhost:8080/",
          "height": 35
        }
      },
      "source": [
        "reverse_names = []\n",
        "\n",
        "for p in places_to_visit:\n",
        "  reverse_names.append(str(list(p).reverse()))\n",
        "\n",
        "reverse_names"
      ],
      "execution_count": 64,
      "outputs": [
        {
          "output_type": "execute_result",
          "data": {
            "text/plain": [
              "['None', 'None', 'None', 'None']"
            ]
          },
          "metadata": {
            "tags": []
          },
          "execution_count": 64
        }
      ]
    },
    {
      "cell_type": "markdown",
      "metadata": {
        "id": "iFNdnj8H-lXu"
      },
      "source": [
        "# Functions\n",
        "\n",
        "There are a large number of functions available in Python which perform specific tasks. We already saw one function, print( ). If a function for your purpose doesn't exist, you can always create your own very simply.\n",
        "\n",
        "Inside the parentheses of functions are **arguments**. These give more details on what actions the function should take. Arguments are separated by commas."
      ]
    },
    {
      "cell_type": "markdown",
      "metadata": {
        "id": "EBkfaJvI5FAj"
      },
      "source": [
        "## Pre-Built Functions"
      ]
    },
    {
      "cell_type": "code",
      "metadata": {
        "id": "hG6I5f_HJ2uC",
        "outputId": "ea1d32fd-3ed6-468d-d287-62cb22b96274",
        "colab": {
          "base_uri": "https://localhost:8080/",
          "height": 35
        }
      },
      "source": [
        "round(3.14, 1) # round takes 2 arguments, the first argument is the number to round and the second is the number of desired decimal places"
      ],
      "execution_count": 65,
      "outputs": [
        {
          "output_type": "execute_result",
          "data": {
            "text/plain": [
              "3.1"
            ]
          },
          "metadata": {
            "tags": []
          },
          "execution_count": 65
        }
      ]
    },
    {
      "cell_type": "markdown",
      "metadata": {
        "id": "RV2Xqbb0KK0V"
      },
      "source": [
        "Some functions require you to specify the argument name as well. For example, print( ) allows us to add a separator between items to print. You must specify this argument by typing \"sep=\" and identifying the character to print between items."
      ]
    },
    {
      "cell_type": "code",
      "metadata": {
        "id": "CxdykqDfLLdI",
        "outputId": "f98c14e3-7d5b-42d4-9d58-b0bf306b1cbd",
        "colab": {
          "base_uri": "https://localhost:8080/",
          "height": 35
        }
      },
      "source": [
        "print(\"please\", \"bring\", \"snacks\", sep=\"...\")"
      ],
      "execution_count": 66,
      "outputs": [
        {
          "output_type": "stream",
          "text": [
            "please...bring...snacks\n"
          ],
          "name": "stdout"
        }
      ]
    },
    {
      "cell_type": "markdown",
      "metadata": {
        "id": "1sKrirW4ypCj"
      },
      "source": [
        "A full list of Python's built in functions are here: https://docs.python.org/3/library/functions.html .\n",
        "\n",
        "Some of the most important functions here are ones that force variables to become different types such as set( ), str( ) and range( ) among others. You wil learn about these types in the next topic of the tutorial.\n",
        "\n",
        "Note that in most cases, you will be loading a **library** of new functions to add to these built-in functions. We will be looking at libraries soon."
      ]
    },
    {
      "cell_type": "markdown",
      "metadata": {
        "id": "dN7carUw5JLT"
      },
      "source": [
        "## Creating Functions\n",
        "\n",
        "It is very easy to create your own new function in Python. The following form is necessary:\n",
        "\n",
        "\n",
        "```\n",
        "def function_name (arg1, arg2 = default_value, arg3 ...):\n",
        "    ...arg1...arg2...arg3...\n",
        "    return val;\n",
        "```\n",
        "\n",
        "Let's look at some examples.\n",
        "\n",
        "\n",
        "\n"
      ]
    },
    {
      "cell_type": "code",
      "metadata": {
        "id": "ykf8qvBq5IY0",
        "outputId": "c1dcbe07-ef46-4c9a-f9ae-89cef9a3f25f",
        "colab": {
          "base_uri": "https://localhost:8080/",
          "height": 35
        }
      },
      "source": [
        "def div_two(x):\n",
        "    print(x/2)\n",
        "\n",
        "div_two(500)"
      ],
      "execution_count": 67,
      "outputs": [
        {
          "output_type": "stream",
          "text": [
            "250.0\n"
          ],
          "name": "stdout"
        }
      ]
    },
    {
      "cell_type": "code",
      "metadata": {
        "id": "kutf8szB9Ytv",
        "outputId": "9123317d-ef0f-4034-f5c4-3873c526f63a",
        "colab": {
          "base_uri": "https://localhost:8080/",
          "height": 35
        }
      },
      "source": [
        "def add_dramatic_pause(word1,word2, drama_level=1):\n",
        "  \"\"\" Puts a desired number of elipses between two words. \n",
        "  Very useful if you want a lot of drama. \"\"\" # using three quotation marks is standard to describe your function, this is a multi-line comment\n",
        "  dramatic_phrase = word1 + \"...\"*drama_level + word2\n",
        "  return dramatic_phrase\n",
        "\n",
        "add_dramatic_pause(\"I'll come back\", \"never!\") # since drama_level has a default value of 1, we can omit it in the call if that level is ok"
      ],
      "execution_count": 70,
      "outputs": [
        {
          "output_type": "execute_result",
          "data": {
            "application/vnd.google.colaboratory.intrinsic+json": {
              "type": "string"
            },
            "text/plain": [
              "\"I'll come back...never!\""
            ]
          },
          "metadata": {
            "tags": []
          },
          "execution_count": 70
        }
      ]
    },
    {
      "cell_type": "code",
      "metadata": {
        "id": "1XUjV3sUBmFx",
        "outputId": "5039eb0d-e08a-4e7c-9f08-15f156371ad8",
        "colab": {
          "base_uri": "https://localhost:8080/",
          "height": 35
        }
      },
      "source": [
        "last_words = add_dramatic_pause(\"please\", \"bring me a cookie.\", drama_level=3) # by using return, you can assign the output to a variable\n",
        "\n",
        "last_words"
      ],
      "execution_count": 71,
      "outputs": [
        {
          "output_type": "execute_result",
          "data": {
            "application/vnd.google.colaboratory.intrinsic+json": {
              "type": "string"
            },
            "text/plain": [
              "'please.........bring me a cookie.'"
            ]
          },
          "metadata": {
            "tags": []
          },
          "execution_count": 71
        }
      ]
    },
    {
      "cell_type": "code",
      "metadata": {
        "id": "7iNSBowxES1T",
        "outputId": "9dc65c0b-8297-4045-ad8c-f6548468ca54",
        "colab": {
          "base_uri": "https://localhost:8080/",
          "height": 35
        }
      },
      "source": [
        "def create_pizza_controversy(): # your whole function can just be an execution of other functions\n",
        "  pizza_drama = add_dramatic_pause(\"In my opinion\", \"pineapple doesn't belong on pizza\", drama_level=2)\n",
        "  return pizza_drama\n",
        "\n",
        "create_pizza_controversy()"
      ],
      "execution_count": 72,
      "outputs": [
        {
          "output_type": "execute_result",
          "data": {
            "application/vnd.google.colaboratory.intrinsic+json": {
              "type": "string"
            },
            "text/plain": [
              "\"In my opinion......pineapple doesn't belong on pizza\""
            ]
          },
          "metadata": {
            "tags": []
          },
          "execution_count": 72
        }
      ]
    },
    {
      "cell_type": "markdown",
      "metadata": {
        "id": "p9ggSBMsCbeu"
      },
      "source": [
        "## Lambda Functions\n",
        "\n",
        "We can also create short functions using the following format:\n",
        "```\n",
        "functionname = lambda arg1, arg2: ...arg1...arg2\n",
        "```\n",
        "Let's create a similar example to before using this format.\n"
      ]
    },
    {
      "cell_type": "code",
      "metadata": {
        "id": "GVCv1sswDUcN",
        "outputId": "c0fcd579-525d-4004-df12-f96544f76c1f",
        "colab": {
          "base_uri": "https://localhost:8080/",
          "height": 0
        }
      },
      "source": [
        "alternative_drama = lambda word1, word2, drama_level=1: word1 + \"!!!\"*drama_level + word2 + '!!!'*drama_level\n",
        "\n",
        "alternative_drama(\"please\", \"bring me a cookie\")"
      ],
      "execution_count": 73,
      "outputs": [
        {
          "output_type": "execute_result",
          "data": {
            "application/vnd.google.colaboratory.intrinsic+json": {
              "type": "string"
            },
            "text/plain": [
              "'please!!!bring me a cookie!!!'"
            ]
          },
          "metadata": {
            "tags": []
          },
          "execution_count": 73
        }
      ]
    },
    {
      "cell_type": "markdown",
      "metadata": {
        "id": "bnQRgOohz_TH"
      },
      "source": [
        "# Libraries\n",
        "\n",
        "Python has a plethora of libraries which serve an even more enormous amount of purposes. In this course, you will encounter a lot of NumPy, Pandas, matplotlib, Seaborn and Sci-Kit Learn. Many others will likely come of use which you may have to dig into yourself for your own purposes.\n",
        "\n",
        "To begin using a library, we must install it. This can be done in several ways:\n",
        "\n",
        "1.   Install manually via Anaconda Netvigator (Environments)\n",
        "2.   Install via Anaconda terminal (advised at set-up stage) - recommended\n",
        "3.   Install in Jupyter notebook (!{sys.executable} -m pip install numpy OR !conda install --yes --prefix {sys.prefix} numpy)\n",
        "4.   Install in Jupyter notebook via !pip install - not recommended\n",
        "\n",
        "After a successful installation, you must import it. Often, we will use \"as\" afterwards to give it an alias. There are common aliases for many libraries. For example, NumPy is always given np and Pandas, pd.\n",
        "\n",
        "If you want to use a specific function from this library, first type the library name (or alias) and then \".\", then the function name. You can also rename the function for simpler use later."
      ]
    },
    {
      "cell_type": "code",
      "metadata": {
        "id": "RxFgp4F-0QFG"
      },
      "source": [
        "# math functionality\n",
        "import numpy as np\n",
        "# data frame capabilities similar to data.table in R\n",
        "import pandas as pd\n",
        "# plotting functionality\n",
        "import matplotlib.pyplot as plt\n",
        "%matplotlib inline\n",
        "# statistical data visualization\n",
        "import seaborn as sns\n",
        "# scikit-learn (sklearn) is *the* standard package for machine learning in python"
      ],
      "execution_count": 74,
      "outputs": []
    },
    {
      "cell_type": "code",
      "metadata": {
        "id": "yUIWiR0J0tRp",
        "outputId": "2ff9a60f-c783-45f3-f081-17f6ef31038a",
        "colab": {
          "base_uri": "https://localhost:8080/",
          "height": 0
        }
      },
      "source": [
        "np.mean([2, 4, 6])"
      ],
      "execution_count": 75,
      "outputs": [
        {
          "output_type": "execute_result",
          "data": {
            "text/plain": [
              "4.0"
            ]
          },
          "metadata": {
            "tags": []
          },
          "execution_count": 75
        }
      ]
    },
    {
      "cell_type": "code",
      "metadata": {
        "id": "6N3LfitS1r4-",
        "outputId": "910e8794-6501-4f9c-874a-65d565e9bff2",
        "colab": {
          "base_uri": "https://localhost:8080/",
          "height": 0
        }
      },
      "source": [
        "average = np.mean # this now assigns the variable average to act like np.mean()\n",
        "\n",
        "average([2,4,6])"
      ],
      "execution_count": 76,
      "outputs": [
        {
          "output_type": "execute_result",
          "data": {
            "text/plain": [
              "4.0"
            ]
          },
          "metadata": {
            "tags": []
          },
          "execution_count": 76
        }
      ]
    },
    {
      "cell_type": "markdown",
      "metadata": {
        "id": "BCg2OM1a01Qj"
      },
      "source": [
        "If you only want to import a specific function from a library instead of the whole thing, you can use the following format:\n",
        "\n",
        "> from _library_ import _function_\n",
        "\n",
        "This saves disc space and reduces the chance that you'll have multiple functions of the same name imported. \n",
        "\n",
        "You also do not have to write the library name in front of the function when you do this."
      ]
    },
    {
      "cell_type": "code",
      "metadata": {
        "id": "PFLJXt5j0z5D",
        "outputId": "312fd686-49eb-43e5-d007-19dfa9f1f337",
        "colab": {
          "base_uri": "https://localhost:8080/",
          "height": 0
        }
      },
      "source": [
        "from sklearn.preprocessing import StandardScaler\n",
        "\n",
        "StandardScaler([2,4,6, 1000])"
      ],
      "execution_count": 77,
      "outputs": [
        {
          "output_type": "execute_result",
          "data": {
            "text/plain": [
              "StandardScaler(copy=[2, 4, 6, 1000], with_mean=True, with_std=True)"
            ]
          },
          "metadata": {
            "tags": []
          },
          "execution_count": 77
        }
      ]
    },
    {
      "cell_type": "markdown",
      "metadata": {
        "id": "yBX1b_dURFka"
      },
      "source": [
        "# Getting Help\n",
        "\n",
        "Using help( ) and where to look if you get stuck"
      ]
    },
    {
      "cell_type": "markdown",
      "metadata": {
        "id": "JKyldpZfaD6b"
      },
      "source": [
        "# NumPy\n",
        "\n",
        "This package is one of the most important to understand for data science and business analytics. It includes many functions and data types that speed up task time when dealing with numbers."
      ]
    },
    {
      "cell_type": "code",
      "metadata": {
        "id": "N4p2l_-VaY2v",
        "outputId": "1f98906b-8319-462d-e266-321945361237",
        "colab": {
          "base_uri": "https://localhost:8080/",
          "height": 0
        }
      },
      "source": [
        "import numpy as np\n",
        "\n",
        "ourlist = [1,2,3,4,5]\n",
        "ourlist"
      ],
      "execution_count": 78,
      "outputs": [
        {
          "output_type": "execute_result",
          "data": {
            "text/plain": [
              "[1, 2, 3, 4, 5]"
            ]
          },
          "metadata": {
            "tags": []
          },
          "execution_count": 78
        }
      ]
    },
    {
      "cell_type": "code",
      "metadata": {
        "id": "9dwBFjNEaqDx",
        "outputId": "bc8864c7-18a5-4619-b233-252e9b08d149",
        "colab": {
          "base_uri": "https://localhost:8080/",
          "height": 0
        }
      },
      "source": [
        "np.array(ourlist)"
      ],
      "execution_count": 79,
      "outputs": [
        {
          "output_type": "execute_result",
          "data": {
            "text/plain": [
              "array([1, 2, 3, 4, 5])"
            ]
          },
          "metadata": {
            "tags": []
          },
          "execution_count": 79
        }
      ]
    },
    {
      "cell_type": "code",
      "metadata": {
        "id": "3wUEJsfYasZ1",
        "outputId": "c4d21d9f-18d8-4ee4-8eca-454c4083bf28",
        "colab": {
          "base_uri": "https://localhost:8080/",
          "height": 0
        }
      },
      "source": [
        "print(np.sqrt(ourlist),np.exp(ourlist))"
      ],
      "execution_count": 80,
      "outputs": [
        {
          "output_type": "stream",
          "text": [
            "[1.         1.41421356 1.73205081 2.         2.23606798] [  2.71828183   7.3890561   20.08553692  54.59815003 148.4131591 ]\n"
          ],
          "name": "stdout"
        }
      ]
    },
    {
      "cell_type": "code",
      "metadata": {
        "id": "3UoFH92Hatpv",
        "outputId": "c7dc3b0e-6ad8-40a8-d0da-908f8504822d",
        "colab": {
          "base_uri": "https://localhost:8080/",
          "height": 0
        }
      },
      "source": [
        "listoflists=[[1,2,3],[4,5,6],[7,8,9]]\n",
        "listoflists"
      ],
      "execution_count": 81,
      "outputs": [
        {
          "output_type": "execute_result",
          "data": {
            "text/plain": [
              "[[1, 2, 3], [4, 5, 6], [7, 8, 9]]"
            ]
          },
          "metadata": {
            "tags": []
          },
          "execution_count": 81
        }
      ]
    },
    {
      "cell_type": "code",
      "metadata": {
        "id": "8rTP7QTJavMX",
        "outputId": "1cc69b60-a6b2-49b1-af94-2d992e56c1e3",
        "colab": {
          "base_uri": "https://localhost:8080/",
          "height": 0
        }
      },
      "source": [
        "np.array(listoflists)"
      ],
      "execution_count": 82,
      "outputs": [
        {
          "output_type": "execute_result",
          "data": {
            "text/plain": [
              "array([[1, 2, 3],\n",
              "       [4, 5, 6],\n",
              "       [7, 8, 9]])"
            ]
          },
          "metadata": {
            "tags": []
          },
          "execution_count": 82
        }
      ]
    },
    {
      "cell_type": "code",
      "metadata": {
        "id": "wZEKJmljayRj",
        "outputId": "111e02f6-bd77-4664-c267-d6dfd6156397",
        "colab": {
          "base_uri": "https://localhost:8080/",
          "height": 0
        }
      },
      "source": [
        "np.arange(0,10)"
      ],
      "execution_count": 83,
      "outputs": [
        {
          "output_type": "execute_result",
          "data": {
            "text/plain": [
              "array([0, 1, 2, 3, 4, 5, 6, 7, 8, 9])"
            ]
          },
          "metadata": {
            "tags": []
          },
          "execution_count": 83
        }
      ]
    },
    {
      "cell_type": "code",
      "metadata": {
        "id": "6ahvE6O7a7li",
        "outputId": "7fc4bf74-575f-4a2d-bfca-08bcd1a5b11a",
        "colab": {
          "base_uri": "https://localhost:8080/",
          "height": 0
        }
      },
      "source": [
        "np.ones((3,4)) # matrix with all 1s"
      ],
      "execution_count": 84,
      "outputs": [
        {
          "output_type": "execute_result",
          "data": {
            "text/plain": [
              "array([[1., 1., 1., 1.],\n",
              "       [1., 1., 1., 1.],\n",
              "       [1., 1., 1., 1.]])"
            ]
          },
          "metadata": {
            "tags": []
          },
          "execution_count": 84
        }
      ]
    },
    {
      "cell_type": "code",
      "metadata": {
        "id": "ZtSDaSkYa9cx",
        "outputId": "404d1460-9488-4f79-92b6-d0f4c569de58",
        "colab": {
          "base_uri": "https://localhost:8080/",
          "height": 0
        }
      },
      "source": [
        "np.linspace(0,5,10)"
      ],
      "execution_count": 85,
      "outputs": [
        {
          "output_type": "execute_result",
          "data": {
            "text/plain": [
              "array([0.        , 0.55555556, 1.11111111, 1.66666667, 2.22222222,\n",
              "       2.77777778, 3.33333333, 3.88888889, 4.44444444, 5.        ])"
            ]
          },
          "metadata": {
            "tags": []
          },
          "execution_count": 85
        }
      ]
    },
    {
      "cell_type": "code",
      "metadata": {
        "id": "Sl0EAjrfa_hY",
        "outputId": "ef0ae21e-78af-4c95-b72d-b8020bbf657d",
        "colab": {
          "base_uri": "https://localhost:8080/",
          "height": 0
        }
      },
      "source": [
        "np.eye(6) #identity matrix"
      ],
      "execution_count": 86,
      "outputs": [
        {
          "output_type": "execute_result",
          "data": {
            "text/plain": [
              "array([[1., 0., 0., 0., 0., 0.],\n",
              "       [0., 1., 0., 0., 0., 0.],\n",
              "       [0., 0., 1., 0., 0., 0.],\n",
              "       [0., 0., 0., 1., 0., 0.],\n",
              "       [0., 0., 0., 0., 1., 0.],\n",
              "       [0., 0., 0., 0., 0., 1.]])"
            ]
          },
          "metadata": {
            "tags": []
          },
          "execution_count": 86
        }
      ]
    },
    {
      "cell_type": "code",
      "metadata": {
        "id": "c_Y8gaZZbEsL",
        "outputId": "3338ffcd-d52a-4591-f2ac-f16dde299ab8",
        "colab": {
          "base_uri": "https://localhost:8080/",
          "height": 0
        }
      },
      "source": [
        "# setting a value with index range (broadcasting)\n",
        "some_array = np.arange(0,20)\n",
        "some_array[0:5]=0\n",
        "some_array"
      ],
      "execution_count": 87,
      "outputs": [
        {
          "output_type": "execute_result",
          "data": {
            "text/plain": [
              "array([ 0,  0,  0,  0,  0,  5,  6,  7,  8,  9, 10, 11, 12, 13, 14, 15, 16,\n",
              "       17, 18, 19])"
            ]
          },
          "metadata": {
            "tags": []
          },
          "execution_count": 87
        }
      ]
    },
    {
      "cell_type": "code",
      "metadata": {
        "id": "bJMGgfS6bL0_",
        "outputId": "79efdc14-721b-4c6f-a205-35f4675e45c1",
        "colab": {
          "base_uri": "https://localhost:8080/",
          "height": 0
        }
      },
      "source": [
        "#Important note!\n",
        "slice_of_some_array = some_array[0:4] # let's take a slice of this array and assign it to a new variable\n",
        "slice_of_some_array"
      ],
      "execution_count": 88,
      "outputs": [
        {
          "output_type": "execute_result",
          "data": {
            "text/plain": [
              "array([0, 0, 0, 0])"
            ]
          },
          "metadata": {
            "tags": []
          },
          "execution_count": 88
        }
      ]
    },
    {
      "cell_type": "code",
      "metadata": {
        "id": "KZ0ppfpFbPny",
        "outputId": "6c068d10-2a9a-4495-9326-8f24e42655fb",
        "colab": {
          "base_uri": "https://localhost:8080/",
          "height": 0
        }
      },
      "source": [
        "slice_of_some_array[:] = 999 # change some values in the array\n",
        "slice_of_some_array"
      ],
      "execution_count": 89,
      "outputs": [
        {
          "output_type": "execute_result",
          "data": {
            "text/plain": [
              "array([999, 999, 999, 999])"
            ]
          },
          "metadata": {
            "tags": []
          },
          "execution_count": 89
        }
      ]
    },
    {
      "cell_type": "code",
      "metadata": {
        "id": "gebOUZcXbTVi",
        "outputId": "6f965eea-bd22-40b5-bde2-2ba6d8abfa6f",
        "colab": {
          "base_uri": "https://localhost:8080/",
          "height": 0
        }
      },
      "source": [
        "some_array # remember how when we changed a renamed list, the original list changed? Same problem!"
      ],
      "execution_count": 90,
      "outputs": [
        {
          "output_type": "execute_result",
          "data": {
            "text/plain": [
              "array([999, 999, 999, 999,   0,   5,   6,   7,   8,   9,  10,  11,  12,\n",
              "        13,  14,  15,  16,  17,  18,  19])"
            ]
          },
          "metadata": {
            "tags": []
          },
          "execution_count": 90
        }
      ]
    },
    {
      "cell_type": "code",
      "metadata": {
        "id": "QhtGlV7KbUr7",
        "outputId": "ad6a2cd7-259f-4571-f2c5-67ff7599e38f",
        "colab": {
          "base_uri": "https://localhost:8080/",
          "height": 0
        }
      },
      "source": [
        "slice_of_some_array=some_array[0:4].copy() # create a separate duplicate to change independently\n",
        "slice_of_some_array"
      ],
      "execution_count": 91,
      "outputs": [
        {
          "output_type": "execute_result",
          "data": {
            "text/plain": [
              "array([999, 999, 999, 999])"
            ]
          },
          "metadata": {
            "tags": []
          },
          "execution_count": 91
        }
      ]
    },
    {
      "cell_type": "code",
      "metadata": {
        "id": "U47KTI8ibWSC",
        "outputId": "b976e53f-cf65-49ef-fced-f1ba6648bc3f",
        "colab": {
          "base_uri": "https://localhost:8080/",
          "height": 0
        }
      },
      "source": [
        "slice_of_some_array[:]=0 # reset some values\n",
        "some_array # now we see no changes occurred to the original"
      ],
      "execution_count": 92,
      "outputs": [
        {
          "output_type": "execute_result",
          "data": {
            "text/plain": [
              "array([999, 999, 999, 999,   0,   5,   6,   7,   8,   9,  10,  11,  12,\n",
              "        13,  14,  15,  16,  17,  18,  19])"
            ]
          },
          "metadata": {
            "tags": []
          },
          "execution_count": 92
        }
      ]
    },
    {
      "cell_type": "code",
      "metadata": {
        "id": "R_B6i4c2bYgt",
        "outputId": "58a71e43-4689-4473-90dc-41e71bde9ba4",
        "colab": {
          "base_uri": "https://localhost:8080/",
          "height": 0
        }
      },
      "source": [
        "x = 10\n",
        "some_array[some_array>x]"
      ],
      "execution_count": 93,
      "outputs": [
        {
          "output_type": "execute_result",
          "data": {
            "text/plain": [
              "array([999, 999, 999, 999,  11,  12,  13,  14,  15,  16,  17,  18,  19])"
            ]
          },
          "metadata": {
            "tags": []
          },
          "execution_count": 93
        }
      ]
    },
    {
      "cell_type": "code",
      "metadata": {
        "id": "nMcggsVWbfSc",
        "outputId": "dae5cd70-b633-48d6-ebc4-3a33e21bb483",
        "colab": {
          "base_uri": "https://localhost:8080/",
          "height": 0
        }
      },
      "source": [
        "# randomization will matter a lot for us\n",
        "np.random.randn(2,4)"
      ],
      "execution_count": 94,
      "outputs": [
        {
          "output_type": "execute_result",
          "data": {
            "text/plain": [
              "array([[ 0.05472211, -1.46288078, -2.39800305,  0.69920275],\n",
              "       [-1.81155481,  1.08846489, -1.8082044 ,  0.93481773]])"
            ]
          },
          "metadata": {
            "tags": []
          },
          "execution_count": 94
        }
      ]
    },
    {
      "cell_type": "code",
      "metadata": {
        "id": "0sHbmAVKbhep",
        "outputId": "196537f3-ac4c-4bdd-be7c-563c1553a095",
        "colab": {
          "base_uri": "https://localhost:8080/",
          "height": 0
        }
      },
      "source": [
        "# return random integers from 'low' (inclusive) to 'high' (exclusive)\n",
        "np.random.randint(1,100,5)"
      ],
      "execution_count": 95,
      "outputs": [
        {
          "output_type": "execute_result",
          "data": {
            "text/plain": [
              "array([71,  6, 34, 33, 93])"
            ]
          },
          "metadata": {
            "tags": []
          },
          "execution_count": 95
        }
      ]
    },
    {
      "cell_type": "code",
      "metadata": {
        "id": "ugGWz8UWbk-B",
        "outputId": "4493079a-ca4a-4d04-e57d-1ac3fdb08be3",
        "colab": {
          "base_uri": "https://localhost:8080/",
          "height": 0
        }
      },
      "source": [
        "other_array = np.arange(25)\n",
        "other_array # other_array.TAB will show you which methods you can use"
      ],
      "execution_count": 96,
      "outputs": [
        {
          "output_type": "execute_result",
          "data": {
            "text/plain": [
              "array([ 0,  1,  2,  3,  4,  5,  6,  7,  8,  9, 10, 11, 12, 13, 14, 15, 16,\n",
              "       17, 18, 19, 20, 21, 22, 23, 24])"
            ]
          },
          "metadata": {
            "tags": []
          },
          "execution_count": 96
        }
      ]
    },
    {
      "cell_type": "code",
      "metadata": {
        "id": "3UpBrzP8bm3k",
        "outputId": "adc8a141-9047-4b45-9d96-aa5c8a9b5c17",
        "colab": {
          "base_uri": "https://localhost:8080/",
          "height": 0
        }
      },
      "source": [
        "other_array.max() # common method for arrays"
      ],
      "execution_count": 97,
      "outputs": [
        {
          "output_type": "execute_result",
          "data": {
            "text/plain": [
              "24"
            ]
          },
          "metadata": {
            "tags": []
          },
          "execution_count": 97
        }
      ]
    },
    {
      "cell_type": "code",
      "metadata": {
        "id": "wF_4LqM-boAz",
        "outputId": "6da50f8b-d738-4279-f582-2602ab9a365e",
        "colab": {
          "base_uri": "https://localhost:8080/",
          "height": 0
        }
      },
      "source": [
        "other_array.reshape(5,5) # another important method"
      ],
      "execution_count": 98,
      "outputs": [
        {
          "output_type": "execute_result",
          "data": {
            "text/plain": [
              "array([[ 0,  1,  2,  3,  4],\n",
              "       [ 5,  6,  7,  8,  9],\n",
              "       [10, 11, 12, 13, 14],\n",
              "       [15, 16, 17, 18, 19],\n",
              "       [20, 21, 22, 23, 24]])"
            ]
          },
          "metadata": {
            "tags": []
          },
          "execution_count": 98
        }
      ]
    },
    {
      "cell_type": "code",
      "metadata": {
        "id": "6XZLk5e-bpRG",
        "outputId": "9af0446f-4431-435d-d53e-5879a6fb4325",
        "colab": {
          "base_uri": "https://localhost:8080/",
          "height": 0
        }
      },
      "source": [
        "other_array.shape # this is an ATTRIBUTE rather than a method"
      ],
      "execution_count": 99,
      "outputs": [
        {
          "output_type": "execute_result",
          "data": {
            "text/plain": [
              "(25,)"
            ]
          },
          "metadata": {
            "tags": []
          },
          "execution_count": 99
        }
      ]
    },
    {
      "cell_type": "markdown",
      "metadata": {
        "id": "zkLseolUvDlu"
      },
      "source": [
        "# To be edited\n",
        "\n",
        "Will add links about simple things here if students are curious\n",
        "\n",
        "https://docs.python.org/2.4/lib/typesnumeric.html\n",
        "\n"
      ]
    },
    {
      "cell_type": "markdown",
      "metadata": {
        "id": "jQUageFNRD1C"
      },
      "source": [
        "## Dictionaries\n",
        "\n",
        "Similar to lists, dictionaries are containers of items. However, unlike a list, dictionaries bind a key with its values. In addition to indexing to find values, we can just use the key!"
      ]
    },
    {
      "cell_type": "code",
      "metadata": {
        "id": "02pqPTmwYfmL"
      },
      "source": [
        "geo_per_feature = {\n",
        "    'country' : [\"Lesotho\", \"Laos\", \"Luxembourg\"],\n",
        "    'capital' : [\"Maseru\", \"Vientiane\", \"Luxembourg\"],\n",
        "    'continent' : [\"Africa\", \"Asia\", \"Europe\"]\n",
        "}\n",
        "\n",
        "geo_per_feature['continent'] # doesn't this look like reading down a column of data for continents?"
      ],
      "execution_count": null,
      "outputs": []
    },
    {
      "cell_type": "code",
      "metadata": {
        "id": "1DDuIBe1Z8Fz"
      },
      "source": [
        "geo_per_country = {\n",
        "    \"Lesotho\":{\"capital\": \"Maseru\", \"continent\" : \"Africa\"},\n",
        "    \"Laos\":{\"capital\": \"Vientiane\",\"continent\" :  \"Asia\"}, \n",
        "    \"Luxembourg\":{\"capital\": \"Luxembourg\", \"continent\" : \"Europe\"}\n",
        "}\n",
        "\n",
        "geo_per_country['Laos'] # doesn't this look like reading a row of data for Laos?"
      ],
      "execution_count": null,
      "outputs": []
    },
    {
      "cell_type": "markdown",
      "metadata": {
        "id": "MFUTC3kkHViP"
      },
      "source": [
        "The real value in a dictionary lies in its fast ability to look up key-value pairs. It is not costly at all for a computer to do this which is very useful when data starts becoming overwhelmingly large."
      ]
    },
    {
      "cell_type": "code",
      "metadata": {
        "id": "WSWvtNcSn1LD"
      },
      "source": [
        "'''\n",
        "you could also use multi\n",
        "line strings, however these are normally used for making comments on f\n",
        "'''\n",
        "\n",
        "\n"
      ],
      "execution_count": null,
      "outputs": []
    },
    {
      "cell_type": "markdown",
      "metadata": {
        "id": "0ZgizRpSssKl"
      },
      "source": [
        "Note: using \"!\" at the beginning of a line runs code as if it were in the command prompt. Putting \"%\" in front of code causes the argument to be that entire line. Putting \"%%\" in front of code causes the argument to be the entire cell."
      ]
    },
    {
      "cell_type": "markdown",
      "metadata": {
        "id": "sQA38M9K_IOW"
      },
      "source": [
        "## Ranges\n",
        "\n",
        "Create a sequence of numbers using the format:\n",
        "\n",
        "> range(start, end, skip)\n",
        "\n",
        "This is a very efficient way to create a sequence of numbers with a pattern."
      ]
    },
    {
      "cell_type": "code",
      "metadata": {
        "id": "EzQID1jf_8m3"
      },
      "source": [
        "our_numbers = range(10,50,3)\n",
        "\n",
        "for number in our_numbers: # this is called a for loop, we will learn it soon\n",
        "  print(number)"
      ],
      "execution_count": null,
      "outputs": []
    },
    {
      "cell_type": "markdown",
      "metadata": {
        "id": "F54HU7k0ABYk"
      },
      "source": [
        "## Sets\n",
        "\n",
        "List where everything is unique. Duplicate items will be removed. Very useful when you need to check membership and differences. Converting a list to a set can be done by simply using the function set( ) on a list."
      ]
    },
    {
      "cell_type": "code",
      "metadata": {
        "id": "0LwOkCXxAMla"
      },
      "source": [
        "set_a = {\"cat\", \"dog\", \"mouse\"}\n",
        "\n",
        "set_b = {\"dog\", \"wolf\", \"hyena\"}\n",
        "\n",
        "set_a.difference(set_b)"
      ],
      "execution_count": null,
      "outputs": []
    },
    {
      "cell_type": "code",
      "metadata": {
        "id": "pqYbkfvZAgfb"
      },
      "source": [
        "set_a.intersection(set_b)"
      ],
      "execution_count": null,
      "outputs": []
    },
    {
      "cell_type": "code",
      "metadata": {
        "id": "MR48g23YAi1g"
      },
      "source": [
        "set_a.union(set_b)"
      ],
      "execution_count": null,
      "outputs": []
    },
    {
      "cell_type": "code",
      "metadata": {
        "id": "kieIPFYKF3Ny"
      },
      "source": [
        "set(whats_in_my_fridge) # turn a set into a list"
      ],
      "execution_count": null,
      "outputs": []
    }
  ]
}
{
 "cells": [
  {
   "cell_type": "markdown",
   "metadata": {},
   "source": [
    "# A brief introduction to Jupyter notebooks\n",
    "\n",
    "@adam -> add part from first ADAMS tutorial maybe with adjustments to introduce students to notebooks, their purpose, markdown and code cells, etc.\n",
    "\n",
    "\n",
    "[Markdown cheat sheet](https://github.com/adam-p/markdown-here/wiki/Markdown-Here-Cheatsheet#code) or this [Medium post](https://medium.com/analytics-vidhya/the-ultimate-markdown-guide-for-jupyter-notebook-d5e5abf728fd) \n",
    "\n",
    "Link to some page introducing add-ins to customize Jupyter"
   ]
  },
  {
   "cell_type": "markdown",
   "metadata": {
    "id": "7VeKJR1iY8lR"
   },
   "source": [
    "# Common Math Functions\n",
    "\n",
    "As a little introduction, let's first use Python as a calculator and see how it behaves. Notice that how the program can separate lines of code into cells. Cells can only display one output although all lines of code are executed. If you'd like it to produce multiple at once, it can be useful to use the print command as shown at the end.\n",
    "\n",
    "By adding the character \"#\", you are telling Python to ignore the following characters on the same line. This is called creating a commend and can be very useful to explain your code to others."
   ]
  },
  {
   "cell_type": "code",
   "execution_count": 1,
   "metadata": {
    "colab": {
     "base_uri": "https://localhost:8080/",
     "height": 34
    },
    "id": "U3hGuMdXXwr1",
    "outputId": "dbfdf9d5-f249-47ae-fa65-5f094923f2c4"
   },
   "outputs": [
    {
     "data": {
      "text/plain": [
       "2"
      ]
     },
     "execution_count": 1,
     "metadata": {
      "tags": []
     },
     "output_type": "execute_result"
    }
   ],
   "source": [
    "1+1 # Python will ignore everything after \"#\""
   ]
  },
  {
   "cell_type": "code",
   "execution_count": 2,
   "metadata": {
    "colab": {
     "base_uri": "https://localhost:8080/",
     "height": 34
    },
    "id": "h4QjhlRdZIlO",
    "outputId": "3bcfaefd-8840-486d-cbbd-f43b69500228"
   },
   "outputs": [
    {
     "data": {
      "text/plain": [
       "33.3"
      ]
     },
     "execution_count": 2,
     "metadata": {
      "tags": []
     },
     "output_type": "execute_result"
    }
   ],
   "source": [
    "333/10"
   ]
  },
  {
   "cell_type": "code",
   "execution_count": 3,
   "metadata": {
    "colab": {
     "base_uri": "https://localhost:8080/",
     "height": 34
    },
    "id": "U2Bp6LmbtmsZ",
    "outputId": "c9a68a7e-fd53-49aa-8229-592083a649b3"
   },
   "outputs": [
    {
     "data": {
      "text/plain": [
       "33"
      ]
     },
     "execution_count": 3,
     "metadata": {
      "tags": []
     },
     "output_type": "execute_result"
    }
   ],
   "source": [
    "333 // 10 # returns you the floor of the quotient (result of the division rounded down to the nearest integer)"
   ]
  },
  {
   "cell_type": "code",
   "execution_count": 4,
   "metadata": {
    "colab": {
     "base_uri": "https://localhost:8080/",
     "height": 34
    },
    "id": "Q8lcepY0ZJfh",
    "outputId": "2f7d3d7c-6336-4404-b920-704d6ec6441c"
   },
   "outputs": [
    {
     "data": {
      "text/plain": [
       "1.5"
      ]
     },
     "execution_count": 4,
     "metadata": {
      "tags": []
     },
     "output_type": "execute_result"
    }
   ],
   "source": [
    "1+1/2 # Python follows order of operations"
   ]
  },
  {
   "cell_type": "code",
   "execution_count": 5,
   "metadata": {
    "colab": {
     "base_uri": "https://localhost:8080/",
     "height": 34
    },
    "id": "3-rYmacKt6aa",
    "outputId": "dab7d1cb-899e-4ff6-dfd0-72c9553a0834"
   },
   "outputs": [
    {
     "data": {
      "text/plain": [
       "3"
      ]
     },
     "execution_count": 5,
     "metadata": {
      "tags": []
     },
     "output_type": "execute_result"
    }
   ],
   "source": [
    "333 % 10 # returns remainder of the division"
   ]
  },
  {
   "cell_type": "code",
   "execution_count": 6,
   "metadata": {
    "colab": {
     "base_uri": "https://localhost:8080/",
     "height": 34
    },
    "id": "rasjMTsdZQaY",
    "outputId": "6d7c7c08-8af6-47f1-9483-8ba51c2e524e"
   },
   "outputs": [
    {
     "data": {
      "text/plain": [
       "27"
      ]
     },
     "execution_count": 6,
     "metadata": {
      "tags": []
     },
     "output_type": "execute_result"
    }
   ],
   "source": [
    "3 ** 3 # Python uses \"**\" instead of \"^\" for exponents"
   ]
  },
  {
   "cell_type": "code",
   "execution_count": 7,
   "metadata": {
    "colab": {
     "base_uri": "https://localhost:8080/",
     "height": 34
    },
    "id": "NaS9qxJGcAHQ",
    "outputId": "01061155-aad1-4556-c1ca-80acc1eed4bf"
   },
   "outputs": [
    {
     "name": "stdout",
     "output_type": "stream",
     "text": [
      "2 4\n"
     ]
    }
   ],
   "source": [
    "print(1+1, 2+2) # if you need to print multiple items, separate them with a \",\" in the print() function. We will talk about functions soon."
   ]
  },
  {
   "cell_type": "markdown",
   "metadata": {
    "id": "r0dz5f-GZZbW"
   },
   "source": [
    "# Using Variables\n",
    "\n",
    "One very useful feature of nearly every programming language is the ability to give variables a fixed name. Simply use the formula:\n",
    "\n",
    "variable_name = desired_value\n",
    "\n",
    "After this, every time you type the variable, Python will refer to the value it has been assigned. If the same variable name is ever used, the value will be overwritten.\n",
    "\n",
    "Note that Python will consider all types of text as some kind of variable or command. If you ever want to create or reference actual text, it must be between quotation marks. This is called a string in Python. If you want Python to ignore text all together, use \"#\" to indicate a comment."
   ]
  },
  {
   "cell_type": "code",
   "execution_count": 8,
   "metadata": {
    "colab": {
     "base_uri": "https://localhost:8080/",
     "height": 34
    },
    "id": "BR0APH8EZVQX",
    "outputId": "7e7bcd3d-5434-414e-95d6-9fa49410d6a9"
   },
   "outputs": [
    {
     "data": {
      "text/plain": [
       "3"
      ]
     },
     "execution_count": 8,
     "metadata": {
      "tags": []
     },
     "output_type": "execute_result"
    }
   ],
   "source": [
    "a = 1 # all future cells will now refer to a as 1\n",
    "b = 2 # similarly, all future cells will refer to b as 2\n",
    "\n",
    "a+b"
   ]
  },
  {
   "cell_type": "code",
   "execution_count": 9,
   "metadata": {
    "colab": {
     "base_uri": "https://localhost:8080/",
     "height": 34
    },
    "id": "uX-mSDoLZgrv",
    "outputId": "47243364-1ce9-44e9-e101-d21282d418c2"
   },
   "outputs": [
    {
     "name": "stdout",
     "output_type": "stream",
     "text": [
      "1\n"
     ]
    }
   ],
   "source": [
    "print(a)"
   ]
  },
  {
   "cell_type": "code",
   "execution_count": 10,
   "metadata": {
    "colab": {
     "base_uri": "https://localhost:8080/",
     "height": 34
    },
    "id": "dtpGIaWPZjN_",
    "outputId": "5bef9f3c-7da5-44ee-831d-68e2e534009f"
   },
   "outputs": [
    {
     "data": {
      "text/plain": [
       "5"
      ]
     },
     "execution_count": 10,
     "metadata": {
      "tags": []
     },
     "output_type": "execute_result"
    }
   ],
   "source": [
    "a*5"
   ]
  },
  {
   "cell_type": "code",
   "execution_count": 11,
   "metadata": {
    "colab": {
     "base_uri": "https://localhost:8080/",
     "height": 34
    },
    "id": "erO3QQ3jc37m",
    "outputId": "923f1519-1b2c-4197-dafd-8f920f115047"
   },
   "outputs": [
    {
     "data": {
      "text/plain": [
       "32"
      ]
     },
     "execution_count": 11,
     "metadata": {
      "tags": []
     },
     "output_type": "execute_result"
    }
   ],
   "source": [
    "b ** 5 # note that \"**\" means exponent"
   ]
  },
  {
   "cell_type": "code",
   "execution_count": 12,
   "metadata": {
    "colab": {
     "base_uri": "https://localhost:8080/",
     "height": 34
    },
    "id": "wIBHVYW2Zkr3",
    "outputId": "0169d153-24fa-4a75-aea8-671e295a8380"
   },
   "outputs": [
    {
     "data": {
      "text/plain": [
       "502"
      ]
     },
     "execution_count": 12,
     "metadata": {
      "tags": []
     },
     "output_type": "execute_result"
    }
   ],
   "source": [
    "a = 500 # if you use the same variable name again, you overwrite the previous value\n",
    "\n",
    "a+b"
   ]
  },
  {
   "cell_type": "code",
   "execution_count": 13,
   "metadata": {
    "colab": {
     "base_uri": "https://localhost:8080/",
     "height": 34
    },
    "id": "JmwnRDGIv043",
    "outputId": "34f04f79-8329-46e1-ecf0-f32604ff9299"
   },
   "outputs": [
    {
     "data": {
      "text/plain": [
       "502"
      ]
     },
     "execution_count": 13,
     "metadata": {
      "tags": []
     },
     "output_type": "execute_result"
    }
   ],
   "source": [
    "# Python only displays the last line of output from a cell\n",
    "\n",
    "a*b # This line will be executed in Python, but since the next line causes an output and it comes afterwards, only its output will be displayed\n",
    "\n",
    "a+b"
   ]
  },
  {
   "cell_type": "code",
   "execution_count": 14,
   "metadata": {
    "colab": {
     "base_uri": "https://localhost:8080/",
     "height": 34
    },
    "id": "mdamvwcNOdeN",
    "outputId": "14810d46-e6e5-4af3-ff47-a4d29eec21cb"
   },
   "outputs": [
    {
     "name": "stdout",
     "output_type": "stream",
     "text": [
      "1000 502\n"
     ]
    }
   ],
   "source": [
    "print(a*b, a+b) # using print and a comma separating items will print everything"
   ]
  },
  {
   "cell_type": "markdown",
   "metadata": {},
   "source": [
    "The following line will produce an error because Python will interpret each word as a variable and try to look up the value assigned to each of these variables. Clearly, this will not work since we have no variable `can` or `I`."
   ]
  },
  {
   "cell_type": "code",
   "execution_count": 15,
   "metadata": {
    "colab": {
     "base_uri": "https://localhost:8080/",
     "height": 128
    },
    "id": "U9RsDfwWZ_iw",
    "outputId": "c964be68-f2ac-46db-ed68-f74f03230d58"
   },
   "outputs": [
    {
     "ename": "SyntaxError",
     "evalue": "ignored",
     "output_type": "error",
     "traceback": [
      "\u001b[0;36m  File \u001b[0;32m\"<ipython-input-15-ec4591f948cd>\"\u001b[0;36m, line \u001b[0;32m1\u001b[0m\n\u001b[0;31m    Can I just write? #this will generate an error because Python will try to look the value assigned to each word as a variable and find nothing\u001b[0m\n\u001b[0m        ^\u001b[0m\n\u001b[0;31mSyntaxError\u001b[0m\u001b[0;31m:\u001b[0m invalid syntax\n"
     ]
    }
   ],
   "source": [
    "Can I just write? "
   ]
  },
  {
   "cell_type": "markdown",
   "metadata": {},
   "source": [
    "Besides, the above statement is also incorrect from a syntactical point of view. Every programming language has specific rules that determine which statements are allowed and which will raise an error. Recall that you can use a markdown cell just like this cell to simply write plain text. Else, if you want to store a piece of text in a variable, you need quotation marks. We use double quotes in our examples but Python would also accept single quotes."
   ]
  },
  {
   "cell_type": "code",
   "execution_count": 2,
   "metadata": {
    "colab": {
     "base_uri": "https://localhost:8080/",
     "height": 34
    },
    "id": "p4lgFDRhNzjo",
    "outputId": "d59fc1a0-f713-41d3-8ff6-bcea47a42273"
   },
   "outputs": [
    {
     "name": "stdout",
     "output_type": "stream",
     "text": [
      "you can't add strings to numbers\n"
     ]
    }
   ],
   "source": [
    "a = \"you can't add strings to numbers\" # if you want to generate text for Python to remember, use quotation marks around the text to create a string (str for short)\n",
    "\n",
    "print(a)"
   ]
  },
  {
   "cell_type": "code",
   "execution_count": 18,
   "metadata": {
    "colab": {
     "base_uri": "https://localhost:8080/",
     "height": 35
    },
    "id": "P8plSRHFaOYP",
    "outputId": "9caa9cf6-4ce9-4134-a6f4-c0f2f8591b4c"
   },
   "outputs": [
    {
     "data": {
      "application/vnd.google.colaboratory.intrinsic+json": {
       "type": "string"
      },
      "text/plain": [
       "\"you can't add strings to numbers, but you can add strings together!\""
      ]
     },
     "execution_count": 18,
     "metadata": {
      "tags": []
     },
     "output_type": "execute_result"
    }
   ],
   "source": [
    "b = \", but you can add strings together!\"\n",
    "\n",
    "a+b # you can even concatenate (attach) strings if you'd like"
   ]
  },
  {
   "cell_type": "markdown",
   "metadata": {},
   "source": [
    "Interestingly, if you create a variable that stores text, Python provides you with some neat functionality to manipulate text. Consider the following example and note the dot behind the name of the variable. This is an important syntax pattern, which we will explain in more detail below. "
   ]
  },
  {
   "cell_type": "code",
   "execution_count": 5,
   "metadata": {},
   "outputs": [
    {
     "data": {
      "text/plain": [
       "\"YOU CAN'T ADD STRINGS TO NUMBERS\""
      ]
     },
     "execution_count": 5,
     "metadata": {},
     "output_type": "execute_result"
    }
   ],
   "source": [
    "a.upper()"
   ]
  },
  {
   "cell_type": "code",
   "execution_count": 6,
   "metadata": {},
   "outputs": [
    {
     "data": {
      "text/plain": [
       "\"you can't add strings to numbers\""
      ]
     },
     "execution_count": 6,
     "metadata": {},
     "output_type": "execute_result"
    }
   ],
   "source": [
    "a.lower()"
   ]
  },
  {
   "cell_type": "code",
   "execution_count": 9,
   "metadata": {},
   "outputs": [
    {
     "data": {
      "text/plain": [
       "True"
      ]
     },
     "execution_count": 9,
     "metadata": {},
     "output_type": "execute_result"
    }
   ],
   "source": [
    "a.islower()"
   ]
  },
  {
   "cell_type": "code",
   "execution_count": 10,
   "metadata": {},
   "outputs": [
    {
     "data": {
      "text/plain": [
       "False"
      ]
     },
     "execution_count": 10,
     "metadata": {},
     "output_type": "execute_result"
    }
   ],
   "source": [
    "a.upper().islower()  # This might look bizar. Try to figure out how this works"
   ]
  },
  {
   "cell_type": "markdown",
   "metadata": {
    "id": "pPiFOZeu03yW"
   },
   "source": [
    "# Functions\n",
    "\n",
    "There are a large number of functions avaialble in Python which perform specific tasks. We already saw one function, print( ). We also just saw functions like `islower()` in action.\n",
    "\n",
    "Inside the parentheses of functions are **arguments**. These give more details on what actions the function should take. Arguments are separated by commas."
   ]
  },
  {
   "cell_type": "code",
   "execution_count": 19,
   "metadata": {
    "colab": {
     "base_uri": "https://localhost:8080/",
     "height": 34
    },
    "id": "hG6I5f_HJ2uC",
    "outputId": "78d17fdd-4bfd-42ed-c883-63d2957bc32d"
   },
   "outputs": [
    {
     "data": {
      "text/plain": [
       "3.1"
      ]
     },
     "execution_count": 19,
     "metadata": {
      "tags": []
     },
     "output_type": "execute_result"
    }
   ],
   "source": [
    "round(3.14, 1) # round takes 2 arguments, the first argument is the number to round and the second is the number of desired decimal places"
   ]
  },
  {
   "cell_type": "markdown",
   "metadata": {
    "id": "RV2Xqbb0KK0V"
   },
   "source": [
    "Some functions require you to specify the argument name as well. For example, print( ) allows us to add a separator between items to print. You must specify this argument by typing \"sep=\" and identifying the character to print between items."
   ]
  },
  {
   "cell_type": "code",
   "execution_count": 20,
   "metadata": {
    "colab": {
     "base_uri": "https://localhost:8080/",
     "height": 34
    },
    "id": "CxdykqDfLLdI",
    "outputId": "fb947119-a83b-48ac-e8ac-d221ed1034be"
   },
   "outputs": [
    {
     "name": "stdout",
     "output_type": "stream",
     "text": [
      "please...bring...snacks\n"
     ]
    }
   ],
   "source": [
    "print(\"please\", \"bring\", \"snacks\", sep=\"...\")"
   ]
  },
  {
   "cell_type": "markdown",
   "metadata": {
    "id": "kj8xftILbIbh"
   },
   "source": [
    "# Data Types\n",
    "\n",
    "There are _many_ data types in Python. To check the type of an object, use the function type( ).\n",
    "\n",
    "\n",
    "The most common ones that you will encounter as a data scientist are:\n",
    "\n",
    "\n",
    "*   float\n",
    "*   integer\n",
    "*   string\n",
    "*   boolean (True/False value)\n",
    "*   list\n",
    "*   dictionary\n",
    "*   NumPy array (in future tutorials)\n",
    "*   Pandas Series (in future tutorials)\n",
    "*   Pandas DataFrame (in future tutorials\n",
    "\n",
    "Aside from these, you will definitely see many more. Let's explore these a bit.\n",
    "\n",
    "\n",
    "\n"
   ]
  },
  {
   "cell_type": "code",
   "execution_count": 21,
   "metadata": {
    "colab": {
     "base_uri": "https://localhost:8080/",
     "height": 34
    },
    "id": "D6RG79VGiOkN",
    "outputId": "967d78e7-b9c5-4dce-8f56-0c6a966b53c6"
   },
   "outputs": [
    {
     "name": "stdout",
     "output_type": "stream",
     "text": [
      "<class 'int'> <class 'float'>\n"
     ]
    }
   ],
   "source": [
    "a = 5\n",
    "\n",
    "b = 5.00\n",
    "\n",
    "print(type(a), type(b)) # integers have no decimals while floats do"
   ]
  },
  {
   "cell_type": "code",
   "execution_count": 22,
   "metadata": {
    "id": "OD6thTMwi9b9"
   },
   "outputs": [],
   "source": [
    "c = \"any text between single or double quotes is a string\" # you can use single or double quotes around strings\n",
    "d = 'any text between single or double quotes is a string'"
   ]
  },
  {
   "cell_type": "markdown",
   "metadata": {
    "id": "Df7IJwUaj18-"
   },
   "source": [
    "## Booleans\n",
    "\n",
    "**Booleans** check a condition and return True if the condition is satisfied or False if not.\n",
    "\n",
    "To check if something is equal and get a Boolean value, use \"==\". Recall that \"=\" assigns variables.\n",
    "\n",
    "You can also create conditions using \"<\", \">\" and:\n",
    "\n",
    "*   \">=\" greater than or equal to\n",
    "*   \"<=\" less than or equal to\n",
    "*   \"!=\" not equal to\n",
    "\n",
    "Note that you can create Booleans using other many methods which evaluate conditions.\n",
    "\n",
    "For example, there is the function isinstance(x, var_type) which returns the Boolean value if variable x is equivalent to the type specified."
   ]
  },
  {
   "cell_type": "code",
   "execution_count": 23,
   "metadata": {
    "colab": {
     "base_uri": "https://localhost:8080/",
     "height": 34
    },
    "id": "m6cC6-oAjzXP",
    "outputId": "bb6c62dc-31cf-4a70-d805-078b9d39fdd8"
   },
   "outputs": [
    {
     "name": "stdout",
     "output_type": "stream",
     "text": [
      "False True True False\n"
     ]
    }
   ],
   "source": [
    "a = 5\n",
    "\n",
    "b = 5.00\n",
    "\n",
    "print(a>b, a==b, a>=b, a!=b)"
   ]
  },
  {
   "cell_type": "code",
   "execution_count": 24,
   "metadata": {
    "colab": {
     "base_uri": "https://localhost:8080/",
     "height": 34
    },
    "id": "reU_bEd1lut3",
    "outputId": "e96573a5-34cc-471f-b808-7fb8474a1832"
   },
   "outputs": [
    {
     "name": "stdout",
     "output_type": "stream",
     "text": [
      "True\n"
     ]
    }
   ],
   "source": [
    "c = \"any text between single or double quotes is a string\"\n",
    "d = 'any text between single or double quotes is a string'\n",
    "\n",
    "print(c==d) # as mentioned, even though the second uses single quotations, it is equivalent in Python"
   ]
  },
  {
   "cell_type": "code",
   "execution_count": 25,
   "metadata": {
    "colab": {
     "base_uri": "https://localhost:8080/",
     "height": 34
    },
    "id": "EAfeqEEHl6U1",
    "outputId": "c75f7d16-2744-49fe-c6f5-d443e543ef9b"
   },
   "outputs": [
    {
     "name": "stdout",
     "output_type": "stream",
     "text": [
      "True\n"
     ]
    }
   ],
   "source": [
    "print(isinstance(c, str)) # many functions may return Boolean values like this which checks if variable c is a string (use the short form str), "
   ]
  },
  {
   "cell_type": "code",
   "execution_count": 26,
   "metadata": {
    "colab": {
     "base_uri": "https://localhost:8080/",
     "height": 34
    },
    "id": "7l2oNl0luZ3H",
    "outputId": "a8be4b86-2169-4c1b-9a75-188f3272491a"
   },
   "outputs": [
    {
     "name": "stdout",
     "output_type": "stream",
     "text": [
      "True True\n"
     ]
    }
   ],
   "source": [
    "print(True == 1, False == 0) # the Boolean value of True is equal to 1, similarly, the Boolean value of False is equal to 0. This will be useful for categorical variables."
   ]
  },
  {
   "cell_type": "code",
   "execution_count": 34,
   "metadata": {
    "colab": {
     "base_uri": "https://localhost:8080/",
     "height": 34
    },
    "id": "N80QBYDwPDJ5",
    "outputId": "ef5b4099-7d2c-4dd1-8993-3015a20a5d50"
   },
   "outputs": [
    {
     "name": "stdout",
     "output_type": "stream",
     "text": [
      "<class 'bool'> <class 'bool'>\n"
     ]
    }
   ],
   "source": [
    "# Python only recognizes False and True as a Boolean value, FALSE and false (TRUE and true) are considered possible variable names.\n",
    "print(type(False), type(True))"
   ]
  },
  {
   "cell_type": "code",
   "execution_count": 35,
   "metadata": {
    "colab": {
     "base_uri": "https://localhost:8080/",
     "height": 162
    },
    "id": "17OEWkgyQlZ1",
    "outputId": "cd7d8600-d021-471f-9d55-d94d34bb266a"
   },
   "outputs": [
    {
     "ename": "NameError",
     "evalue": "ignored",
     "output_type": "error",
     "traceback": [
      "\u001b[0;31m---------------------------------------------------------------------------\u001b[0m",
      "\u001b[0;31mNameError\u001b[0m                                 Traceback (most recent call last)",
      "\u001b[0;32m<ipython-input-35-89cc02aacc92>\u001b[0m in \u001b[0;36m<module>\u001b[0;34m()\u001b[0m\n\u001b[0;32m----> 1\u001b[0;31m \u001b[0mprint\u001b[0m\u001b[0;34m(\u001b[0m\u001b[0mtype\u001b[0m\u001b[0;34m(\u001b[0m\u001b[0mFALSE\u001b[0m\u001b[0;34m)\u001b[0m\u001b[0;34m)\u001b[0m\u001b[0;34m\u001b[0m\u001b[0;34m\u001b[0m\u001b[0m\n\u001b[0m",
      "\u001b[0;31mNameError\u001b[0m: name 'FALSE' is not defined"
     ]
    }
   ],
   "source": [
    "print(type(FALSE))"
   ]
  },
  {
   "cell_type": "markdown",
   "metadata": {
    "id": "4MkujAJju98-"
   },
   "source": [
    "## Lists, Indexing & Slicing\n",
    "\n",
    "**Lists** contain a number of items in sequence. The items can be of different types as well. Lists are created by putting contents sequentially in square brackets. You can initialize an empty list by putting an empty set of square brackets.\n",
    "\n",
    "To call items in a list, you can refer to their position or index in square brackets. Note that counting in Python starts at 0 (this is formally called 0 Indexing). This means that to access the first item in a list, you must call list_name[0]. Indexing calls the unique position of an item."
   ]
  },
  {
   "cell_type": "code",
   "execution_count": 28,
   "metadata": {
    "colab": {
     "base_uri": "https://localhost:8080/",
     "height": 34
    },
    "id": "fsOM2q3lvgvc",
    "outputId": "aeee63eb-d2de-4cab-b5e5-b10ad1320769"
   },
   "outputs": [
    {
     "data": {
      "text/plain": [
       "list"
      ]
     },
     "execution_count": 28,
     "metadata": {
      "tags": []
     },
     "output_type": "execute_result"
    }
   ],
   "source": [
    "just_some_empty_list = [] # initalizing empty lists will be useful later on, this simple trick is worth remembering\n",
    "\n",
    "type(just_some_empty_list)"
   ]
  },
  {
   "cell_type": "code",
   "execution_count": 29,
   "metadata": {
    "colab": {
     "base_uri": "https://localhost:8080/",
     "height": 35
    },
    "id": "aW4KDIK9vveT",
    "outputId": "72c08303-09d3-4993-bd44-1ec409482680"
   },
   "outputs": [
    {
     "data": {
      "application/vnd.google.colaboratory.intrinsic+json": {
       "type": "string"
      },
      "text/plain": [
       "'cucumber'"
      ]
     },
     "execution_count": 29,
     "metadata": {
      "tags": []
     },
     "output_type": "execute_result"
    }
   ],
   "source": [
    "whats_in_my_fridge = [\"cucumber\", \"pasta sauce\", \"leftovers\", \"margarine\", \"tomato\"]\n",
    "\n",
    "whats_in_my_fridge[0] # calls first element of list or the item at place/index 0"
   ]
  },
  {
   "cell_type": "code",
   "execution_count": 30,
   "metadata": {
    "colab": {
     "base_uri": "https://localhost:8080/",
     "height": 34
    },
    "id": "gHo02o5dxFgN",
    "outputId": "00b83486-411c-4656-b8ba-f54db291402a"
   },
   "outputs": [
    {
     "name": "stdout",
     "output_type": "stream",
     "text": [
      "['cucumber', 'kartoffelsalat', 'leftovers', 'margarine', 'tomato']\n"
     ]
    }
   ],
   "source": [
    "whats_in_my_fridge[1] = \"kartoffelsalat\" # you can replace items using indexing\n",
    "\n",
    "print(whats_in_my_fridge)"
   ]
  },
  {
   "cell_type": "code",
   "execution_count": 31,
   "metadata": {
    "colab": {
     "base_uri": "https://localhost:8080/",
     "height": 34
    },
    "id": "xOhY836jyVaA",
    "outputId": "5bbd1a71-1b23-4cb9-e2f6-ffd2a33a151e"
   },
   "outputs": [
    {
     "name": "stdout",
     "output_type": "stream",
     "text": [
      "['cucumber', 'kartoffelsalat', 'margarine', 'tomato']\n"
     ]
    }
   ],
   "source": [
    "del whats_in_my_fridge[2] #if I ate my leftovers, we can delete it from the list like so\n",
    "\n",
    "print(whats_in_my_fridge)"
   ]
  },
  {
   "cell_type": "markdown",
   "metadata": {
    "id": "PMjdqfJszoCr"
   },
   "source": [
    "Slicing is how data is often selected in Python. Use the index plus \":\". The \":\" can be read as _up to but not including_ .\n",
    "\n",
    "For example, 2:10 means _item 2 up to but not including item 10_. If you don't Include a start point or an end point for slicing, Python will start at the very beginning of the index or go to the very end of the index."
   ]
  },
  {
   "cell_type": "code",
   "execution_count": 36,
   "metadata": {
    "colab": {
     "base_uri": "https://localhost:8080/",
     "height": 34
    },
    "id": "fJcmxWAJxYvJ",
    "outputId": "2dd239ee-c912-4aa3-c74e-7100dd3df397"
   },
   "outputs": [
    {
     "data": {
      "text/plain": [
       "['cucumber', 'kartoffelsalat']"
      ]
     },
     "execution_count": 36,
     "metadata": {
      "tags": []
     },
     "output_type": "execute_result"
    }
   ],
   "source": [
    "whats_in_my_fridge[0:2] # select item 0 up to but not including item 2"
   ]
  },
  {
   "cell_type": "code",
   "execution_count": 37,
   "metadata": {
    "colab": {
     "base_uri": "https://localhost:8080/",
     "height": 34
    },
    "id": "BT8s8UQMx13q",
    "outputId": "02623594-593f-4e37-f3b5-d44c7f27eb91"
   },
   "outputs": [
    {
     "data": {
      "text/plain": [
       "['margarine', 'tomato']"
      ]
     },
     "execution_count": 37,
     "metadata": {
      "tags": []
     },
     "output_type": "execute_result"
    }
   ],
   "source": [
    "whats_in_my_fridge[2:] # select item 2 up to the end of the list. IF we wrote [:2], Python would have fetched the very beginning up to but not including item 2."
   ]
  },
  {
   "cell_type": "code",
   "execution_count": 39,
   "metadata": {
    "colab": {
     "base_uri": "https://localhost:8080/",
     "height": 34
    },
    "id": "UhJK3dTzy0rz",
    "outputId": "a2981f9a-5669-4852-a44b-0c0c6e1749a3"
   },
   "outputs": [
    {
     "data": {
      "text/plain": [
       "3"
      ]
     },
     "execution_count": 39,
     "metadata": {
      "tags": []
     },
     "output_type": "execute_result"
    }
   ],
   "source": [
    "whats_in_my_fridge.index('tomato') # each data type has associated \"methods and attributes\". For example, lists have the .index() method which fetches the index positions\n",
    "\n",
    "# it is very useful to learn more about possible methods and attributes of your data types as they will make programming much easier"
   ]
  },
  {
   "cell_type": "markdown",
   "metadata": {
    "id": "jQUageFNRD1C"
   },
   "source": [
    "# Dictionaries\n",
    "\n",
    "Leverage the fact we already talked about lists to discuss dictionaries."
   ]
  },
  {
   "cell_type": "markdown",
   "metadata": {
    "id": "Gg0LfXLdRVLn"
   },
   "source": [
    "# Other Data Types\n",
    "\n",
    "To be discussed in the next session probably? Namely using NumPy and Pandas"
   ]
  },
  {
   "cell_type": "markdown",
   "metadata": {
    "id": "yBX1b_dURFka"
   },
   "source": [
    "# Getting Help\n",
    "\n",
    "Using help( ) and where to look if you get stuck"
   ]
  },
  {
   "cell_type": "markdown",
   "metadata": {
    "id": "zkLseolUvDlu"
   },
   "source": [
    "# Further Your Understanding\n",
    "\n",
    "Will add links about simple things here if students are curious\n",
    "\n",
    "https://docs.python.org/2.4/lib/typesnumeric.html\n",
    "\n"
   ]
  }
 ],
 "metadata": {
  "colab": {
   "name": "Introduction to Python 1.ipynb",
   "provenance": []
  },
  "kernelspec": {
   "display_name": "Python 3",
   "language": "python",
   "name": "python3"
  },
  "language_info": {
   "codemirror_mode": {
    "name": "ipython",
    "version": 3
   },
   "file_extension": ".py",
   "mimetype": "text/x-python",
   "name": "python",
   "nbconvert_exporter": "python",
   "pygments_lexer": "ipython3",
   "version": "3.7.6"
  }
 },
 "nbformat": 4,
 "nbformat_minor": 4
}

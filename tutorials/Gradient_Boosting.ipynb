{
  "nbformat": 4,
  "nbformat_minor": 0,
  "metadata": {
    "colab": {
      "name": "Gradient Boosting.ipynb",
      "provenance": []
    },
    "kernelspec": {
      "name": "python3",
      "display_name": "Python 3"
    }
  },
  "cells": [
    {
      "cell_type": "markdown",
      "metadata": {
        "id": "31TaG5uJh0SS"
      },
      "source": [
        "# Introduction to Gradient Boosting\n",
        "\n",
        "Gradient boosting is the idea of using multiple models in an ensemble and focusing on the residuals in the machine learning process. Using the same HMEQ Data, we will be able to show that focusing on residuals through a second model can be effective to lowering the error on a test set.\n",
        "\n",
        "## Import Relevant Libraries and Data"
      ]
    },
    {
      "cell_type": "code",
      "metadata": {
        "id": "V8lCORhgtWD4"
      },
      "source": [
        "import numpy as np\n",
        "import pandas as pd\n",
        "from sklearn import tree\n",
        "\n",
        "from sklearn.model_selection import train_test_split\n",
        "from pprint import pprint"
      ],
      "execution_count": 190,
      "outputs": []
    },
    {
      "cell_type": "code",
      "metadata": {
        "id": "SWLhAbO-e2ZF"
      },
      "source": [
        "filename = 'https://github.com/Humboldt-WI/bads/blob/master/data/hmeq_modeling.csv?raw=true'\n",
        "df = pd.read_csv(filename, header = 0, index_col = 0)"
      ],
      "execution_count": 191,
      "outputs": []
    },
    {
      "cell_type": "code",
      "metadata": {
        "id": "i1Ux0UG9e2ZL",
        "outputId": "9f6a1e4f-7ab0-47ea-c898-d0511d59cf04",
        "colab": {
          "base_uri": "https://localhost:8080/",
          "height": 245
        }
      },
      "source": [
        "X = df.drop(['BAD'], axis=1) #code the variables in the most standard way for your usage\n",
        "y = df[['BAD']]\n",
        "\n",
        "X.head() #inspect that variables were correctly separated"
      ],
      "execution_count": 192,
      "outputs": [
        {
          "output_type": "execute_result",
          "data": {
            "text/html": [
              "<div>\n",
              "<style scoped>\n",
              "    .dataframe tbody tr th:only-of-type {\n",
              "        vertical-align: middle;\n",
              "    }\n",
              "\n",
              "    .dataframe tbody tr th {\n",
              "        vertical-align: top;\n",
              "    }\n",
              "\n",
              "    .dataframe thead th {\n",
              "        text-align: right;\n",
              "    }\n",
              "</style>\n",
              "<table border=\"1\" class=\"dataframe\">\n",
              "  <thead>\n",
              "    <tr style=\"text-align: right;\">\n",
              "      <th></th>\n",
              "      <th>LOAN</th>\n",
              "      <th>MORTDUE</th>\n",
              "      <th>VALUE</th>\n",
              "      <th>YOJ</th>\n",
              "      <th>CLAGE</th>\n",
              "      <th>NINQ</th>\n",
              "      <th>CLNO</th>\n",
              "      <th>DEBTINC</th>\n",
              "      <th>DEROGzero</th>\n",
              "      <th>REASON_HomeImp</th>\n",
              "      <th>REASON_IsMissing</th>\n",
              "      <th>JOB_Office</th>\n",
              "      <th>JOB_Other</th>\n",
              "      <th>JOB_ProfExe</th>\n",
              "      <th>JOB_Sales</th>\n",
              "      <th>JOB_Self</th>\n",
              "      <th>DELINQcat_1</th>\n",
              "      <th>DELINQcat_1+</th>\n",
              "    </tr>\n",
              "    <tr>\n",
              "      <th>index</th>\n",
              "      <th></th>\n",
              "      <th></th>\n",
              "      <th></th>\n",
              "      <th></th>\n",
              "      <th></th>\n",
              "      <th></th>\n",
              "      <th></th>\n",
              "      <th></th>\n",
              "      <th></th>\n",
              "      <th></th>\n",
              "      <th></th>\n",
              "      <th></th>\n",
              "      <th></th>\n",
              "      <th></th>\n",
              "      <th></th>\n",
              "      <th></th>\n",
              "      <th></th>\n",
              "      <th></th>\n",
              "    </tr>\n",
              "  </thead>\n",
              "  <tbody>\n",
              "    <tr>\n",
              "      <th>0</th>\n",
              "      <td>-1.832283</td>\n",
              "      <td>-1.295882</td>\n",
              "      <td>-1.335526</td>\n",
              "      <td>0.266788</td>\n",
              "      <td>-1.075278</td>\n",
              "      <td>-0.065054</td>\n",
              "      <td>-1.297476</td>\n",
              "      <td>0.137456</td>\n",
              "      <td>True</td>\n",
              "      <td>1</td>\n",
              "      <td>0</td>\n",
              "      <td>0</td>\n",
              "      <td>1</td>\n",
              "      <td>0</td>\n",
              "      <td>0</td>\n",
              "      <td>0</td>\n",
              "      <td>0</td>\n",
              "      <td>0</td>\n",
              "    </tr>\n",
              "    <tr>\n",
              "      <th>1</th>\n",
              "      <td>-1.810666</td>\n",
              "      <td>-0.013474</td>\n",
              "      <td>-0.672699</td>\n",
              "      <td>-0.236615</td>\n",
              "      <td>-0.723092</td>\n",
              "      <td>-0.826792</td>\n",
              "      <td>-0.756608</td>\n",
              "      <td>0.137456</td>\n",
              "      <td>True</td>\n",
              "      <td>1</td>\n",
              "      <td>0</td>\n",
              "      <td>0</td>\n",
              "      <td>1</td>\n",
              "      <td>0</td>\n",
              "      <td>0</td>\n",
              "      <td>0</td>\n",
              "      <td>0</td>\n",
              "      <td>1</td>\n",
              "    </tr>\n",
              "    <tr>\n",
              "      <th>2</th>\n",
              "      <td>-1.789048</td>\n",
              "      <td>-1.654549</td>\n",
              "      <td>-1.839275</td>\n",
              "      <td>-0.668103</td>\n",
              "      <td>-0.368769</td>\n",
              "      <td>-0.065054</td>\n",
              "      <td>-1.189302</td>\n",
              "      <td>0.137456</td>\n",
              "      <td>True</td>\n",
              "      <td>1</td>\n",
              "      <td>0</td>\n",
              "      <td>0</td>\n",
              "      <td>1</td>\n",
              "      <td>0</td>\n",
              "      <td>0</td>\n",
              "      <td>0</td>\n",
              "      <td>0</td>\n",
              "      <td>0</td>\n",
              "    </tr>\n",
              "    <tr>\n",
              "      <th>3</th>\n",
              "      <td>-1.789048</td>\n",
              "      <td>-0.159552</td>\n",
              "      <td>-0.202559</td>\n",
              "      <td>-0.236615</td>\n",
              "      <td>-0.061033</td>\n",
              "      <td>-0.065054</td>\n",
              "      <td>-0.107566</td>\n",
              "      <td>0.137456</td>\n",
              "      <td>True</td>\n",
              "      <td>0</td>\n",
              "      <td>1</td>\n",
              "      <td>0</td>\n",
              "      <td>1</td>\n",
              "      <td>0</td>\n",
              "      <td>0</td>\n",
              "      <td>0</td>\n",
              "      <td>0</td>\n",
              "      <td>0</td>\n",
              "    </tr>\n",
              "    <tr>\n",
              "      <th>4</th>\n",
              "      <td>-1.767431</td>\n",
              "      <td>0.791699</td>\n",
              "      <td>0.311107</td>\n",
              "      <td>-0.811933</td>\n",
              "      <td>-1.088528</td>\n",
              "      <td>-0.826792</td>\n",
              "      <td>-0.756608</td>\n",
              "      <td>0.137456</td>\n",
              "      <td>True</td>\n",
              "      <td>1</td>\n",
              "      <td>0</td>\n",
              "      <td>1</td>\n",
              "      <td>0</td>\n",
              "      <td>0</td>\n",
              "      <td>0</td>\n",
              "      <td>0</td>\n",
              "      <td>0</td>\n",
              "      <td>0</td>\n",
              "    </tr>\n",
              "  </tbody>\n",
              "</table>\n",
              "</div>"
            ],
            "text/plain": [
              "           LOAN   MORTDUE     VALUE  ...  JOB_Self  DELINQcat_1  DELINQcat_1+\n",
              "index                                ...                                     \n",
              "0     -1.832283 -1.295882 -1.335526  ...         0            0             0\n",
              "1     -1.810666 -0.013474 -0.672699  ...         0            0             1\n",
              "2     -1.789048 -1.654549 -1.839275  ...         0            0             0\n",
              "3     -1.789048 -0.159552 -0.202559  ...         0            0             0\n",
              "4     -1.767431  0.791699  0.311107  ...         0            0             0\n",
              "\n",
              "[5 rows x 18 columns]"
            ]
          },
          "metadata": {
            "tags": []
          },
          "execution_count": 192
        }
      ]
    },
    {
      "cell_type": "code",
      "metadata": {
        "id": "SzCSyD7Ge2ZO",
        "outputId": "b9b65b7a-5a18-4680-94b8-2b4732224598",
        "colab": {
          "base_uri": "https://localhost:8080/",
          "height": 225
        }
      },
      "source": [
        "y.head()"
      ],
      "execution_count": 193,
      "outputs": [
        {
          "output_type": "execute_result",
          "data": {
            "text/html": [
              "<div>\n",
              "<style scoped>\n",
              "    .dataframe tbody tr th:only-of-type {\n",
              "        vertical-align: middle;\n",
              "    }\n",
              "\n",
              "    .dataframe tbody tr th {\n",
              "        vertical-align: top;\n",
              "    }\n",
              "\n",
              "    .dataframe thead th {\n",
              "        text-align: right;\n",
              "    }\n",
              "</style>\n",
              "<table border=\"1\" class=\"dataframe\">\n",
              "  <thead>\n",
              "    <tr style=\"text-align: right;\">\n",
              "      <th></th>\n",
              "      <th>BAD</th>\n",
              "    </tr>\n",
              "    <tr>\n",
              "      <th>index</th>\n",
              "      <th></th>\n",
              "    </tr>\n",
              "  </thead>\n",
              "  <tbody>\n",
              "    <tr>\n",
              "      <th>0</th>\n",
              "      <td>True</td>\n",
              "    </tr>\n",
              "    <tr>\n",
              "      <th>1</th>\n",
              "      <td>True</td>\n",
              "    </tr>\n",
              "    <tr>\n",
              "      <th>2</th>\n",
              "      <td>True</td>\n",
              "    </tr>\n",
              "    <tr>\n",
              "      <th>3</th>\n",
              "      <td>True</td>\n",
              "    </tr>\n",
              "    <tr>\n",
              "      <th>4</th>\n",
              "      <td>False</td>\n",
              "    </tr>\n",
              "  </tbody>\n",
              "</table>\n",
              "</div>"
            ],
            "text/plain": [
              "         BAD\n",
              "index       \n",
              "0       True\n",
              "1       True\n",
              "2       True\n",
              "3       True\n",
              "4      False"
            ]
          },
          "metadata": {
            "tags": []
          },
          "execution_count": 193
        }
      ]
    },
    {
      "cell_type": "code",
      "metadata": {
        "id": "a-lJuUN2vBkC"
      },
      "source": [
        "# train test split\n",
        "\n",
        "X_train, X_test, y_train, y_test = train_test_split(\n",
        "    X, y, test_size=0.2, random_state=123)"
      ],
      "execution_count": 194,
      "outputs": []
    },
    {
      "cell_type": "code",
      "metadata": {
        "id": "IAGJdNA7e2ZR",
        "outputId": "7bd0b821-c8ac-48e1-a9ce-4bfa6a4e6920",
        "colab": {
          "base_uri": "https://localhost:8080/",
          "height": 34
        }
      },
      "source": [
        "print(type(X_train), type(y_train)) # double check that types and dimensions are correct before proceeding"
      ],
      "execution_count": 195,
      "outputs": [
        {
          "output_type": "stream",
          "text": [
            "<class 'pandas.core.frame.DataFrame'> <class 'pandas.core.frame.DataFrame'>\n"
          ],
          "name": "stdout"
        }
      ]
    },
    {
      "cell_type": "code",
      "metadata": {
        "id": "4i8lN-k-vViM",
        "outputId": "7f918a38-63aa-4ecd-ca1f-da280db42418",
        "colab": {
          "base_uri": "https://localhost:8080/",
          "height": 34
        }
      },
      "source": [
        "print(X_train.shape, y_train.shape, X_test.shape, y_test.shape)"
      ],
      "execution_count": 196,
      "outputs": [
        {
          "output_type": "stream",
          "text": [
            "(4768, 18) (4768, 1) (1192, 18) (1192, 1)\n"
          ],
          "name": "stdout"
        }
      ]
    },
    {
      "cell_type": "markdown",
      "metadata": {
        "id": "7PFd6oVUtXNI"
      },
      "source": [
        "## Gradient Boosting from Scratch Example: Training Models\n",
        "\n",
        "Here we will show the effectiveness of corrective models which work on the principle of boosting: training on errors. We will first train two models, the first will be for regular predictions. The second will predict which observations may lead to errors. We will first run the first prediction on test data, then correct these predictions using the second model.\n"
      ]
    },
    {
      "cell_type": "code",
      "metadata": {
        "id": "UZQCtRWzNDuE"
      },
      "source": [
        "estimators = []"
      ],
      "execution_count": 197,
      "outputs": []
    },
    {
      "cell_type": "code",
      "metadata": {
        "id": "ZYUxast5upkQ"
      },
      "source": [
        "clf = tree.DecisionTreeClassifier(criterion=\"entropy\", min_samples_split=2, max_depth=2) #first classifier\n",
        "\n",
        "dt = clf.fit(X_train, y_train) #fit the classifier\n",
        "\n",
        "estimators.append(('first model', dt))"
      ],
      "execution_count": 198,
      "outputs": []
    },
    {
      "cell_type": "code",
      "metadata": {
        "id": "w8SAYdlsutvz"
      },
      "source": [
        "predictions = dt.predict(X_train) #predict using first classifier"
      ],
      "execution_count": 199,
      "outputs": []
    },
    {
      "cell_type": "code",
      "metadata": {
        "id": "IKHBSTiq7ADX",
        "outputId": "c7ad0f16-c5d0-4e48-d12a-c611978723e6",
        "colab": {
          "base_uri": "https://localhost:8080/",
          "height": 34
        }
      },
      "source": [
        "residuals = predictions != y_train.iloc[:,0] #check residuals\n",
        "residuals.mean()"
      ],
      "execution_count": 200,
      "outputs": [
        {
          "output_type": "execute_result",
          "data": {
            "text/plain": [
              "0.15121644295302014"
            ]
          },
          "metadata": {
            "tags": []
          },
          "execution_count": 200
        }
      ]
    },
    {
      "cell_type": "code",
      "metadata": {
        "id": "-LdOYFbtiuuY",
        "outputId": "3b4afe27-269f-458c-9fcf-028aa73d3f0e",
        "colab": {
          "base_uri": "https://localhost:8080/",
          "height": 34
        }
      },
      "source": [
        "residuals.sum() #total errors of this classifier"
      ],
      "execution_count": 201,
      "outputs": [
        {
          "output_type": "execute_result",
          "data": {
            "text/plain": [
              "721"
            ]
          },
          "metadata": {
            "tags": []
          },
          "execution_count": 201
        }
      ]
    },
    {
      "cell_type": "code",
      "metadata": {
        "id": "x1SUtWIS9l5v",
        "outputId": "43026328-f63b-40b4-d859-fad3db4c395a",
        "colab": {
          "base_uri": "https://localhost:8080/",
          "height": 118
        }
      },
      "source": [
        "clf2 = tree.DecisionTreeClassifier(criterion=\"gini\") #train second classifier with different specs\n",
        "\n",
        "dt_residuals = clf2.fit(X_train, residuals) #fit classifier on the residuals, since we are training on decisions of a binary outcome, this classifier will predict errors of the first classifier\n",
        "estimators.append(('second model', dt_residuals))\n",
        "dt_residuals"
      ],
      "execution_count": 202,
      "outputs": [
        {
          "output_type": "execute_result",
          "data": {
            "text/plain": [
              "DecisionTreeClassifier(ccp_alpha=0.0, class_weight=None, criterion='gini',\n",
              "                       max_depth=None, max_features=None, max_leaf_nodes=None,\n",
              "                       min_impurity_decrease=0.0, min_impurity_split=None,\n",
              "                       min_samples_leaf=1, min_samples_split=2,\n",
              "                       min_weight_fraction_leaf=0.0, presort='deprecated',\n",
              "                       random_state=None, splitter='best')"
            ]
          },
          "metadata": {
            "tags": []
          },
          "execution_count": 202
        }
      ]
    },
    {
      "cell_type": "code",
      "metadata": {
        "id": "RJX5qQTR_au6",
        "outputId": "e189d322-f64c-4567-a2df-64b97bb6cac5",
        "colab": {
          "base_uri": "https://localhost:8080/",
          "height": 34
        }
      },
      "source": [
        "likely_misclassifications = dt_residuals.predict(X_train) #the results of the first classifier are errors of the first classifier\n",
        "likely_misclassifications.sum()"
      ],
      "execution_count": 203,
      "outputs": [
        {
          "output_type": "execute_result",
          "data": {
            "text/plain": [
              "721"
            ]
          },
          "metadata": {
            "tags": []
          },
          "execution_count": 203
        }
      ]
    },
    {
      "cell_type": "markdown",
      "metadata": {
        "id": "4ZaQ61X4hJSS"
      },
      "source": [
        "## Gradient Boosting from Scratch Example: Testing Models\n",
        "\n",
        "Now that we have our two models, we will begin using the test data to see if it is able to bring down the value of the residuals. We will first predict y using X_test."
      ]
    },
    {
      "cell_type": "code",
      "metadata": {
        "id": "Fp-Wmz6sRGhv"
      },
      "source": [
        "predictions_test = dt.predict(X_test)"
      ],
      "execution_count": 204,
      "outputs": []
    },
    {
      "cell_type": "code",
      "metadata": {
        "id": "wdVk27zeRTh-",
        "outputId": "bd92fa3d-a4b4-45f4-a1f5-45a9044d2e63",
        "colab": {
          "base_uri": "https://localhost:8080/",
          "height": 34
        }
      },
      "source": [
        "residuals_test = predictions_test != y_test.iloc[:,0]\n",
        "residuals_test.mean()"
      ],
      "execution_count": 205,
      "outputs": [
        {
          "output_type": "execute_result",
          "data": {
            "text/plain": [
              "0.14093959731543623"
            ]
          },
          "metadata": {
            "tags": []
          },
          "execution_count": 205
        }
      ]
    },
    {
      "cell_type": "markdown",
      "metadata": {
        "id": "kM3lSiCrhUpY"
      },
      "source": [
        "Now we predict for which observations the classifier would likely have gotten the predictions incorrect."
      ]
    },
    {
      "cell_type": "code",
      "metadata": {
        "id": "_BflWXFPRZxt",
        "outputId": "88deba8e-c07f-4689-c66a-58d4cb54640c",
        "colab": {
          "base_uri": "https://localhost:8080/",
          "height": 34
        }
      },
      "source": [
        "likely_misclassifications_test = dt_residuals.predict(X_test)\n",
        "likely_misclassifications_test"
      ],
      "execution_count": 206,
      "outputs": [
        {
          "output_type": "execute_result",
          "data": {
            "text/plain": [
              "array([False, False, False, ...,  True, False, False])"
            ]
          },
          "metadata": {
            "tags": []
          },
          "execution_count": 206
        }
      ]
    },
    {
      "cell_type": "markdown",
      "metadata": {
        "id": "UKWZfWWwhcWH"
      },
      "source": [
        "Lastly, we correct the misclassifications by classifying them the opposite way."
      ]
    },
    {
      "cell_type": "code",
      "metadata": {
        "id": "3cT6A821eUuA"
      },
      "source": [
        "residuals_corrected = pd.Series(residuals_test)\n",
        "residuals_corrected[likely_misclassifications_test] = ~ residuals_corrected[likely_misclassifications_test]"
      ],
      "execution_count": 207,
      "outputs": []
    },
    {
      "cell_type": "code",
      "metadata": {
        "id": "_tyFEK-FgZWC",
        "outputId": "9538a684-97ed-4680-b23b-ab8afd06581f",
        "colab": {
          "base_uri": "https://localhost:8080/",
          "height": 235
        }
      },
      "source": [
        "residuals_test[likely_misclassifications_test]"
      ],
      "execution_count": 208,
      "outputs": [
        {
          "output_type": "execute_result",
          "data": {
            "text/plain": [
              "index\n",
              "1554    False\n",
              "4727     True\n",
              "4883     True\n",
              "263     False\n",
              "4618     True\n",
              "        ...  \n",
              "4014     True\n",
              "1723     True\n",
              "2990    False\n",
              "1673     True\n",
              "2589    False\n",
              "Name: BAD, Length: 155, dtype: bool"
            ]
          },
          "metadata": {
            "tags": []
          },
          "execution_count": 208
        }
      ]
    },
    {
      "cell_type": "code",
      "metadata": {
        "id": "dGrQerZvfyTC",
        "outputId": "fd321c33-3b4b-4df3-c01a-7f28fe1fd79b",
        "colab": {
          "base_uri": "https://localhost:8080/",
          "height": 235
        }
      },
      "source": [
        "residuals_corrected[likely_misclassifications_test]"
      ],
      "execution_count": 209,
      "outputs": [
        {
          "output_type": "execute_result",
          "data": {
            "text/plain": [
              "index\n",
              "1554     True\n",
              "4727    False\n",
              "4883    False\n",
              "263      True\n",
              "4618    False\n",
              "        ...  \n",
              "4014    False\n",
              "1723    False\n",
              "2990     True\n",
              "1673    False\n",
              "2589     True\n",
              "Name: BAD, Length: 155, dtype: object"
            ]
          },
          "metadata": {
            "tags": []
          },
          "execution_count": 209
        }
      ]
    },
    {
      "cell_type": "code",
      "metadata": {
        "id": "kI1XuYH8gCS0",
        "outputId": "73516bd6-c425-4d38-a763-0424a6b77f23",
        "colab": {
          "base_uri": "https://localhost:8080/",
          "height": 34
        }
      },
      "source": [
        "residuals_corrected != y_test.iloc[:,0]\n",
        "residuals_corrected.mean()"
      ],
      "execution_count": 210,
      "outputs": [
        {
          "output_type": "execute_result",
          "data": {
            "text/plain": [
              "0.12164429530201343"
            ]
          },
          "metadata": {
            "tags": []
          },
          "execution_count": 210
        }
      ]
    },
    {
      "cell_type": "markdown",
      "metadata": {
        "id": "iBOLBv6YhnS_"
      },
      "source": [
        "## Conclusion\n",
        "\n",
        "The new residuals are smaller than the previous ones. This tells us that our process worked. We were able to lower the error on a test set using a second model which only focused on identifying residuals.\n",
        "\n",
        "Gradient boost is able to do this process in multiple ways with much more complex methods and algorithms. However, in essence, the idea is that multiple models are trained and some specifically target residuals. AdaBoost and XGBoost are both popular algorithms which focus on this principle."
      ]
    }
  ]
}
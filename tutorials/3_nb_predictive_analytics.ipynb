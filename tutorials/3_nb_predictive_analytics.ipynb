{
  "nbformat": 4,
  "nbformat_minor": 0,
  "metadata": {
    "kernelspec": {
      "display_name": "PyCharm (adams)",
      "language": "python",
      "name": "pycharm-feb95198"
    },
    "language_info": {
      "codemirror_mode": {
        "name": "ipython",
        "version": 3
      },
      "file_extension": ".py",
      "mimetype": "text/x-python",
      "name": "python",
      "nbconvert_exporter": "python",
      "pygments_lexer": "ipython3",
      "version": "3.7.6"
    },
    "colab": {
      "name": "Copy of 3_nb_predictive_analytics.ipynb",
      "provenance": []
    }
  },
  "cells": [
    {
      "cell_type": "markdown",
      "metadata": {
        "id": "Ka20bzp6PcNj"
      },
      "source": [
        "[![Open In Colab](https://colab.research.google.com/assets/colab-badge.svg)](https://colab.research.google.com/github/Humboldt-WI/bads/blob/master/tutorials/3_nb_predictive_analytics.ipynb) "
      ]
    },
    {
      "cell_type": "markdown",
      "metadata": {
        "id": "swSaDjWvNDnY"
      },
      "source": [
        "# Chapter 3 - Foundations of predictive analytics\n",
        "The lecture has introduced the data structure for predictive analytics. We need data with inputs variables and a **target variable**. The goal of predictive analytics is to derive a functional relationship between the input variables and the target. We assume that we can observe or control the input variables. Hence, our predictive model, the functional relationship between inputs and the target, facilitates forecasting the expected value of the target variable based on the input variables. Recall from the lecture that there are many alternative terms in use to refer to the input variables. In the interest of having consistent terminology, we will use the term **features** instead of input variables in the following. \n",
        "\n",
        "\n",
        "---\n",
        "\n",
        "\n",
        "Here is the outline of the tutorial:\n",
        "- Our first predictive model: linear regression\n",
        "- The Boston Housing data set\n",
        "- Data for classification \n",
        "- Synthetic data generation in sklearn"
      ]
    },
    {
      "cell_type": "markdown",
      "metadata": {
        "id": "KKHjoRMQy-9K"
      },
      "source": [
        "## Our First Predictive Model: Linear Regression\n",
        "Linear regression assumes a linear additive relationship between features and the target. Specifically, we assume a model:\n",
        "$$ y = \\beta_0 + \\beta_1 x_1 + + \\beta_2 x_2 + ... + \\beta_m x_m + \\epsilon $$\n",
        "where $y$ is the target variable, $\\beta$ denotes the regression coefficients (as usual), $x_j, j=1, ..., m$ are our features, and $\\epsilon$ denotes the error term. \n",
        "\n",
        "### Generating Data\n",
        "\n",
        "To warm-up, let's create some synthetic data for regression modeling. To keep things simple, we consider a univariate setting with only feature. The classic example in business is that of a price response function, so we can assume that our single feature corresponds to the sales price of some product.\n"
      ]
    },
    {
      "cell_type": "code",
      "metadata": {
        "id": "f9aYJsZRO65y"
      },
      "source": [
        "# load relevant libraries\n",
        "\n",
        "import random\n",
        "import numpy as np\n",
        "import matplotlib.pyplot as plt\n",
        "\n",
        "np.set_printoptions(suppress=True)  # stops Python from producing output in scientific notation\n",
        "\n",
        "random.seed(123) # for reproducibility"
      ],
      "execution_count": 1,
      "outputs": []
    },
    {
      "cell_type": "code",
      "metadata": {
        "id": "MIpePpg3VAgt",
        "outputId": "b334974f-260f-4bc4-9523-98c7ff8150fc",
        "colab": {
          "base_uri": "https://localhost:8080/"
        }
      },
      "source": [
        "# first, determine dataset size and generate X\n",
        "\n",
        "n = 100 # dataset size\n",
        "\n",
        "X = np.zeros(n) # initialise empty list\n",
        "\n",
        "for i in range(n): # generate 100 numbers\n",
        "  num = random.randint(20,100) # will select integers randomly between 20 and 100\n",
        "  X[i] = num # add integer to list X\n",
        "\n",
        "X"
      ],
      "execution_count": 2,
      "outputs": [
        {
          "output_type": "execute_result",
          "data": {
            "text/plain": [
              "array([ 26.,  54.,  31.,  72.,  54.,  33.,  24.,  68.,  88.,  91.,  62.,\n",
              "        63.,  26.,  40.,  37.,  63.,  91.,  62.,  51.,  40.,  20.,  75.,\n",
              "        31.,  96.,  68.,  28.,  20.,  60.,  77.,  33.,  25.,  31.,  38.,\n",
              "        36.,  22.,  57.,  75.,  93.,  81.,  53.,  80.,  24.,  59.,  63.,\n",
              "        86.,  81.,  46.,  97.,  87.,  92.,  60.,  21.,  70.,  85.,  75.,\n",
              "        88.,  96.,  82.,  86.,  73.,  67.,  85.,  24.,  43.,  30.,  82.,\n",
              "        53.,  41.,  62.,  63.,  90.,  70.,  29.,  78.,  69.,  93.,  63.,\n",
              "        22.,  44.,  95.,  31., 100.,  66.,  21.,  65.,  49.,  71.,  88.,\n",
              "        84.,  27.,  56.,  83., 100.,  49.,  89.,  81.,  42.,  39.,  88.,\n",
              "        76.])"
            ]
          },
          "metadata": {
            "tags": []
          },
          "execution_count": 2
        }
      ]
    },
    {
      "cell_type": "code",
      "metadata": {
        "id": "13rCiNavQIBj",
        "outputId": "90f7e2c1-adef-4e77-ba1e-87dcd5f6ec0f",
        "colab": {
          "base_uri": "https://localhost:8080/"
        }
      },
      "source": [
        "# next, determine y based on X's values and add randomness to make it more challenging for the machine\n",
        "\n",
        "y = np.zeros(n) # create array of 0s of the length X\n",
        "\n",
        "for i in range(0,n):\n",
        "  num = X[i]/2 + np.random.normal(0,5,1) # for this relationship, the true beta_1 = 0.5. Randomness also added.\n",
        "  y[i] = num # replace 0s in y with the transformed X value\n",
        "\n",
        "y= np.around(y, 2) # round all values to 2 decimals\n",
        "\n",
        "y"
      ],
      "execution_count": 3,
      "outputs": [
        {
          "output_type": "execute_result",
          "data": {
            "text/plain": [
              "array([13.92, 28.72, 13.62, 30.3 , 28.61,  8.06, 17.37, 20.55, 56.57,\n",
              "       51.45, 31.16, 33.52, 16.79, 31.21, 18.17, 34.76, 45.59, 31.36,\n",
              "       25.06, 18.99, 12.22, 37.18,  7.76, 51.79, 33.57, 11.86, 11.07,\n",
              "       30.69, 44.38, 13.03, 10.61, 21.58, 14.88, 12.4 , 10.04, 47.8 ,\n",
              "       25.38, 49.48, 42.36, 26.63, 43.17, 18.4 , 27.42, 24.21, 31.9 ,\n",
              "       60.6 , 33.33, 49.23, 56.32, 36.34, 23.27,  7.42, 30.71, 44.37,\n",
              "       37.55, 45.06, 35.75, 34.76, 48.15, 34.03, 36.27, 37.13, 10.71,\n",
              "       20.21, 14.62, 44.15, 24.92, 19.38, 23.35, 38.04, 36.28, 34.65,\n",
              "       13.8 , 42.79, 32.34, 50.95, 29.79,  6.88, 28.56, 46.87, 18.  ,\n",
              "       60.22, 32.21, 12.91, 34.71, 22.25, 32.73, 40.59, 42.35,  7.06,\n",
              "       30.7 , 36.36, 52.91, 22.62, 43.94, 46.71, 16.95, 19.54, 46.19,\n",
              "       41.23])"
            ]
          },
          "metadata": {
            "tags": []
          },
          "execution_count": 3
        }
      ]
    },
    {
      "cell_type": "code",
      "metadata": {
        "id": "tv86W5nHQy3G",
        "outputId": "da4e09f8-dce0-4f48-e9fc-5c35b6c06b30",
        "colab": {
          "base_uri": "https://localhost:8080/",
          "height": 282
        }
      },
      "source": [
        "plt.scatter(X, y) # plot our X and y values on a scatterplot using pyplot"
      ],
      "execution_count": 4,
      "outputs": [
        {
          "output_type": "execute_result",
          "data": {
            "text/plain": [
              "<matplotlib.collections.PathCollection at 0x7f83581af240>"
            ]
          },
          "metadata": {
            "tags": []
          },
          "execution_count": 4
        },
        {
          "output_type": "display_data",
          "data": {
            "image/png": "[encoded data removed]",
            "text/plain": [
              "<Figure size 432x288 with 1 Axes>"
            ]
          },
          "metadata": {
            "tags": [],
            "needs_background": "light"
          }
        }
      ]
    },
    {
      "cell_type": "markdown",
      "metadata": {
        "id": "_IpEyVXay-9Q"
      },
      "source": [
        "### Obtaining Coefficients\n",
        "\n",
        "We know from our undergraduate studies how to compute our estimators $\\hat \\beta_0$ and $\\hat \\beta_1$ of the intercept and slope of our simple linear regression model, respectively. \n",
        "\n",
        "$$ \\hat \\beta_1 = \\frac{\\sum^{n}_{i=1}\\left(x_i-\\bar x \\right) \\left( y_i - \\bar y\\right)}{\\sum^{n}_{i=1}\\left(x_i-\\bar x \\right)^2} $$\n",
        "\n",
        "$$ \\hat \\beta_0 = \\bar y - \\hat \\beta_1 \\bar x$$\n",
        "\n",
        "where $\\bar x$ and $\\bar y$ denote the mean price (feature) and sales (target), respectively. \n",
        "\n",
        "Let's augment the above graph by adding the regression line."
      ]
    },
    {
      "cell_type": "code",
      "metadata": {
        "id": "eY0FIDkJy-9S",
        "outputId": "91804e77-9b06-49c3-a23a-2e3ea356f64d",
        "colab": {
          "base_uri": "https://localhost:8080/"
        }
      },
      "source": [
        "X_bar = np.mean(X)\n",
        "y_bar = np.mean(y)\n",
        "\n",
        "# recreate the beta hat 1 equation above:\n",
        "denominator = numerator = 0 # initialise variable\n",
        "\n",
        "for i in range(0,n):\n",
        "  numerator += (X[i] - X_bar)*(y[i] - y_bar) # remember += means add the right hand side to the variable's value\n",
        "  denominator += (X[i] - X_bar)** 2\n",
        "  beta_hat_1 = numerator / denominator\n",
        "\n",
        "# recreate the beta hat 0 equation above:\n",
        "beta_hat_0 = y_bar - beta_hat_1 * X_bar\n",
        "\n",
        "# check estimate values\n",
        "print(beta_hat_0, beta_hat_1)"
      ],
      "execution_count": 5,
      "outputs": [
        {
          "output_type": "stream",
          "text": [
            "-0.7483998064810145 0.5152279452672781\n"
          ],
          "name": "stdout"
        }
      ]
    },
    {
      "cell_type": "code",
      "metadata": {
        "id": "qTxqBKaJjC-x",
        "outputId": "b048b02b-6918-4cf3-ac36-6b5f38307777",
        "colab": {
          "base_uri": "https://localhost:8080/"
        }
      },
      "source": [
        "# create a point at the end of X's range (100) and calculate the y value according to our estimate\n",
        "\n",
        "y_val_x_at_100 = beta_hat_0 + beta_hat_1 * 100\n",
        "\n",
        "y_val_x_at_100"
      ],
      "execution_count": 6,
      "outputs": [
        {
          "output_type": "execute_result",
          "data": {
            "text/plain": [
              "50.77439472024679"
            ]
          },
          "metadata": {
            "tags": []
          },
          "execution_count": 6
        }
      ]
    },
    {
      "cell_type": "code",
      "metadata": {
        "id": "OvbD7CQAi6NV",
        "outputId": "e214e579-ec30-42f2-daf3-67e680d9b999",
        "colab": {
          "base_uri": "https://localhost:8080/",
          "height": 265
        }
      },
      "source": [
        "# plot scatterplot and the line of best fit\n",
        "\n",
        "plt.scatter(X, y)\n",
        "plt.plot([0,100], [beta_hat_0,y_val_x_at_100]) # the first list are x coordinate values, the second are y values so this creates a line through (0, beta_hat_0) and (100, y_val_x_at_100)\n",
        "plt.show()"
      ],
      "execution_count": 7,
      "outputs": [
        {
          "output_type": "display_data",
          "data": {
            "image/png": "[encoded data removed]",
            "text/plain": [
              "<Figure size 432x288 with 1 Axes>"
            ]
          },
          "metadata": {
            "tags": [],
            "needs_background": "light"
          }
        }
      ]
    },
    {
      "cell_type": "markdown",
      "metadata": {
        "id": "Mzwjxmg3lRbK"
      },
      "source": [
        "### Using sklearn to Solve\n",
        "All of the above can be quickly and efficiently done also through sklean to obtain the same result."
      ]
    },
    {
      "cell_type": "code",
      "metadata": {
        "id": "TfiHNWbklpMC",
        "outputId": "ee3bd117-50c9-4fa4-cb95-25e6a20fea10",
        "colab": {
          "base_uri": "https://localhost:8080/"
        }
      },
      "source": [
        "# when using sklearn, it is important to reshape your data so that is appears as a column in a dataframe\n",
        "\n",
        "X = X.reshape(-1,1) # reshapes array to a vertical column (originally the shape is (100,), we need it to be (100,1))\n",
        "y = y.reshape(-1,1)\n",
        "print(X.shape, y.shape)"
      ],
      "execution_count": 8,
      "outputs": [
        {
          "output_type": "stream",
          "text": [
            "(100, 1) (100, 1)\n"
          ],
          "name": "stdout"
        }
      ]
    },
    {
      "cell_type": "code",
      "metadata": {
        "id": "CaF5HI_Zkdfd",
        "outputId": "5eb7b540-08fc-49b9-9b18-a8b4db0305a5",
        "colab": {
          "base_uri": "https://localhost:8080/"
        }
      },
      "source": [
        "# using sklearn, we can get the same result using the LinearRegression function\n",
        "\n",
        "from sklearn.linear_model import LinearRegression\n",
        "\n",
        "lin = LinearRegression().fit(X,y)\n",
        "\n",
        "print(lin.intercept_, lin.coef_) # these values correspond to estimated beta 0 and estimated beta 1 respectively"
      ],
      "execution_count": 9,
      "outputs": [
        {
          "output_type": "stream",
          "text": [
            "[-0.74839981] [[0.51522795]]\n"
          ],
          "name": "stdout"
        }
      ]
    },
    {
      "cell_type": "markdown",
      "metadata": {
        "id": "rwunBXaay-9Z"
      },
      "source": [
        "### Predicting on New Samples from the Same Population\n",
        "Recall that the very point of predictive modeling is to forecast the value of the target variable for new cases. To demonstrate this, we can use the regression function just estimated, our model, and apply it to some novel data."
      ]
    },
    {
      "cell_type": "code",
      "metadata": {
        "id": "TKT8_pxhy-9Z",
        "outputId": "8e7ce4e8-5fa2-4828-d58b-baa59f756d8d",
        "colab": {
          "base_uri": "https://localhost:8080/"
        }
      },
      "source": [
        "# generate new X values:\n",
        "\n",
        "n_new = 10\n",
        "\n",
        "X_new = np.zeros(n_new) # initialise empty list\n",
        "\n",
        "for i in range(0,n_new): # generate 10 numbers\n",
        "  num = random.randint(20,100) # will select integers randomly between 20 and 100\n",
        "  X_new[i] = num # add integer to list X\n",
        "\n",
        "X_new"
      ],
      "execution_count": 10,
      "outputs": [
        {
          "output_type": "execute_result",
          "data": {
            "text/plain": [
              "array([68., 79., 25., 21., 37., 78., 44., 22., 52., 65.])"
            ]
          },
          "metadata": {
            "tags": []
          },
          "execution_count": 10
        }
      ]
    },
    {
      "cell_type": "code",
      "metadata": {
        "id": "h3c7wtKKu6ZI",
        "outputId": "4f36b7dc-7e1e-4350-eaaa-cfc30daee1a6",
        "colab": {
          "base_uri": "https://localhost:8080/"
        }
      },
      "source": [
        "# generate true y values for the new X values:\n",
        "\n",
        "y_true = np.zeros(n_new) # create array of 0s of the length X_new\n",
        "\n",
        "for i in range(0,n_new):\n",
        "  num = X_new[i]/2 + np.random.normal(0,5,1) # same relationship as before, true beta 1 is 0.5\n",
        "  y_true[i] = num\n",
        "\n",
        "y_true = np.around(y_true, 2) # round all values to 2 decimals\n",
        "\n",
        "y_true"
      ],
      "execution_count": 11,
      "outputs": [
        {
          "output_type": "execute_result",
          "data": {
            "text/plain": [
              "array([38.67, 43.21,  9.85, 17.23, 17.93, 37.7 , 22.31,  6.41, 27.33,\n",
              "       33.64])"
            ]
          },
          "metadata": {
            "tags": []
          },
          "execution_count": 11
        }
      ]
    },
    {
      "cell_type": "code",
      "metadata": {
        "id": "dRepllA-v9uB",
        "outputId": "060eb27f-deec-4978-f2eb-47259e3ff960",
        "colab": {
          "base_uri": "https://localhost:8080/",
          "height": 265
        }
      },
      "source": [
        "# plot new values with old values:\n",
        "\n",
        "plt.scatter(X, y) # plot original points\n",
        "plt.scatter(X_new, y_true, color='red') # colour new points red\n",
        "plt.plot([0,100], [beta_hat_0,y_val_x_at_100]) # pass line through coordinates (0, beta_hat_0) and (100, y_val_x_at_100)\n",
        "plt.show()"
      ],
      "execution_count": 12,
      "outputs": [
        {
          "output_type": "display_data",
          "data": {
            "image/png": "[encoded data removed]",
            "text/plain": [
              "<Figure size 432x288 with 1 Axes>"
            ]
          },
          "metadata": {
            "tags": [],
            "needs_background": "light"
          }
        }
      ]
    },
    {
      "cell_type": "code",
      "metadata": {
        "id": "4YCz5b5ItQPy",
        "outputId": "34537ea7-39bd-4d71-f38b-f857114c5605",
        "colab": {
          "base_uri": "https://localhost:8080/"
        }
      },
      "source": [
        "# use our model to predict the y value for the new X values:\n",
        "y_pred = np.zeros(n_new)\n",
        "\n",
        "for i in range(0,n_new):\n",
        "  y_pred[i] = beta_hat_0 + beta_hat_1 * X_new[i]\n",
        "\n",
        "y_pred"
      ],
      "execution_count": 13,
      "outputs": [
        {
          "output_type": "execute_result",
          "data": {
            "text/plain": [
              "array([34.28710047, 39.95460787, 12.13229883, 10.07138704, 18.31503417,\n",
              "       39.43937992, 21.92162979, 10.58661499, 26.04345335, 32.74141664])"
            ]
          },
          "metadata": {
            "tags": []
          },
          "execution_count": 13
        }
      ]
    },
    {
      "cell_type": "code",
      "metadata": {
        "id": "itt4mkzJvo6b",
        "outputId": "e816b6f5-feea-4559-eb35-b65fcd045344",
        "colab": {
          "base_uri": "https://localhost:8080/"
        }
      },
      "source": [
        "# calculate residuals:\n",
        "\n",
        "res = y_true - y_pred\n",
        "res"
      ],
      "execution_count": 14,
      "outputs": [
        {
          "output_type": "execute_result",
          "data": {
            "text/plain": [
              "array([ 4.38289953,  3.25539213, -2.28229883,  7.15861296, -0.38503417,\n",
              "       -1.73937992,  0.38837021, -4.17661499,  1.28654665,  0.89858336])"
            ]
          },
          "metadata": {
            "tags": []
          },
          "execution_count": 14
        }
      ]
    },
    {
      "cell_type": "code",
      "metadata": {
        "id": "ppF7dMIWzz8-",
        "outputId": "e5c3502e-490f-419f-9962-78eb3d651d2e",
        "colab": {
          "base_uri": "https://localhost:8080/"
        }
      },
      "source": [
        "# root mean squared error:\n",
        "\n",
        "pred_error = np.mean(np.sqrt(res ** 2))\n",
        "\n",
        "pred_error"
      ],
      "execution_count": 15,
      "outputs": [
        {
          "output_type": "execute_result",
          "data": {
            "text/plain": [
              "2.5953732753326575"
            ]
          },
          "metadata": {
            "tags": []
          },
          "execution_count": 15
        }
      ]
    },
    {
      "cell_type": "markdown",
      "metadata": {
        "id": "u8AmtTrmy-9k"
      },
      "source": [
        "### Predictions for Different Populations\n",
        "\n",
        "Predictive analytics is based on the assumption that the data, which we observed in the past or gathered during business operations is representative for future data. Note how the previous example fulfills this assumption. \n",
        "We used the same mechanism or *data generation process* to simulated the old and the new data. To stress the importance of stable data generation processes, **let us simulate what would happen if our environment changes**. For example, people might get more price sensitive in a recession, so that a price-response relationship that was estimated on data from before the recession is no longer representative. Let's simulate such a situation using Python."
      ]
    },
    {
      "cell_type": "code",
      "metadata": {
        "id": "Vsjr88-sy-9m",
        "outputId": "6badfc68-22af-4351-9833-d97def069cdd",
        "colab": {
          "base_uri": "https://localhost:8080/"
        }
      },
      "source": [
        "y_true_2 = np.zeros(n_new) # create array of 0s of the length X_new\n",
        "\n",
        "for i in range(0,n_new):\n",
        "  num = X_new[i]/4 + np.random.normal(0,5,1) # altered relationship, now the true beta_1 is 0.25 instead of 0.5\n",
        "  y_true_2[i] = num\n",
        "\n",
        "y_true_2 = np.around(y_true_2, 2) # round all values to 2 decimals\n",
        "\n",
        "y_true_2"
      ],
      "execution_count": 16,
      "outputs": [
        {
          "output_type": "execute_result",
          "data": {
            "text/plain": [
              "array([19.18, 22.96,  6.53,  9.59, 11.57, 28.2 ,  9.69,  6.89, 11.72,\n",
              "       26.7 ])"
            ]
          },
          "metadata": {
            "tags": []
          },
          "execution_count": 16
        }
      ]
    },
    {
      "cell_type": "code",
      "metadata": {
        "id": "jl21Uvdm1EnA",
        "outputId": "5eef8043-2083-495d-986a-aa9004b5e9d1",
        "colab": {
          "base_uri": "https://localhost:8080/",
          "height": 265
        }
      },
      "source": [
        "# plot new values with old values:\n",
        "\n",
        "plt.scatter(X, y)\n",
        "plt.scatter(X_new, y_true_2, color='red') # colour new points red\n",
        "plt.plot([0,100], [beta_hat_0,y_val_x_at_100]) # pass line through coordinates (0, beta_hat_0) and (100, y_val_x_at_100)\n",
        "plt.show()"
      ],
      "execution_count": 17,
      "outputs": [
        {
          "output_type": "display_data",
          "data": {
            "image/png": "[encoded data removed]",
            "text/plain": [
              "<Figure size 432x288 with 1 Axes>"
            ]
          },
          "metadata": {
            "tags": [],
            "needs_background": "light"
          }
        }
      ]
    },
    {
      "cell_type": "code",
      "metadata": {
        "id": "bWXjK4w91Ao-",
        "outputId": "a2bcc39d-1b62-4f3c-ba96-d000a4372842",
        "colab": {
          "base_uri": "https://localhost:8080/"
        }
      },
      "source": [
        "# predict using our ORIGINAL coefficients:\n",
        "y_pred_2 = np.zeros(n_new)\n",
        "\n",
        "for i in range(0,n_new):\n",
        "  y_pred_2[i] = beta_hat_0 + beta_hat_1 * X_new[i]\n",
        "\n",
        "y_pred_2"
      ],
      "execution_count": 18,
      "outputs": [
        {
          "output_type": "execute_result",
          "data": {
            "text/plain": [
              "array([34.28710047, 39.95460787, 12.13229883, 10.07138704, 18.31503417,\n",
              "       39.43937992, 21.92162979, 10.58661499, 26.04345335, 32.74141664])"
            ]
          },
          "metadata": {
            "tags": []
          },
          "execution_count": 18
        }
      ]
    },
    {
      "cell_type": "code",
      "metadata": {
        "id": "vfLodOOP1Id6",
        "outputId": "f8307a6c-53dd-4c4f-84dd-4fcf16c54325",
        "colab": {
          "base_uri": "https://localhost:8080/"
        }
      },
      "source": [
        "# residual and RMSE calculation:\n",
        "\n",
        "res_2 = y_true_2 - y_pred_2\n",
        "res_2"
      ],
      "execution_count": 19,
      "outputs": [
        {
          "output_type": "execute_result",
          "data": {
            "text/plain": [
              "array([-15.10710047, -16.99460787,  -5.60229883,  -0.48138704,\n",
              "        -6.74503417, -11.23937992, -12.23162979,  -3.69661499,\n",
              "       -14.32345335,  -6.04141664])"
            ]
          },
          "metadata": {
            "tags": []
          },
          "execution_count": 19
        }
      ]
    },
    {
      "cell_type": "code",
      "metadata": {
        "id": "i7cqJ6BT1J2q",
        "outputId": "0054a766-7b4b-4baf-868c-69021b1fa279",
        "colab": {
          "base_uri": "https://localhost:8080/"
        }
      },
      "source": [
        "pred_error_2 = np.mean(np.sqrt(res_2 ** 2))\n",
        "\n",
        "print(\"Error from Similar Data:\", pred_error, \", Error from Data with New Relationship:\", pred_error_2)"
      ],
      "execution_count": 20,
      "outputs": [
        {
          "output_type": "stream",
          "text": [
            "Error from Similar Data: 2.5953732753326575 , Error from Data with New Relationship: 9.246292306142339\n"
          ],
          "name": "stdout"
        }
      ]
    },
    {
      "cell_type": "markdown",
      "metadata": {
        "id": "k7g9txo_y-9u"
      },
      "source": [
        "You might think that this a basic exercise. Do not underestimate our example. You just learned a very important lesson that you should always bear in mind when venturing the realms of predictive analytics. If there is a change in the mechanism that generated your data, a predictive model will become outdated and its quality will decrease. Practically speaking, the hard part is to know when such a change occur. That is something for later. For now, we bear in mind that predictive analytics requires **the training data to represent well the data to which a model will be applied.** "
      ]
    },
    {
      "cell_type": "markdown",
      "metadata": {
        "id": "r-0bh_aay-9v"
      },
      "source": [
        "## The Boston Housing Data Set\n",
        "Idea is to run a proper regression using the statsmodel api. \n",
        "- Introduce the Boston Housing data set (load by downloading from the web)\n",
        "  - explain task\n",
        "  - showcase variables using some Pandas func.\n",
        "- fit regression model and generate standard output (R2, coefficients, T-value, ...)\n",
        "- Link the analysis to previous exercise by highlighting that we used all data. We do not have any new data. Can we simulate it? Split the data in two half, fit regression on one, apply to the other and compare MSE"
      ]
    },
    {
      "cell_type": "code",
      "metadata": {
        "id": "2GDBEr-MMq7k",
        "outputId": "ff0bea50-ec58-4710-cdab-dbfcb8c60cab",
        "colab": {
          "base_uri": "https://localhost:8080/",
          "height": 204
        }
      },
      "source": [
        "import sklearn.datasets as datasets\n",
        "import pandas as pd\n",
        "\n",
        "df = datasets.load_boston()\n",
        "\n",
        "X = pd.DataFrame(data=df.data, columns=df.feature_names) #place input arrays into table\n",
        "y = pd.DataFrame(data=df.target, columns=['Target']) #place target array into table\n",
        "\n",
        "X.head()"
      ],
      "execution_count": 21,
      "outputs": [
        {
          "output_type": "execute_result",
          "data": {
            "text/html": [
              "<div>\n",
              "<style scoped>\n",
              "    .dataframe tbody tr th:only-of-type {\n",
              "        vertical-align: middle;\n",
              "    }\n",
              "\n",
              "    .dataframe tbody tr th {\n",
              "        vertical-align: top;\n",
              "    }\n",
              "\n",
              "    .dataframe thead th {\n",
              "        text-align: right;\n",
              "    }\n",
              "</style>\n",
              "<table border=\"1\" class=\"dataframe\">\n",
              "  <thead>\n",
              "    <tr style=\"text-align: right;\">\n",
              "      <th></th>\n",
              "      <th>CRIM</th>\n",
              "      <th>ZN</th>\n",
              "      <th>INDUS</th>\n",
              "      <th>CHAS</th>\n",
              "      <th>NOX</th>\n",
              "      <th>RM</th>\n",
              "      <th>AGE</th>\n",
              "      <th>DIS</th>\n",
              "      <th>RAD</th>\n",
              "      <th>TAX</th>\n",
              "      <th>PTRATIO</th>\n",
              "      <th>B</th>\n",
              "      <th>LSTAT</th>\n",
              "    </tr>\n",
              "  </thead>\n",
              "  <tbody>\n",
              "    <tr>\n",
              "      <th>0</th>\n",
              "      <td>0.00632</td>\n",
              "      <td>18.0</td>\n",
              "      <td>2.31</td>\n",
              "      <td>0.0</td>\n",
              "      <td>0.538</td>\n",
              "      <td>6.575</td>\n",
              "      <td>65.2</td>\n",
              "      <td>4.0900</td>\n",
              "      <td>1.0</td>\n",
              "      <td>296.0</td>\n",
              "      <td>15.3</td>\n",
              "      <td>396.90</td>\n",
              "      <td>4.98</td>\n",
              "    </tr>\n",
              "    <tr>\n",
              "      <th>1</th>\n",
              "      <td>0.02731</td>\n",
              "      <td>0.0</td>\n",
              "      <td>7.07</td>\n",
              "      <td>0.0</td>\n",
              "      <td>0.469</td>\n",
              "      <td>6.421</td>\n",
              "      <td>78.9</td>\n",
              "      <td>4.9671</td>\n",
              "      <td>2.0</td>\n",
              "      <td>242.0</td>\n",
              "      <td>17.8</td>\n",
              "      <td>396.90</td>\n",
              "      <td>9.14</td>\n",
              "    </tr>\n",
              "    <tr>\n",
              "      <th>2</th>\n",
              "      <td>0.02729</td>\n",
              "      <td>0.0</td>\n",
              "      <td>7.07</td>\n",
              "      <td>0.0</td>\n",
              "      <td>0.469</td>\n",
              "      <td>7.185</td>\n",
              "      <td>61.1</td>\n",
              "      <td>4.9671</td>\n",
              "      <td>2.0</td>\n",
              "      <td>242.0</td>\n",
              "      <td>17.8</td>\n",
              "      <td>392.83</td>\n",
              "      <td>4.03</td>\n",
              "    </tr>\n",
              "    <tr>\n",
              "      <th>3</th>\n",
              "      <td>0.03237</td>\n",
              "      <td>0.0</td>\n",
              "      <td>2.18</td>\n",
              "      <td>0.0</td>\n",
              "      <td>0.458</td>\n",
              "      <td>6.998</td>\n",
              "      <td>45.8</td>\n",
              "      <td>6.0622</td>\n",
              "      <td>3.0</td>\n",
              "      <td>222.0</td>\n",
              "      <td>18.7</td>\n",
              "      <td>394.63</td>\n",
              "      <td>2.94</td>\n",
              "    </tr>\n",
              "    <tr>\n",
              "      <th>4</th>\n",
              "      <td>0.06905</td>\n",
              "      <td>0.0</td>\n",
              "      <td>2.18</td>\n",
              "      <td>0.0</td>\n",
              "      <td>0.458</td>\n",
              "      <td>7.147</td>\n",
              "      <td>54.2</td>\n",
              "      <td>6.0622</td>\n",
              "      <td>3.0</td>\n",
              "      <td>222.0</td>\n",
              "      <td>18.7</td>\n",
              "      <td>396.90</td>\n",
              "      <td>5.33</td>\n",
              "    </tr>\n",
              "  </tbody>\n",
              "</table>\n",
              "</div>"
            ],
            "text/plain": [
              "      CRIM    ZN  INDUS  CHAS    NOX  ...  RAD    TAX  PTRATIO       B  LSTAT\n",
              "0  0.00632  18.0   2.31   0.0  0.538  ...  1.0  296.0     15.3  396.90   4.98\n",
              "1  0.02731   0.0   7.07   0.0  0.469  ...  2.0  242.0     17.8  396.90   9.14\n",
              "2  0.02729   0.0   7.07   0.0  0.469  ...  2.0  242.0     17.8  392.83   4.03\n",
              "3  0.03237   0.0   2.18   0.0  0.458  ...  3.0  222.0     18.7  394.63   2.94\n",
              "4  0.06905   0.0   2.18   0.0  0.458  ...  3.0  222.0     18.7  396.90   5.33\n",
              "\n",
              "[5 rows x 13 columns]"
            ]
          },
          "metadata": {
            "tags": []
          },
          "execution_count": 21
        }
      ]
    },
    {
      "cell_type": "code",
      "metadata": {
        "id": "6ETFcTllN31K",
        "outputId": "b90f8915-ea4c-46e8-af88-2ef0e874652f",
        "colab": {
          "base_uri": "https://localhost:8080/",
          "height": 204
        }
      },
      "source": [
        "y.head()"
      ],
      "execution_count": 22,
      "outputs": [
        {
          "output_type": "execute_result",
          "data": {
            "text/html": [
              "<div>\n",
              "<style scoped>\n",
              "    .dataframe tbody tr th:only-of-type {\n",
              "        vertical-align: middle;\n",
              "    }\n",
              "\n",
              "    .dataframe tbody tr th {\n",
              "        vertical-align: top;\n",
              "    }\n",
              "\n",
              "    .dataframe thead th {\n",
              "        text-align: right;\n",
              "    }\n",
              "</style>\n",
              "<table border=\"1\" class=\"dataframe\">\n",
              "  <thead>\n",
              "    <tr style=\"text-align: right;\">\n",
              "      <th></th>\n",
              "      <th>Target</th>\n",
              "    </tr>\n",
              "  </thead>\n",
              "  <tbody>\n",
              "    <tr>\n",
              "      <th>0</th>\n",
              "      <td>24.0</td>\n",
              "    </tr>\n",
              "    <tr>\n",
              "      <th>1</th>\n",
              "      <td>21.6</td>\n",
              "    </tr>\n",
              "    <tr>\n",
              "      <th>2</th>\n",
              "      <td>34.7</td>\n",
              "    </tr>\n",
              "    <tr>\n",
              "      <th>3</th>\n",
              "      <td>33.4</td>\n",
              "    </tr>\n",
              "    <tr>\n",
              "      <th>4</th>\n",
              "      <td>36.2</td>\n",
              "    </tr>\n",
              "  </tbody>\n",
              "</table>\n",
              "</div>"
            ],
            "text/plain": [
              "   Target\n",
              "0    24.0\n",
              "1    21.6\n",
              "2    34.7\n",
              "3    33.4\n",
              "4    36.2"
            ]
          },
          "metadata": {
            "tags": []
          },
          "execution_count": 22
        }
      ]
    },
    {
      "cell_type": "code",
      "metadata": {
        "id": "kY0ISVSSOIaR",
        "outputId": "fae3b811-f17d-43b8-b95b-894b872b3ec9",
        "colab": {
          "base_uri": "https://localhost:8080/"
        }
      },
      "source": [
        "reg = LinearRegression().fit(X,y)\n",
        "\n",
        "print(lin.intercept_, lin.coef_)"
      ],
      "execution_count": 23,
      "outputs": [
        {
          "output_type": "stream",
          "text": [
            "[-0.74839981] [[0.51522795]]\n"
          ],
          "name": "stdout"
        }
      ]
    },
    {
      "cell_type": "markdown",
      "metadata": {
        "id": "5D3XrTRoy-9w"
      },
      "source": [
        "## Data for classification \n",
        "The lecture has introduced two flavors of predictive modeling, regression and classification. So far, we have focused on regression. Recall that classification differs from regression in the scaling of the target variable. Regression assumes a numeric target variable, like sales, whereas classification assumes a discrete target. For simplicity, we consider a binary target variable with just two states. You have seen many business use cases for binary classification in the lecture. Here, we simply assume examples \n",
        "\n",
        "- Introduce students to data generation for classification \n",
        "- lecture has not introduced any classifier up to this point. Still showcase the logit model, say something like similar to linear regression but for classification, details to follow in chapter 5. Use statsmodels api for the logit model\n",
        "- Whole part can be based on the below code, which is nice and already has explanations. Only some adjustments needed\n"
      ]
    },
    {
      "cell_type": "markdown",
      "metadata": {
        "id": "i4gm5VJby-9w"
      },
      "source": [
        "---\n",
        "# The following part is copied from another course and needs adjustment\n",
        "---"
      ]
    },
    {
      "cell_type": "markdown",
      "metadata": {
        "id": "0x7wuQWIbUSi"
      },
      "source": [
        "\n",
        "## Generating Data\n",
        "\n",
        "For this exercise we will generate our own (synthetic) data, to better understand what we are doing and what the logistic regression in particular does. For example, we will consider data in two dimensions. This is useful because we can easily plot the data.\n",
        "\n",
        "To create synthetic data, you will use routines to generate random numbers. To ensure that you get the same result when you run your code multiple times, you should first fix the seed of the random number generator. We have already created a *code* cell below, which you can now edit to fix the seed.\n",
        "\n",
        "(Hint: if you have paid attention to the [read me](https://github.com/stefanlessmann/VHB_ProDoc_ML/blob/master/README.md), this task should be familiar.) "
      ]
    },
    {
      "cell_type": "code",
      "metadata": {
        "id": "dmympbXGbcJE"
      },
      "source": [
        "# set random seed, such that every run yields the same sequence of random numbers\n",
        "np.random.seed(1234)"
      ],
      "execution_count": 24,
      "outputs": []
    },
    {
      "cell_type": "markdown",
      "metadata": {
        "id": "LKqqS5SUb3cn"
      },
      "source": [
        "We want to generate a data set for binary classification. This means that each of the data points that we will create belongs to one out of two classes.\n",
        "\n",
        "A surprisingly large number of real-life (business) problems can be framed as a two-class classification problem, as we will discuss intensively in the course. \n",
        "\n",
        "To facilitate plotting the data, we will focus on a two-dimensional setting. Each of our data points is characterized by two attributes or, if you prefer, (independent) variables. Assume you want to predict whehter a machine is going to break in the next week. Break or do not break are the two possible states (i.e., classes). The attributes could then be the temperature of the machine and the time it is running.\n",
        "\n",
        "In this task, we assum that the data of each class comes from a multivariate normal distribution. Utilize the different functions within *numpy.random* to generate normally distributed data. Note that you need two normals with different parameters; one set of parameters for class 1 and another set of parameters for class 2. You can play with the parameters to create data in which the seperation of the two classes using a classification model is easier or harder. \n",
        "\n",
        "Create a reasonable number of observations, e.g., around 1000 - 5000. Recall that you need to store three values for each data point, one for the class label (class 1 or class 2) and one value for each of the two attributes. Examine ways to store the data in a matrix-like array. "
      ]
    },
    {
      "cell_type": "code",
      "metadata": {
        "id": "HnzdV8d5byqm"
      },
      "source": [
        "# Write code to generate your data with two normally distributed attributes and a binary class label.\n",
        "\n",
        "\n",
        "# var_1 = np.random.multivariate_normal(mean=[0,0], cov=[[1, .75],[.75, 1]], size=1000)\n",
        "# var_2 = np.random.multivariate_normal(mean=[0,0], cov=[[1, .75],[.75, 1]], size=1000)\n",
        "\n",
        "class1_x = np.random.normal(loc=1, scale=1, size=1000)\n",
        "class1_y = np.random.normal(loc=1, scale=1, size=1000)\n",
        "\n",
        "class2_x = np.random.normal(loc=4, scale=1, size=1000)\n",
        "class2_y = np.random.normal(loc=4, scale=1, size=1000)\n",
        "\n",
        "lab1 = np.repeat(0, 1000)\n",
        "lab2 = np.repeat(1, 1000)\n",
        "\n",
        "class1 = np.vstack((class1_x, class1_y)).T\n",
        "class2 = np.vstack((class2_x, class2_y)).T\n",
        "\n",
        "data = np.vstack((class1,class2))\n",
        "labels = np.concatenate((lab1,lab2))"
      ],
      "execution_count": 25,
      "outputs": []
    },
    {
      "cell_type": "markdown",
      "metadata": {
        "id": "1ukXkCGTnQQd"
      },
      "source": [
        "Once you have created your data, create a scatter plot using the function *scatter*, which the library matplotlib provides. Here you can find an [example how your result shoud look like](https://github.com/stefanlessmann/VHB_ProDoc_ML/blob/master/prodoc_ml_miniassign_1_demo_plot1.png). In the example, we have denoted our two variables as $x_1$ and $x_2$ and used the binary class label to color the data points. \n",
        "\n",
        "Do not forget to alter the parameters of your two normal distributions and examine how changing the parameters make the two classes easier or harder to distinguish.\n",
        "  "
      ]
    },
    {
      "cell_type": "code",
      "metadata": {
        "id": "DGUHFVKvjxx-",
        "outputId": "e2657238-fb79-4ff0-f458-1651a9e6b285",
        "colab": {
          "base_uri": "https://localhost:8080/",
          "height": 281
        }
      },
      "source": [
        "# Write code to create the scatter plot\n",
        "plt.scatter(data[:,0], data[:,1], c=labels, alpha=.3);\n",
        "plt.xlabel(\"$x_1$\");\n",
        "plt.ylabel(\"$x_2$\");"
      ],
      "execution_count": 26,
      "outputs": [
        {
          "output_type": "display_data",
          "data": {
            "image/png": "[encoded data removed]",
            "text/plain": [
              "<Figure size 432x288 with 1 Axes>"
            ]
          },
          "metadata": {
            "tags": [],
            "needs_background": "light"
          }
        }
      ]
    },
    {
      "cell_type": "markdown",
      "metadata": {
        "id": "DTFZiS06nt7w"
      },
      "source": [
        "Next up, we would like to solve our toy classification problem using logistic regression. By 'solve' we mean that the logistic model should be able to distinguish data points of the two classes based on their attribute values. More formally, given a data point $ \\boldsymbol x \\in \\mathbb{R}^2 $ with values $x_1$ and $x_2$, our logistic model should provide an estimate of the probability $p \\left ( y| \\boldsymbol x \\right )$, with $ y \\in \\left \\{ 0,1 \\right \\} $ denoting the binary class label. To achieve this, the logistic model will maximize the likelihood of the data. In case this does not sound familiar, note that we will brielfy revisit logistic regression in the course. Still, it would be a good idea to read the [wikipedia page on logistic regression](https://en.wikipedia.org/wiki/Logistic_regression) or one of the many tutorials on the topic (e.g., [here](https://towardsdatascience.com/logistic-regression-detailed-overview-46c4da4303bc)) to refresh your stats skills.  \n",
        "\n",
        "With regard to Python, both statsmodels and scikit learn are good python packages to use for logistic regression. Start with using scikit learn. Make sure to set the penalty to 'none' such that no regularization is applied."
      ]
    },
    {
      "cell_type": "code",
      "metadata": {
        "id": "L5H5Q-GzkVWa",
        "outputId": "51d71f99-0083-4fcf-8fea-69195ee98864",
        "colab": {
          "base_uri": "https://localhost:8080/",
          "height": 197
        }
      },
      "source": [
        "# Insert code to estimate a logistic regression model using scikit learn\n",
        "model = LogisticRegression(penalty='none', fit_intercept=True)\n",
        "model.fit(data, labels)"
      ],
      "execution_count": 27,
      "outputs": [
        {
          "output_type": "error",
          "ename": "NameError",
          "evalue": "ignored",
          "traceback": [
            "\u001b[0;31m---------------------------------------------------------------------------\u001b[0m",
            "\u001b[0;31mNameError\u001b[0m                                 Traceback (most recent call last)",
            "\u001b[0;32m<ipython-input-27-6b4b887744f8>\u001b[0m in \u001b[0;36m<module>\u001b[0;34m()\u001b[0m\n\u001b[1;32m      1\u001b[0m \u001b[0;31m# Insert code to estimate a logistic regression model using scikit learn\u001b[0m\u001b[0;34m\u001b[0m\u001b[0;34m\u001b[0m\u001b[0;34m\u001b[0m\u001b[0m\n\u001b[0;32m----> 2\u001b[0;31m \u001b[0mmodel\u001b[0m \u001b[0;34m=\u001b[0m \u001b[0mLogisticRegression\u001b[0m\u001b[0;34m(\u001b[0m\u001b[0mpenalty\u001b[0m\u001b[0;34m=\u001b[0m\u001b[0;34m'none'\u001b[0m\u001b[0;34m,\u001b[0m \u001b[0mfit_intercept\u001b[0m\u001b[0;34m=\u001b[0m\u001b[0;32mTrue\u001b[0m\u001b[0;34m)\u001b[0m\u001b[0;34m\u001b[0m\u001b[0;34m\u001b[0m\u001b[0m\n\u001b[0m\u001b[1;32m      3\u001b[0m \u001b[0mmodel\u001b[0m\u001b[0;34m.\u001b[0m\u001b[0mfit\u001b[0m\u001b[0;34m(\u001b[0m\u001b[0mdata\u001b[0m\u001b[0;34m,\u001b[0m \u001b[0mlabels\u001b[0m\u001b[0;34m)\u001b[0m\u001b[0;34m\u001b[0m\u001b[0;34m\u001b[0m\u001b[0m\n",
            "\u001b[0;31mNameError\u001b[0m: name 'LogisticRegression' is not defined"
          ]
        }
      ]
    },
    {
      "cell_type": "markdown",
      "metadata": {
        "id": "vEDAjmuTobsx"
      },
      "source": [
        "Having estimated the logit model, we want to evaluate our results. To that end, we first inspect the estimated model, i.e. the intercept term and the coefficients. You should be familiar with this step from your experiences with [linear regression](https://en.wikipedia.org/wiki/Linear_regression)."
      ]
    },
    {
      "cell_type": "code",
      "metadata": {
        "id": "t5Pbai1kqI7w"
      },
      "source": [
        "# Print intercept and coefficients of the estimated logit model\n",
        "print('Intercept:')\n",
        "print(model.intercept_)\n",
        "\n",
        "print('Coefficients:')\n",
        "print(model.coef_)"
      ],
      "execution_count": null,
      "outputs": []
    },
    {
      "cell_type": "markdown",
      "metadata": {
        "id": "pHUsK1TkG3iZ"
      },
      "source": [
        "Speaking about linear regression, wasn't there are nice way to summarize the estimated model, depicting coefficient values, test statistics, p-values and the like? Should'nt logistic regression gives a similarly neat output? Yes, it should and it actually can, provided we use the statsmodels package instead of scikitlearn. In brief, scikit-learn is the 'goto-library' for machine learning in Python. We will use it a lot in the course. However, let's also play with statsmodels. \n",
        "\n",
        "Repeat the above task and estimate a logit model but this time using statsmodels.  Also produce a compelling summary table of your model including p-values and fitting statistics. Use a different variable name for the resulting model, for instance 'stat_model_logit', than you used above."
      ]
    },
    {
      "cell_type": "code",
      "metadata": {
        "id": "P1uDo7lCHu6I"
      },
      "source": [
        " # Code to run logistic regression and output resulting model using statsmodel library\n",
        "import statsmodels.api as sm\n",
        "stat_model_logit=sm.Logit(labels,data)\n",
        "result=stat_model_logit.fit()\n",
        "print(result.summary2())"
      ],
      "execution_count": null,
      "outputs": []
    },
    {
      "cell_type": "markdown",
      "metadata": {
        "id": "RoK4hpjHFmQg"
      },
      "source": [
        "Furthermore, we want to look at the classification accuracy of the model, that is the number of cases it classifies correctly. For simplicity, we will calculate classification accuracy **in-sample**.  This means that we use the same data set, which we used to before to estimate the model, to compute its accurcy. Note that this is typically a bad idea. We will discuss why in the course, but maybe you already have an answer? \n",
        "\n",
        "Calculating classification accuracy, i.e. the fraction of correctly classified cases, requires setting a probability treshold might. Let's consider a value of .5 for now. \n",
        "\n",
        "If the accuracy is wildly off, either you deliberately generated data that was hard to separate into classes or you did something wrong. Go back to data generation, alter the parameters of the normal distributions, and examine how accuracy varies with parameter adjustments. "
      ]
    },
    {
      "cell_type": "code",
      "metadata": {
        "id": "lo46pDbPFjHE"
      },
      "source": [
        "# Calculate the classification accuracy of the logit model in-sample using a classification cut-off of 0.5\n",
        "# Using inbuild scikit-learn functionality, you can achive this with one line of code\n",
        "print('Accuracy:')\n",
        "model.score(data, labels)"
      ],
      "execution_count": null,
      "outputs": []
    },
    {
      "cell_type": "markdown",
      "metadata": {
        "id": "umNinQpfqzFH"
      },
      "source": [
        "To get a better intuition for how the logistic regression works, we want to plot the decision boundary of the regression model given our datapoints. There are multiple options to do this, the simplest being drawing a line given the parameters of the model. Also adding our data, as we did before, this will produce a very nice graph of our classification problem and the classify we developed. Here is once again an [example](https://github.com/stefanlessmann/VHB_ProDoc_ML/blob/master/prodoc_ml_miniassign_1_demo_plot2.png). Your plot should look similar."
      ]
    },
    {
      "cell_type": "code",
      "metadata": {
        "id": "GLxXmwvFrM4W"
      },
      "source": [
        "Synthetic data generation in sklearn# Write code to create a two-dimensional plot of the data and how the logistic regression seperates the two classes\n",
        "  w = model.coef_[0]\n",
        "  xx = np.linspace(-2,8)\n",
        "\n",
        "  a = -w[0] / w[1]\n",
        "  b = -model.intercept_[0] / w[1]\n",
        "\n",
        "  yy = a * xx + b\n",
        "\n",
        "fig = plt.figure()\n",
        "plt.scatter(data[:,0], data[:,1], c=labels, alpha=.3, marker='x')\n",
        "plt.plot(xx,yy);\n",
        "plt.xlabel(\"$x_1$\");\n",
        "plt.ylabel(\"$x_2$\");"
      ],
      "execution_count": null,
      "outputs": []
    },
    {
      "cell_type": "markdown",
      "metadata": {
        "id": "M1kkD-L_y--Q"
      },
      "source": [
        "## Synthetic data generation in sklearn\n",
        "\n",
        "the tutorial was more on data generation than supervised learning but that is ok. Given its focus, I'd like to have a brief finish in which we introduce make_classification and make_regression. I assume that the tutorial for chapter 2 will have used make_blob to generate data for clustering. So some cross-references are appropriate. Speaking about references, we can leave a link to [this post](https://towardsdatascience.com/https-medium-com-faizanahemad-generating-synthetic-classification-data-using-scikit-1590c1632922), which is quite useful."
      ]
    },
    {
      "cell_type": "code",
      "metadata": {
        "id": "cUU65_41y--R"
      },
      "source": [
        ""
      ],
      "execution_count": null,
      "outputs": []
    }
  ]
}
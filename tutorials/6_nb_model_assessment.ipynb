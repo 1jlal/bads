{
 "cells": [
  {
   "cell_type": "markdown",
   "metadata": {
    "id": "Ka20bzp6PcNj"
   },
   "source": [
    "[![Open In Colab](https://colab.research.google.com/assets/colab-badge.svg)](https://colab.research.google.com/github/Humboldt-WI/bads/blob/master/tutorials/6_nb_model_assessment.ipynb) \n"
   ]
  },
  {
   "cell_type": "markdown",
   "metadata": {
    "id": "swSaDjWvNDnY"
   },
   "source": [
    "# Chapter 6 - Prediction model evaluation \n",
    "We have learned about logistic regression and CART in the fifths chapter of the course introduces two popular algorithms for supervised learning, the logistic regression model and classification and regression trees (CART). Today, we examine practices to assess these approaches in terms of predictive accuracy. Remember that accuracy is not the only relevant dimension of model performance. Also remember that both logit and trees could also be considered for *explanatory* modeling, which would imply use of yet different evaluation criteria. Here, however, our focus is prediction. Further, we will focus on models for classification. Measuring the predictive accuracy of a regression model is straightforward and calculating indicators such as MSE, MAE, MAPE, and the like. Once you can assess a classification model, you will have no problems whatsoever to assess a regression model.  \n",
    "\n",
    "The outline of the tutorial is as follows:\n",
    "- Preliminaries\n",
    "- Forecast accuracy in classification\n",
    "- Data partitioning and organization"
   ]
  },
  {
   "cell_type": "markdown",
   "metadata": {},
   "source": [
    "# Preliminaries\n",
    "As usual, it makes sense to import a set of standard libraries before moving on. "
   ]
  },
  {
   "cell_type": "code",
   "execution_count": 14,
   "metadata": {},
   "outputs": [],
   "source": [
    "import numpy as np\n",
    "import matplotlib.pyplot as plt\n",
    "import pandas as pd \n",
    "# Some configuration of the plots we will create later\n",
    "%matplotlib inline  \n",
    "plt.rcParams[\"figure.figsize\"] = (12,6)\n",
    "\n"
   ]
  },
  {
   "cell_type": "markdown",
   "metadata": {},
   "source": [
    "## Data\n",
    "Further, here and in future tutorials, we will need some data to play with. Given our focus on classification and given that we know the data quite well by now, we will continue with the **HMEQ data set**. So let's load this data set as well, whereby we make use of the prepared version from [Tutorial 4](https://github.com/Humboldt-WI/bads/blob/master/tutorials/4_nb_data_preparation.ipynb) which is readily available in our [GitHub repo](https://github.com/Humboldt-WI/bads). Just return to [tutorial 4](https://github.com/Humboldt-WI/bads/blob/master/tutorials/4_nb_data_preparation.ipynb) if you need a refresher."
   ]
  },
  {
   "cell_type": "code",
   "execution_count": 4,
   "metadata": {},
   "outputs": [
    {
     "data": {
      "text/html": [
       "<div>\n",
       "<style scoped>\n",
       "    .dataframe tbody tr th:only-of-type {\n",
       "        vertical-align: middle;\n",
       "    }\n",
       "\n",
       "    .dataframe tbody tr th {\n",
       "        vertical-align: top;\n",
       "    }\n",
       "\n",
       "    .dataframe thead th {\n",
       "        text-align: right;\n",
       "    }\n",
       "</style>\n",
       "<table border=\"1\" class=\"dataframe\">\n",
       "  <thead>\n",
       "    <tr style=\"text-align: right;\">\n",
       "      <th></th>\n",
       "      <th>BAD</th>\n",
       "      <th>LOAN</th>\n",
       "      <th>MORTDUE</th>\n",
       "      <th>VALUE</th>\n",
       "      <th>YOJ</th>\n",
       "      <th>CLAGE</th>\n",
       "      <th>NINQ</th>\n",
       "      <th>CLNO</th>\n",
       "      <th>DEBTINC</th>\n",
       "      <th>DEROGzero</th>\n",
       "      <th>REASON_HomeImp</th>\n",
       "      <th>REASON_IsMissing</th>\n",
       "      <th>JOB_Office</th>\n",
       "      <th>JOB_Other</th>\n",
       "      <th>JOB_ProfExe</th>\n",
       "      <th>JOB_Sales</th>\n",
       "      <th>JOB_Self</th>\n",
       "      <th>DELINQcat_1</th>\n",
       "      <th>DELINQcat_1+</th>\n",
       "    </tr>\n",
       "    <tr>\n",
       "      <th>index</th>\n",
       "      <th></th>\n",
       "      <th></th>\n",
       "      <th></th>\n",
       "      <th></th>\n",
       "      <th></th>\n",
       "      <th></th>\n",
       "      <th></th>\n",
       "      <th></th>\n",
       "      <th></th>\n",
       "      <th></th>\n",
       "      <th></th>\n",
       "      <th></th>\n",
       "      <th></th>\n",
       "      <th></th>\n",
       "      <th></th>\n",
       "      <th></th>\n",
       "      <th></th>\n",
       "      <th></th>\n",
       "      <th></th>\n",
       "    </tr>\n",
       "  </thead>\n",
       "  <tbody>\n",
       "    <tr>\n",
       "      <th>0</th>\n",
       "      <td>True</td>\n",
       "      <td>-1.832283</td>\n",
       "      <td>-1.295882</td>\n",
       "      <td>-1.335526</td>\n",
       "      <td>0.266788</td>\n",
       "      <td>-1.075278</td>\n",
       "      <td>-0.065054</td>\n",
       "      <td>-1.297476</td>\n",
       "      <td>0.137456</td>\n",
       "      <td>True</td>\n",
       "      <td>1</td>\n",
       "      <td>0</td>\n",
       "      <td>0</td>\n",
       "      <td>1</td>\n",
       "      <td>0</td>\n",
       "      <td>0</td>\n",
       "      <td>0</td>\n",
       "      <td>0</td>\n",
       "      <td>0</td>\n",
       "    </tr>\n",
       "    <tr>\n",
       "      <th>1</th>\n",
       "      <td>True</td>\n",
       "      <td>-1.810666</td>\n",
       "      <td>-0.013474</td>\n",
       "      <td>-0.672699</td>\n",
       "      <td>-0.236615</td>\n",
       "      <td>-0.723092</td>\n",
       "      <td>-0.826792</td>\n",
       "      <td>-0.756608</td>\n",
       "      <td>0.137456</td>\n",
       "      <td>True</td>\n",
       "      <td>1</td>\n",
       "      <td>0</td>\n",
       "      <td>0</td>\n",
       "      <td>1</td>\n",
       "      <td>0</td>\n",
       "      <td>0</td>\n",
       "      <td>0</td>\n",
       "      <td>0</td>\n",
       "      <td>1</td>\n",
       "    </tr>\n",
       "    <tr>\n",
       "      <th>2</th>\n",
       "      <td>True</td>\n",
       "      <td>-1.789048</td>\n",
       "      <td>-1.654549</td>\n",
       "      <td>-1.839275</td>\n",
       "      <td>-0.668103</td>\n",
       "      <td>-0.368769</td>\n",
       "      <td>-0.065054</td>\n",
       "      <td>-1.189302</td>\n",
       "      <td>0.137456</td>\n",
       "      <td>True</td>\n",
       "      <td>1</td>\n",
       "      <td>0</td>\n",
       "      <td>0</td>\n",
       "      <td>1</td>\n",
       "      <td>0</td>\n",
       "      <td>0</td>\n",
       "      <td>0</td>\n",
       "      <td>0</td>\n",
       "      <td>0</td>\n",
       "    </tr>\n",
       "    <tr>\n",
       "      <th>3</th>\n",
       "      <td>True</td>\n",
       "      <td>-1.789048</td>\n",
       "      <td>-0.159552</td>\n",
       "      <td>-0.202559</td>\n",
       "      <td>-0.236615</td>\n",
       "      <td>-0.061033</td>\n",
       "      <td>-0.065054</td>\n",
       "      <td>-0.107566</td>\n",
       "      <td>0.137456</td>\n",
       "      <td>True</td>\n",
       "      <td>0</td>\n",
       "      <td>1</td>\n",
       "      <td>0</td>\n",
       "      <td>1</td>\n",
       "      <td>0</td>\n",
       "      <td>0</td>\n",
       "      <td>0</td>\n",
       "      <td>0</td>\n",
       "      <td>0</td>\n",
       "    </tr>\n",
       "    <tr>\n",
       "      <th>4</th>\n",
       "      <td>False</td>\n",
       "      <td>-1.767431</td>\n",
       "      <td>0.791699</td>\n",
       "      <td>0.311107</td>\n",
       "      <td>-0.811933</td>\n",
       "      <td>-1.088528</td>\n",
       "      <td>-0.826792</td>\n",
       "      <td>-0.756608</td>\n",
       "      <td>0.137456</td>\n",
       "      <td>True</td>\n",
       "      <td>1</td>\n",
       "      <td>0</td>\n",
       "      <td>1</td>\n",
       "      <td>0</td>\n",
       "      <td>0</td>\n",
       "      <td>0</td>\n",
       "      <td>0</td>\n",
       "      <td>0</td>\n",
       "      <td>0</td>\n",
       "    </tr>\n",
       "  </tbody>\n",
       "</table>\n",
       "</div>"
      ],
      "text/plain": [
       "         BAD      LOAN   MORTDUE     VALUE       YOJ     CLAGE      NINQ  \\\n",
       "index                                                                      \n",
       "0       True -1.832283 -1.295882 -1.335526  0.266788 -1.075278 -0.065054   \n",
       "1       True -1.810666 -0.013474 -0.672699 -0.236615 -0.723092 -0.826792   \n",
       "2       True -1.789048 -1.654549 -1.839275 -0.668103 -0.368769 -0.065054   \n",
       "3       True -1.789048 -0.159552 -0.202559 -0.236615 -0.061033 -0.065054   \n",
       "4      False -1.767431  0.791699  0.311107 -0.811933 -1.088528 -0.826792   \n",
       "\n",
       "           CLNO   DEBTINC  DEROGzero  REASON_HomeImp  REASON_IsMissing  \\\n",
       "index                                                                    \n",
       "0     -1.297476  0.137456       True               1                 0   \n",
       "1     -0.756608  0.137456       True               1                 0   \n",
       "2     -1.189302  0.137456       True               1                 0   \n",
       "3     -0.107566  0.137456       True               0                 1   \n",
       "4     -0.756608  0.137456       True               1                 0   \n",
       "\n",
       "       JOB_Office  JOB_Other  JOB_ProfExe  JOB_Sales  JOB_Self  DELINQcat_1  \\\n",
       "index                                                                         \n",
       "0               0          1            0          0         0            0   \n",
       "1               0          1            0          0         0            0   \n",
       "2               0          1            0          0         0            0   \n",
       "3               0          1            0          0         0            0   \n",
       "4               1          0            0          0         0            0   \n",
       "\n",
       "       DELINQcat_1+  \n",
       "index                \n",
       "0                 0  \n",
       "1                 1  \n",
       "2                 0  \n",
       "3                 0  \n",
       "4                 0  "
      ]
     },
     "execution_count": 4,
     "metadata": {},
     "output_type": "execute_result"
    }
   ],
   "source": [
    "data_url = 'https://raw.githubusercontent.com/Humboldt-WI/bads/master/data/hmeq_modeling.csv' \n",
    "df = pd.read_csv(data_url, index_col=\"index\")\n",
    "df.head(5) "
   ]
  },
  {
   "cell_type": "markdown",
   "metadata": {},
   "source": [
    "## Prediction models\n",
    "Finally, since we aim at assessing predictions, we need to obtain some predictions in the first place. Hence, let's quickly build a logit and tree model for our data set. "
   ]
  },
  {
   "cell_type": "code",
   "execution_count": null,
   "metadata": {},
   "outputs": [],
   "source": [
    "# Split data into target and features\n",
    "X = df.drop(['BAD'], axis=1) #code the variables in the most standard way for your usage\n",
    "y = df[['BAD']]"
   ]
  },
  {
   "cell_type": "code",
   "execution_count": 10,
   "metadata": {},
   "outputs": [
    {
     "data": {
      "text/plain": [
       "LogisticRegression(C=1.0, class_weight=None, dual=False, fit_intercept=True,\n",
       "                   intercept_scaling=1, l1_ratio=None, max_iter=100,\n",
       "                   multi_class='auto', n_jobs=None, penalty='none',\n",
       "                   random_state=None, solver='lbfgs', tol=0.0001, verbose=0,\n",
       "                   warm_start=False)"
      ]
     },
     "execution_count": 10,
     "metadata": {},
     "output_type": "execute_result"
    }
   ],
   "source": [
    "# Estimate a logit model\n",
    "from sklearn.linear_model import LogisticRegression\n",
    "\n",
    "logit = LogisticRegression(penalty='none', fit_intercept=True)\n",
    "logit.fit(X, y)"
   ]
  },
  {
   "cell_type": "code",
   "execution_count": 55,
   "metadata": {},
   "outputs": [
    {
     "data": {
      "text/plain": [
       "DecisionTreeClassifier(ccp_alpha=0.0, class_weight=None, criterion='gini',\n",
       "                       max_depth=5, max_features=None, max_leaf_nodes=None,\n",
       "                       min_impurity_decrease=0.0, min_impurity_split=None,\n",
       "                       min_samples_leaf=1, min_samples_split=2,\n",
       "                       min_weight_fraction_leaf=0.0, presort='deprecated',\n",
       "                       random_state=None, splitter='best')"
      ]
     },
     "execution_count": 55,
     "metadata": {},
     "output_type": "execute_result"
    }
   ],
   "source": [
    "# Estimate a CART tree\n",
    "from sklearn.tree import DecisionTreeClassifier\n",
    "\n",
    "tree = DecisionTreeClassifier(criterion='gini', max_depth=5)\n",
    "tree.fit(X, y)"
   ]
  },
  {
   "cell_type": "markdown",
   "metadata": {},
   "source": [
    "# Forecast accuracy in classification"
   ]
  },
  {
   "cell_type": "markdown",
   "metadata": {},
   "source": [
    "## Continuous and discrete predictions\n",
    "To generate prediction from a bitted model, we simply apply it to data. You already saw the `predict()` function in action in [Tutorial 5](https://github.com/Humboldt-WI/bads/blob/master/tutorials/5_nb_supervised_learning.ipynb). At this point, however, it is time to examine its results more closely."
   ]
  },
  {
   "cell_type": "code",
   "execution_count": 56,
   "metadata": {},
   "outputs": [
    {
     "data": {
      "image/png": "[encoded data removed]",
      "text/plain": [
       "<Figure size 576x360 with 4 Axes>"
      ]
     },
     "metadata": {
      "needs_background": "light"
     },
     "output_type": "display_data"
    }
   ],
   "source": [
    "# We collect predictions into a dataframe for easy visualization\n",
    "df_pred = pd.DataFrame({'y': y, 'cart':tree.predict(X), 'logit': logit.predict(X)})  \n",
    "df_pred.hist();"
   ]
  },
  {
   "cell_type": "markdown",
   "metadata": {},
   "source": [
    "Insights?\n",
    "Well, the plot of $y$ reminds us that our target variable is binary. We also learn that the `predict()` function produces a bianry output. This is because we call this function on model objects that represent binary classifiers. **So, the output of `predict()` matches the type of the target variable.** Arguably, this is the behavior we would expect. So why stressing it. The reason is that, in classification, we typically do not want a discrete output. Instead, we typically want a **numeric prediction that represents the class-membership probability of a data point**. The most important accuracy indicators require probabilistic (or at least numeric) predictions. Further, the translation from a probabilistic prediction into a discrete class prediction should be done manually and in consideration of the different costs associated with misclassifying data points. We will further elaborate on this point in the chapter on [imbalanced and cost-sensitive learning](https://github.com/Humboldt-WI/bads/blob/master/tutorials/11_nb_imbalance_n_costs.ipynb). For now, it is enough to know that `sklearn` model classes also offer a method `predict_prob()`, which provides probabilistic predictions. We will typically use this function when applying a model to data. Watch out that the output of `predict_prob()` for binary classification models is a 2D array. We obtain the estimated membership probabilities for both classes. Yes, that appears odd since, e.g., $p_{GOOD} = 1 - p_{BAD}$. However, the function also supports multi-class problems. For multi-class problems, you would indeed want to know the membership probability associated with each class.   "
   ]
  },
  {
   "cell_type": "code",
   "execution_count": 57,
   "metadata": {},
   "outputs": [
    {
     "name": "stdout",
     "output_type": "stream",
     "text": [
      "[[0.68156773 0.31843227]\n",
      " [0.28383127 0.71616873]\n",
      " [0.72952638 0.27047362]\n",
      " ...\n",
      " [0.94108985 0.05891015]\n",
      " [0.94531214 0.05468786]\n",
      " [0.94664408 0.05335592]]\n"
     ]
    }
   ],
   "source": [
    "# Add probabilistic predictions to our dataframe\n",
    "p = logit.predict_proba(X)\n",
    "print(p)  # this is a 2D array"
   ]
  },
  {
   "cell_type": "markdown",
   "metadata": {},
   "source": [
    "When storing model predictions for later use, we only need probabilities for one of the classes. Always make sure you **understand which class predictions you keep.**. Examining the `classess` attribute of a model class helps us.   "
   ]
  },
  {
   "cell_type": "code",
   "execution_count": 58,
   "metadata": {},
   "outputs": [
    {
     "name": "stdout",
     "output_type": "stream",
     "text": [
      "[0 1]\n"
     ]
    }
   ],
   "source": [
    "print(logit.classes_)"
   ]
  },
  {
   "cell_type": "markdown",
   "metadata": {},
   "source": [
    "This says that we have two classes with class labels zero and one, respectively. Thus, to extract the estimated probabilities of the class with label zero, we can call `p[:,0]`. Likewise, `p[:,1]` gives the estimated membership probabilities of the second class with the label one. This is a bit complicated in the beginning but we have to get used to it. Below, we combine the indexing directly with calling `predict_proba()`, which is common practice, and keep the predictions associated with the second class. In our data, the class label one indicates that a borrower was a bad risk."
   ]
  },
  {
   "cell_type": "code",
   "execution_count": 59,
   "metadata": {},
   "outputs": [
    {
     "data": {
      "image/png": "[encoded data removed]",
      "text/plain": [
       "<Figure size 576x360 with 6 Axes>"
      ]
     },
     "metadata": {
      "needs_background": "light"
     },
     "output_type": "display_data"
    }
   ],
   "source": [
    "# Augment data frame with predictions\n",
    "df_pred[\"p_logit\"] = p[:,1]\n",
    "df_pred[\"p_tree\"] = tree.predict_proba(X)[:,1]\n",
    "df_pred.hist();"
   ]
  },
  {
   "cell_type": "markdown",
   "metadata": {},
   "source": [
    "## Measures of predictive accuracy \n",
    "Accuracy indicators help us evaluate how well our model predicts the target. We compute them by comparing actuals to predictions. One easy way to do so is by using the `score()` function."
   ]
  },
  {
   "cell_type": "code",
   "execution_count": 60,
   "metadata": {},
   "outputs": [
    {
     "name": "stdout",
     "output_type": "stream",
     "text": [
      "Logit model scores 0.8245\n",
      "Tree model scores 0.8913\n"
     ]
    }
   ],
   "source": [
    "print('Logit model scores {:.4}'.format(logit.score(X, y)))\n",
    "print('Tree model scores {:.4}'.format(tree.score(X, y)))"
   ]
  },
  {
   "cell_type": "markdown",
   "metadata": {},
   "source": [
    "Wow, so easy. Really? What actually is that score? Are higher scores better or should the score be low? We call functions like `score()` convenience functions. They are easy to use but hide many - often important - details. Look into the help to see what `score()` is really computing. "
   ]
  },
  {
   "cell_type": "markdown",
   "metadata": {},
   "source": [
    "We just asked you to look into the help. Don't be ignorant. Go back to the help before reading on. Pause."
   ]
  },
  {
   "cell_type": "code",
   "execution_count": 61,
   "metadata": {},
   "outputs": [],
   "source": [
    "import time\n",
    "time.sleep(5)"
   ]
  },
  {
   "cell_type": "markdown",
   "metadata": {},
   "source": [
    "Ok, **after reading the help** you now know that `score()` calculates *classification accuracy*. We defined that measure in the lecture. Let's first revisit the calculation"
   ]
  },
  {
   "cell_type": "code",
   "execution_count": 62,
   "metadata": {},
   "outputs": [
    {
     "name": "stdout",
     "output_type": "stream",
     "text": [
      "Manually calculated accuracy: 0.8245\n"
     ]
    }
   ],
   "source": [
    "# Re-calc accuracy of logit\n",
    "acc = np.sum(logit.predict(X)==y) / len(y)  # just one way to do the calculation\n",
    "print(\"Manually calculated accuracy: {:.4}\".format(acc))"
   ]
  },
  {
   "cell_type": "markdown",
   "metadata": {},
   "source": [
    "Ok that worked out. Now remember that we were rather critical with classification accuracy in the lecture. Let's revisit why we do not like this measure.\n",
    "\n",
    "Classification accuracy is a threshold metric. It calculates model performance for one threshold or classification cut-off. If not specified, this threshold is usually set to 0.5. That's also what the `predict()` function does. Changing the threshold can change the accuracy a lot although the model stays the same. This is particularly true in imbalanced data sets like this one. Let me give you an exemplary scenario: We have 100 observations. 5 observations are of the class 'BAD' and 95 of the class 'GOOD'. So even without finding any generalizable patterns, classifying all observations as good would still result in an accuracy of 95%. To ensure robustness of our model, we want to avoid dependence of a performance measure on the cut-off.\n",
    "\n",
    "A preferable approach to assess classification performance is to consider all possible thresholds. This is what *receiver-operating-characteristics (ROC) analysis* does. Before looking into ROC, let's have a look at the full confusion table first, which will also remind us of the role of the threshold."
   ]
  },
  {
   "cell_type": "markdown",
   "metadata": {},
   "source": [
    "### Confusion matrix\n",
    "A confusion matrix is a cross-table of predicted and actual classes. As such, it provides more insight into a classifier compared to the classification accuracy measure, which summarizes the whole confusion table in a single number."
   ]
  },
  {
   "cell_type": "code",
   "execution_count": 63,
   "metadata": {},
   "outputs": [
    {
     "name": "stdout",
     "output_type": "stream",
     "text": [
      "[[4568  203]\n",
      " [ 843  346]]\n"
     ]
    }
   ],
   "source": [
    "from sklearn import metrics  # Important lib where we find various performance measures\n",
    "\n",
    "# 1. Quick and dirty way to get a confusion table\n",
    "cmat = metrics.confusion_matrix(y, sk_logit.predict(X))\n",
    "print(cmat)"
   ]
  },
  {
   "cell_type": "code",
   "execution_count": 64,
   "metadata": {},
   "outputs": [
    {
     "data": {
      "image/png": "[encoded data removed]",
      "text/plain": [
       "<Figure size 576x360 with 2 Axes>"
      ]
     },
     "metadata": {
      "needs_background": "light"
     },
     "output_type": "display_data"
    }
   ],
   "source": [
    "# 2. Pretty-print confusion matrix\n",
    "plt.rcParams[\"figure.figsize\"] = (8,5)\n",
    "metrics.plot_confusion_matrix(logit, X, y, labels=[0, 1], display_labels=['Goods(0)', 'Bads(1)'], cmap='Blues',values_format='n')\n",
    "plt.show()"
   ]
  },
  {
   "cell_type": "markdown",
   "metadata": {},
   "source": [
    "Classification accuracy simply calculates the number of correct class predictions (main diagonal) over all cases. Again, which class a model predicts depends on the classification threshold. You classify cases as BAD if $p(y=BAD|x) \\gt \\tau$, where $\\tau$ denotes the threshold. \n",
    "\n",
    "Hence, the above confusion table is based on one threshold, and might look rather different for another. A ROC curve considers all cut-offs $\\tau \\in [0,1]$ plotting the True Positive Rate and False Positive Rate for each threshold."
   ]
  },
  {
   "cell_type": "markdown",
   "metadata": {},
   "source": [
    "### ROC Curve and AUC\n",
    "\n",
    "This is one of the most important evaluation metrics in classification analysis. Have a look at the graph below. The curve tells us how well the model differentiates the two classes, in regards to their predicted probabilities. A ROC curve has the FPR on the X-axis and FPR on the Y-axis. The curve is made up out of all the different combinations of TPR and FPR across all thresholds.\n",
    "\n",
    "The AUC stand for the Area under the Curve and is a ranking indicator. The AUC estimates the probability that a randomly chosen positive instance is correctly ranked higher than a randomly chosen negative (Hanley and McNeil, 1983) . We calculate this area, as our goal is to have a FPR of 0 and a TPR of 1. This would be the perfect model. This point is in the top right corner of a ROC Curve. So the closer we get to that point, the better the model and the bigger the area under it. It is common practice to add a horizontal line to the plot. You can show that this line corresponds to a random classifier. So any serious model should give a ROC curve (much) above the horizontal line. This also implies that a classifier should display AUC (much) bigger than 0.5.\n",
    "\n",
    "Below we show different way to plot the ROC curve."
   ]
  },
  {
   "cell_type": "code",
   "execution_count": 65,
   "metadata": {},
   "outputs": [
    {
     "data": {
      "image/png": "[encoded data removed]",
      "text/plain": [
       "<Figure size 576x360 with 1 Axes>"
      ]
     },
     "metadata": {
      "needs_background": "light"
     },
     "output_type": "display_data"
    }
   ],
   "source": [
    "# Scikit-learn offers an easy-to-use function to produce a ROC curve. \n",
    "metrics.plot_roc_curve(logit, X, y)\n",
    "plt.title('ROC curve of logit model')\n",
    "plt.plot([0, 1], [0, 1], \"r--\");  # the random benchmark we need to add manually"
   ]
  },
  {
   "cell_type": "markdown",
   "metadata": {},
   "source": [
    "If you want a little more control, for example to depict the training and test set results in one chart, you can proceed as follows: "
   ]
  },
  {
   "cell_type": "code",
   "execution_count": 66,
   "metadata": {},
   "outputs": [
    {
     "data": {
      "image/png": "[encoded data removed]",
      "text/plain": [
       "<Figure size 576x360 with 1 Axes>"
      ]
     },
     "metadata": {
      "needs_background": "light"
     },
     "output_type": "display_data"
    }
   ],
   "source": [
    "# Example how to 'manually' plot the ROC curve\n",
    "fpr, tpr, _ = metrics.roc_curve(y, df_pred['p_logit'].values)  # extracting FPR and TPR for the logit model\n",
    "fpr_tr, tpr_tr, _ = metrics.roc_curve(y, df_pred['p_tree'].values)  # same for the tree model\n",
    "\n",
    "# Compute AUC\n",
    "auc = metrics.auc(fpr, tpr) \n",
    "auc_tr = metrics.auc(fpr_tr, tpr_tr)\n",
    "\n",
    "# ROC curve:\n",
    "plt.plot(fpr, tpr, \"b\", label=\"Logit = %0.4f\" % auc)\n",
    "plt.plot(fpr_tr, tpr_tr, \"b\", label=\"Tree= %0.4f\" % auc_tr, color='green')\n",
    "\n",
    "# Random benchmark\n",
    "plt.plot([0, 1], [0, 1], \"r--\");  \n",
    "\n",
    "# Plot configuration\n",
    "plt.title('ROC curve of logit model on training and test Set')\n",
    "plt.ylabel(\"True Positive Rate\")\n",
    "plt.xlabel(\"False Positive Rate\")\n",
    "plt.legend(loc=\"lower right\")\n",
    "plt.show()"
   ]
  },
  {
   "cell_type": "markdown",
   "metadata": {},
   "source": [
    "### Brier score\n",
    "Last but not least, the lecture introduced the *Brier score* as the mean-squared error of a zero-one encoded target variable and probabilistic model predictions. Let's see which of our models does better in terms of Brier score."
   ]
  },
  {
   "cell_type": "code",
   "execution_count": 67,
   "metadata": {},
   "outputs": [
    {
     "name": "stdout",
     "output_type": "stream",
     "text": [
      "Brier score of logit: 0.127\n",
      "Brier score of the tree: 0.08434\n"
     ]
    }
   ],
   "source": [
    "bs_logit = np.sum( (y - df_pred['p_logit'].values) **2) / len(y)\n",
    "print(\"Brier score of logit: {:.4}\".format(bs_logit))\n",
    "\n",
    "bs_tree = np.sum( (y - df_pred['p_tree'].values) **2) / len(y)\n",
    "print(\"Brier score of the tree: {:.4}\".format(bs_tree))"
   ]
  },
  {
   "cell_type": "markdown",
   "metadata": {},
   "source": [
    "The Brier score is an error measure. Lower values indicate better performance. So, we once again find the tree to do better. As a matter of fact, **it was almost certain that the tree would perform better.** Any ideas why this is the case? If yes, pad yourself on the shoulder. You have really understood what predictive modeling is about."
   ]
  },
  {
   "cell_type": "markdown",
   "metadata": {},
   "source": [
    "## Data partitioning and organization\n",
    "Still searching for an answer to the above question why the tree was expected to beat logit? Want some help? The answer has to do with the data we used for calculating predictions and, by extension, model assessment. Specifically, we used the same data for model training and model evaluation. The lecture elaborates on why this is a bad idea, and our empirical results from the previous part kinda confirm that. Go back to the previous part and re-run the codes. This time, however, set the argument `max_depth` for the tree classifier to 10. What do you observe? "
   ]
  },
  {
   "cell_type": "markdown",
   "metadata": {},
   "source": [
    "Remember the golden rule of predictive modeling. **To assess a model, we need fresh data**. To that end, our model evaluation pipelines routinely include sample splitting and cross-validation. "
   ]
  },
  {
   "cell_type": "markdown",
   "metadata": {},
   "source": [
    "### TODO Split sample approach\n",
    "My idea:\n",
    "\n",
    "- showcase manual split sample comparison of logit vs tree using auc\n",
    "- repeat using sklearn train_test split"
   ]
  },
  {
   "cell_type": "markdown",
   "metadata": {},
   "source": [
    "### Cross-validation\n",
    "Cross validation is an extended approach of the split sample method. It consists of repeating the split sample method multiple times.\n",
    "\n",
    "Step by step:\n",
    "- Randomly split data in N disjoint folds (E.g., N=5) \n",
    "- Build model on N-1 folds and validate that model on the remaining fold \n",
    "- Apply trained model to predict cases in the validation sample (hold-out data) \n",
    "- Measure model performance \n",
    "- Repeat N times and average \n",
    "- Average model performance over validation folds gives performance estimate \n",
    "- Can also estimate standard deviation (e.g., for statistical hypothesis testing)"
   ]
  },
  {
   "cell_type": "markdown",
   "metadata": {},
   "source": [
    "#### TODO Cross-validation by hand\n",
    "- showcase random partitioning into the N folds \n",
    "- also enumerate the loop building an assessing one model in each iteration\n",
    "- print mean and std auc\n",
    "\n",
    "- Next introduce StratifiedKFold. Code below should do the job. We still adopt a rather manual approach this is to shed light what sklearn function do internally, i.e. what kind of data structure we get from `StratifiedKFold()`\n",
    "- Last, showcase higher-level functions that simplify CV further\n",
    "\n",
    "\n",
    "Kindly also add explanations :) \n"
   ]
  },
  {
   "cell_type": "code",
   "execution_count": 69,
   "metadata": {},
   "outputs": [
    {
     "name": "stdout",
     "output_type": "stream",
     "text": [
      "Cross-validating the logit model:\n",
      "\tCV iter: 0 with AUC=0.7767912196325071\n",
      "Average AUC on test set during cross-validation: 0.7768\n",
      "\tCV iter: 1 with AUC=0.7719288973451016\n",
      "Average AUC on test set during cross-validation: 0.7744\n",
      "\tCV iter: 2 with AUC=0.7543117876081251\n",
      "Average AUC on test set during cross-validation: 0.7677\n",
      "\tCV iter: 3 with AUC=0.7867096524144249\n",
      "Average AUC on test set during cross-validation: 0.7724\n",
      "\tCV iter: 4 with AUC=0.7855469231717844\n",
      "Average AUC on test set during cross-validation: 0.7751\n",
      "\tCV iter: 5 with AUC=0.7816887761393865\n",
      "Average AUC on test set during cross-validation: 0.7762\n",
      "\tCV iter: 6 with AUC=0.7800856191533218\n",
      "Average AUC on test set during cross-validation: 0.7767\n",
      "\tCV iter: 7 with AUC=0.8265771717492028\n",
      "Average AUC on test set during cross-validation: 0.7830\n",
      "\tCV iter: 8 with AUC=0.8060003875764141\n",
      "Average AUC on test set during cross-validation: 0.7855\n",
      "\tCV iter: 9 with AUC=0.7125381178639814\n",
      "Average AUC on test set during cross-validation: 0.7782\n"
     ]
    },
    {
     "data": {
      "image/png": "[encoded data removed]",
      "text/plain": [
       "<Figure size 576x432 with 1 Axes>"
      ]
     },
     "metadata": {
      "needs_background": "light"
     },
     "output_type": "display_data"
    }
   ],
   "source": [
    "# Demo from another course, maybe adapt, and explain\n",
    "\n",
    "from sklearn.model_selection import StratifiedKFold\n",
    "\n",
    "# Setup cross-validation and data structures to store results\n",
    "nfold = 10\n",
    "resultscv = list()\n",
    "cv = StratifiedKFold(n_splits=nfold)\n",
    "cv_auc_val = np.zeros(nfold)\n",
    "cv_auc_val[cv_auc_val == 0] = 'nan' #for now, to avoid 0 values to be taken into account for, help ? average\n",
    "cv_auc_train = np.zeros(nfold)\n",
    "fpr_cv = {}\n",
    "tpr_cv= {}\n",
    "thresholds = {}\n",
    "\n",
    "# Configure the plot we are about to create \n",
    "plt.figure(figsize=[8,6])\n",
    "plt.xlim([0.0, 1])\n",
    "plt.ylim([0.0, 1])\n",
    "\n",
    "print('Cross-validating the logit model:')\n",
    "for i, (tr_idx, vl_idx) in enumerate(cv.split(X, y)):\n",
    "    xtr, xvl = X.iloc[tr_idx], X.iloc[vl_idx]\n",
    "    ytr, yvl = y[tr_idx], y[vl_idx]\n",
    "    logit.fit(xtr, ytr)\n",
    "    temp = logit.predict_proba(xvl)[:, 1]\n",
    "    fp_rate_cv, tp_rate_cv, threshold = metrics.roc_curve(yvl, temp.astype('float'))\n",
    "    thresholds[i] = threshold\n",
    "    fpr_cv[i] = fp_rate_cv\n",
    "    tpr_cv[i] = tp_rate_cv\n",
    "    cv_auc_val[i] = metrics.auc(fp_rate_cv, tp_rate_cv)\n",
    "    print('\\tCV iter: {} with AUC={}'.format(i, cv_auc_val[i]))\n",
    "    print('Average AUC on test set during cross-validation: {:.4f}'.format(np.nanmean(cv_auc_val)))\n",
    "    \n",
    "    # Print ROC curve\n",
    "    plt.plot(fp_rate_cv,tp_rate_cv)\n",
    "    plt.plot([0, 1], [0, 1], \"r--\")\n",
    "    \n",
    "    #save training performance for evaluation\n",
    "    temp=logit.predict_proba(xtr)[:, 1]\n",
    "    fp_rate, tp_rate, _ = metrics.roc_curve(ytr, temp.astype('float'))\n",
    "    cv_auc_train[i] = metrics.auc(fp_rate, tp_rate)\n",
    "\n",
    "\n",
    "mean_fp_rate_cv = pd.DataFrame(np.vstack(fp_rate_cv))\n",
    "mean_tp_rate_cv = pd.DataFrame(np.vstack(tp_rate_cv))\n",
    "\n",
    "plt.plot(mean_fp_rate_cv, mean_tp_rate_cv, color='black')    \n",
    "plt.show()"
   ]
  },
  {
   "cell_type": "code",
   "execution_count": null,
   "metadata": {},
   "outputs": [],
   "source": []
  }
 ],
 "metadata": {
  "kernelspec": {
   "display_name": "PyCharm (adams)",
   "language": "python",
   "name": "pycharm-feb95198"
  },
  "language_info": {
   "codemirror_mode": {
    "name": "ipython",
    "version": 3
   },
   "file_extension": ".py",
   "mimetype": "text/x-python",
   "name": "python",
   "nbconvert_exporter": "python",
   "pygments_lexer": "ipython3",
   "version": "3.7.6"
  }
 },
 "nbformat": 4,
 "nbformat_minor": 4
}

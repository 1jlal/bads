{
  "nbformat": 4,
  "nbformat_minor": 0,
  "metadata": {
    "colab": {
      "name": "5_nb_supervised_learningsecondrevision.ipynb",
      "provenance": [],
      "collapsed_sections": [
        "HUkvWfFsVf2m",
        "WGbaWjvgNDna",
        "rDBY9KhyNDns",
        "3m-msruhNDoB",
        "tXwvb-StNDoE",
        "B0xBW-wxNDoH",
        "zG3DmknMNDoL",
        "aaDC9YXTNDoU",
        "B4eGRMz_NDob",
        "24iH_u3ANDol",
        "Q8I98tRbNDoz"
      ]
    },
    "kernelspec": {
      "display_name": "Python 3",
      "language": "python",
      "name": "python3"
    },
    "language_info": {
      "codemirror_mode": {
        "name": "ipython",
        "version": 3
      },
      "file_extension": ".py",
      "mimetype": "text/x-python",
      "name": "python",
      "nbconvert_exporter": "python",
      "pygments_lexer": "ipython3",
      "version": "3.7.6"
    }
  },
  "cells": [
    {
      "cell_type": "markdown",
      "metadata": {
        "id": "Ka20bzp6PcNj"
      },
      "source": [
        "[![Open In Colab](https://colab.research.google.com/assets/colab-badge.svg)](https://colab.research.google.com/github/Humboldt-WI/bads/blob/master/tutorials/5_nb_supervised_learning.ipynb) \n"
      ]
    },
    {
      "cell_type": "markdown",
      "metadata": {
        "id": "swSaDjWvNDnY"
      },
      "source": [
        "# Chapter 5 - Algorithms for supervised learning \n",
        "The fifth chapter revisits two popular algorithms for supervised learning, the logistic regression model and classification and regression trees (CART). We examine their mathematical and statistical underpinnings to fully understand how logit and CART craft a model. Of course, we also exemplify how to use both algorithms in practice together with `sklearn`.  \n",
        "\n",
        "The outline of the tutorial is as follows:\n",
        "- Logistic regression\n",
        "  - The logistic function\n",
        "  - Maximum likelihood estimation\n",
        "  - Logistic regression from scratch\n",
        "  - Libraries for logistic regression\n",
        "- Decision trees\n",
        "  - Implementing a tree algorithm from scratch\n",
        "  - Decision trees with `sklearn`\n"
      ]
    },
    {
      "cell_type": "markdown",
      "metadata": {
        "id": "HjtJpOmnVf2K"
      },
      "source": [
        "# Logistic regression\n",
        "We learned from the lecture that the logistic model is the 'go-to model' for regression problems with a discrete target variable. Such problems are called classification problems. We can think of logit as the equivalent to linear regression for classification problem. Formally speaking, logistic regression belongs to the wider family of **generalized linear models (GLM)**. It is a generalization of a linear model in that it embodies the well-known linear form $\\beta x$ and adds a (non-linear) **link function** that connects the linear form to the target variable. In the case of logistic regression, the link function is the logistic function. Other GLMs use different link functions, but these are out of scope. So let us first examine the logistuc function."
      ]
    },
    {
      "cell_type": "markdown",
      "metadata": {
        "id": "k68aGAQ_Vf2L"
      },
      "source": [
        "## The logistic function\n",
        "We implement the logistic function as a custom Python function and then generate some data to plot the function over the interval from -4 to 4 [-4, -3, ..., 4]. \n",
        "Recall that the form of the function for input variable $z$ is $f(z) = \\frac{1}{1 + \\exp^{-z}}$. "
      ]
    },
    {
      "cell_type": "code",
      "metadata": {
        "colab": {
          "base_uri": "https://localhost:8080/",
          "height": 309
        },
        "id": "xSZq_kegVf2L",
        "outputId": "765d13cf-6c1b-4407-fc0e-d4db40a049cc"
      },
      "source": [
        "import numpy as np\n",
        "import matplotlib.pyplot as plt\n",
        "\n",
        "# we implement the logistic function as a custom function\n",
        "def logistic_fun(z):\n",
        "    return 1/(1+np.exp(-z))\n",
        "\n",
        "\n",
        "# create some data for plotting\n",
        "z = np.linspace(-4, 4)\n",
        "\n",
        "fz = logistic_fun(z)\n",
        "plt.title(\"The logistic function exemplified\", fontsize='small')\n",
        "plt.plot(z, fz);\n",
        "plt.plot(z, np.repeat(0.5, len(z)), \".\");  #  just for fun, add a horizontal line to highlight 0.5\n",
        "plt.ylabel(\"$f(z)$\")\n",
        "plt.xlabel(\"z\")"
      ],
      "execution_count": null,
      "outputs": [
        {
          "output_type": "execute_result",
          "data": {
            "text/plain": [
              "Text(0.5, 0, 'z')"
            ]
          },
          "metadata": {
            "tags": []
          },
          "execution_count": 4
        },
        {
          "output_type": "display_data",
          "data": {
            "image/png": "[encoded data removed]",
            "text/plain": [
              "<Figure size 432x288 with 1 Axes>"
            ]
          },
          "metadata": {
            "tags": [],
            "needs_background": "light"
          }
        }
      ]
    },
    {
      "cell_type": "markdown",
      "metadata": {
        "id": "0QgT5fS6Vf2S"
      },
      "source": [
        "It is a good exercise to check how changes in the above implementation change the plot. For example, you could add a constant multiplier and calculate $e^{(-\\alpha z)} $ instead of $e^{(-z)}$, and check how the shape of the function changes with $\\alpha$. \n"
      ]
    },
    {
      "cell_type": "markdown",
      "metadata": {
        "id": "gzDNTwuGVf2T"
      },
      "source": [
        "## Maximum likelihood estimation & gradient boosting\n",
        "Estimating a logistic regression model involves minimizing the negative **log-likelihood** function. We discussed this in the lecture and experience suggests that some find this a little tough to digest, probably because of its level of formality. We will try to demystify the model by implementing it from scratch. For starters, however, recall that logistic regression models the probability of observing a certain state of our target variable $y$ by means of the logistic function. We assume a zero-one coded binary target variable $y \\in {0, 1}$ and dependent on $\\beta_0+\\beta x$. Then, we can write the logit model as follows:\n",
        "\n",
        "$$ p \\left( y=1|x \\right) = \\frac{1}{1+e^{-z}}, \\text{  and  }  p \\left( y=0|x \\right) = 1- p \\left( y=1|x \\right) $$\n",
        "\n",
        "where $z$ is defined as a linear, additive function of the features: $z=\\hat{\\beta_0}+ \\hat{\\beta} x $. Assuming our data fulfills the IID assumption, we can write the log-likelihood function: \n",
        "\n",
        "$$ \\mathcal{L} = \\sum^{n}_{i=1} \\left[ y_i \\log \\left(p \\left( y=1|x \\right) \\right) + \\left(1-y_i\\right) \\log \\left(1-p \\left( y=1|x \\right) \\right)\\right]. $$\n",
        "\n",
        "We need to now find the values of $ \\hat{\\beta} $ which minimize this function so it will be necesssary to take its derivative. We will calculate the derivative of the log likelihood with respect to $ \\hat{\\beta_i} $. Essentially, we will have to calculate this using the chain rule:\n",
        "\n",
        "$$ \\frac{\\partial \\mathcal{L}}{\\partial \\hat{\\beta_i}} = \\frac{\\partial \\mathcal{L}}{\\partial p} \\cdot \\frac{\\partial p}{\\partial z} \\cdot \\frac{\\partial z}{\\partial \\hat{\\beta_i}} $$\n",
        "\n",
        "Let's first calculate the three derivatives which we will need on the right hand side:\n",
        "\n",
        "\\begin{align*} \n",
        "\\frac{\\partial \\mathcal{L}}{\\partial p} &= \\frac{y}{p} - \\frac{1-y}{1-p} \\\\\n",
        "\\frac{\\partial p}{\\partial z} &= \\frac{1}{1+e^{-z}} \\cdot  \\Bigg( 1 - \\frac{1}{1+e^{-z}} \\Bigg) = \\Big( p \\cdot  \\big( 1 - p \\big) \\Big) \\\\\n",
        "\\frac{\\partial z}{\\partial \\hat{\\beta_i}} &= x_i\n",
        "\\end{align*}\n",
        "\n",
        "\n",
        "Now we can multiply these three together to find the derivative of the log likelihood function with respect to $ \\hat{\\beta_i} $ :\n",
        " \n",
        "\\begin{align*}\n",
        " \\frac{\\partial \\mathcal{L}}{\\partial \\hat{\\beta_i}} &= \\frac{\\partial \\mathcal{L}}{\\partial p} \\cdot \\frac{\\partial p}{\\partial z} \\cdot \\frac{\\partial z}{\\partial \\hat{\\beta_i}} \\\\\n",
        " &= \\Big( \\frac{y}{p} - \\frac{1-y}{1-p} \\Big) \\cdot \\Big( p \\cdot  \\big( 1 - p \\big) \\Big) \\cdot x_i \\\\\n",
        " &= (y(1-p) - p(1-y)) \\cdot x_i \\\\ \n",
        " &= (y - p) \\cdot x_i\n",
        "\\end{align*}\n",
        "\n",
        "And voilà! At the end, we have a much simpler formula to deal with:\n",
        "$$ \\frac{\\partial \\mathcal{L}}{\\partial \\hat{\\beta_i}} = (y_i - p \\left( y=1|x_i \\right) ) \\cdot x_i $$\n",
        "\n",
        "In the most ideal world, we would be able to make an estimation $ \\hat{\\beta_i} $ for coefficients in our $ z $ function which would set this derivative to 0. However, this is not possible since the function is too complex. As such, we need to use another method. **Gradient descent** is the process of iteratively making changes to $ \\hat{\\beta_i} $ to assess which values lower the derivative value and, therefore, hopefully brings us closer to a minimum. Note that this may unfortunately not be the global minimum of the function but rather a local minimum. This is especially true if we have many coefficients or if any relationships are very complicated.\n",
        "\n",
        "Additionally, if we change $ \\hat{\\beta_i} $ by too much in one iteration, we may end up overshooting a minimum which is counterproductive. In order to avoid this, we multiply the total difference by the learning rate $ \\eta $ to dampen the update to $ \\hat{\\beta_i} $. If the learning rate is too low however, we may end up sabotaging ourselves as the function loses too much momentum in its updates. It is a good idea to experiment with a few different rates to see which one works best with your data.\n",
        "\n",
        "Here is an equation which represents gradient descent:\n",
        "$$ \\hat{\\beta_i} = \\hat{\\beta_{i-1}} - \\eta \\Delta( \\hat{\\beta_{i-1}}) \\text{ if } || \\hat{\\beta_i} - \\hat{\\beta_{i-1}} || > \\epsilon $$\n",
        "\n",
        "For an alternative explanation, check out the [Wikipedia page for *gradient descent*](https://en.wikipedia.org/wiki/Gradient_descent). It will be crucial for you to understand this process, so take advantage of online resources to improve your understanding. There are also many ways to modify this process like stochastic gradient boosting or adaptive learning rates which you will undoubtedly come across later in the field."
      ]
    },
    {
      "cell_type": "code",
      "metadata": {
        "colab": {
          "base_uri": "https://localhost:8080/"
        },
        "id": "I4JvbfcMVf2U",
        "outputId": "3e15d8b1-0f60-4e9d-ddf3-c76523f94e4a"
      },
      "source": [
        "# Create synthetic data for classification using sklearn\n",
        "from sklearn.datasets import make_classification\n",
        "\n",
        "X, y = make_classification(n_features=2, n_redundant=0, n_informative=2, n_clusters_per_class=1, n_samples=500)\n",
        "\n",
        "# Always useful to remind oneself of the dimensions of a data set\n",
        "print(\"Shape of X {}\".format(X.shape))  \n",
        "print(\"Shape of y {}\".format(y.shape))"
      ],
      "execution_count": null,
      "outputs": [
        {
          "output_type": "stream",
          "text": [
            "Shape of X (500, 2)\n",
            "Shape of y (500,)\n"
          ],
          "name": "stdout"
        }
      ]
    },
    {
      "cell_type": "markdown",
      "metadata": {
        "id": "ETsdtRdkRLin"
      },
      "source": [
        "## Logistic Regression from scratch\n",
        "\n",
        "We can create a logistic regression function from scratch based on this [medium article](https://medium.com/@martinpella/logistic-regression-from-scratch-in-python-124c5636b8ac). First, we need some data. To that end, we will re-use the approach for synthetic data creation from [Tutorial 3](https://github.com/Humboldt-WI/bads/blob/master/tutorials/3_nb_predictive_analytics.ipynb). The following code wraps up the Tutorial #3 codes in a custom function. Alternatively, we could have used the function `make_classification` from `sklearn`. We like our approach a little better but feel most free to change the data generation approach and try out the example using the `sklearn` data."
      ]
    },
    {
      "cell_type": "markdown",
      "metadata": {
        "id": "PWv60eLVDmyT"
      },
      "source": [
        "### Synthetic data generation"
      ]
    },
    {
      "cell_type": "code",
      "metadata": {
        "id": "7O1rqLbODmyT"
      },
      "source": [
        "def toy_data(n=1000, mu1=[1,1], mu2=[4, 4], sig1=1, sig2=1):\n",
        "    \"\"\" Customer function to generate linearly seperable toy data. The code has been discussed in more detail in Tutorial #3.\n",
        "        \n",
        "        The arguments represent, respectively, the size of the data, the mean vectors of the two Gaussians from which we\n",
        "        sample class 1 and class 2 data points, and their standard deviations.\n",
        "    \"\"\"\n",
        "    \n",
        "    class1_x1 = np.random.normal(loc=mu1[0], scale=sig1, size=n)\n",
        "    class1_x2 = np.random.normal(loc=mu1[1], scale=sig1, size=n)\n",
        "\n",
        "    class2_x1 = np.random.normal(loc=mu2[0], scale=sig2, size=n)\n",
        "    class2_x2 = np.random.normal(loc=mu2[1], scale=sig2, size=n)\n",
        "\n",
        "    y1 = np.repeat(0, n)\n",
        "    y2 = np.repeat(1, n)\n",
        "\n",
        "    class1 = np.vstack((class1_x1, class1_x2)).T\n",
        "    class2 = np.vstack((class2_x1, class2_x2)).T\n",
        "\n",
        "    X = np.vstack((class1,class2))\n",
        "    y = np.concatenate((y1,y2))\n",
        "    \n",
        "    return X, y"
      ],
      "execution_count": null,
      "outputs": []
    },
    {
      "cell_type": "code",
      "metadata": {
        "colab": {
          "base_uri": "https://localhost:8080/"
        },
        "id": "0ym5oBSTDmyX",
        "outputId": "70774385-334a-48d1-81aa-4450237783b2"
      },
      "source": [
        "# Create and plot the data\n",
        "X, y = toy_data()\n",
        "\n",
        "# Always useful to remind oneself of the dimensions of a data set\n",
        "print(\"Shape of X {}\".format(X.shape))  \n",
        "print(\"Shape of y {}\".format(y.shape))"
      ],
      "execution_count": null,
      "outputs": [
        {
          "output_type": "stream",
          "text": [
            "Shape of X (2000, 2)\n",
            "Shape of y (2000,)\n"
          ],
          "name": "stdout"
        }
      ]
    },
    {
      "cell_type": "code",
      "metadata": {
        "colab": {
          "base_uri": "https://localhost:8080/",
          "height": 278
        },
        "id": "gFoMDi41Vf2b",
        "outputId": "7a6efe09-8177-4e3b-c60e-ae52971fa455"
      },
      "source": [
        "# Here is the code to plot the data\n",
        "plt.title(\"Synthetic classification data set\", fontsize='small')\n",
        "plt.scatter(X[:, 0], X[:, 1], c=y, alpha=.5, marker='x');"
      ],
      "execution_count": null,
      "outputs": [
        {
          "output_type": "display_data",
          "data": {
            "image/png": "[encoded data removed]",
            "text/plain": [
              "<Figure size 432x288 with 1 Axes>"
            ]
          },
          "metadata": {
            "tags": [],
            "needs_background": "light"
          }
        }
      ]
    },
    {
      "cell_type": "markdown",
      "metadata": {
        "id": "gqBHE9146JjJ"
      },
      "source": [
        "### Helper function for the logit model\n",
        "We already defined the logistic function. We do it again to have all codes at a single space. This is only to aid readability. Note that data scientists very commonly refer to the logistic function as the **sigmoid**. The name relates to a class of learning machines called *artificial neural networks*, which are the backbone of deep learning. We use this term below, simply because it is sooo common and because we already used the logistic function for our above implementation."
      ]
    },
    {
      "cell_type": "code",
      "metadata": {
        "id": "eYv3EuJVu90F"
      },
      "source": [
        "def sigmoid(z):\n",
        "    return 1 / (1 + np.exp(-z))"
      ],
      "execution_count": null,
      "outputs": []
    },
    {
      "cell_type": "markdown",
      "metadata": {
        "id": "kWMS3zIE6ahA"
      },
      "source": [
        "We also need a loss function whose gradient we will determine which way to adjust parameters. Essentially, this is just our log-likelihood function. Easy enough to implement it in Python."
      ]
    },
    {
      "cell_type": "code",
      "metadata": {
        "id": "Pg0Zn7OywTFH"
      },
      "source": [
        "def loss(h, y):\n",
        "    return (-y*np.log(h) - (1 - y)*np.log(1 - h))"
      ],
      "execution_count": null,
      "outputs": []
    },
    {
      "cell_type": "markdown",
      "metadata": {
        "id": "oud8yNf1V_i_"
      },
      "source": [
        "Equipped with the previous functions, we are ready to implement logistic regression. More specifically, the below function takes care about **estimating a logistic regression model**. It determines and returns the weights (intercept and coefficients), which represent the logit model, as an 1D array. Remember that these weights are all we need to generate predictions for future data."
      ]
    },
    {
      "cell_type": "code",
      "metadata": {
        "id": "0k3PuDa9YDyL"
      },
      "source": [
        "def estimate_logit_model(X, y, lr=0.01, num_iter=100000, fit_intercept=True, verbose=False):\n",
        "    \n",
        "    # Add intercept to the model if needed\n",
        "    if fit_intercept:\n",
        "      intercept = np.ones((X.shape[0], 1))\n",
        "      X = np.concatenate((intercept, X), axis=1)\n",
        "        \n",
        "    weights = np.zeros(X.shape[1]) # initialize weights\n",
        "    \n",
        "    for i in range(num_iter): # travels down the gradient as many times as there are iterations\n",
        "        z = np.dot(X, weights)\n",
        "        h = sigmoid(z)\n",
        "        gradient = np.dot(X.T, (h - y)) / y.size\n",
        "        weights -= lr * gradient\n",
        "            \n",
        "    if(verbose == True and i % 10000 == 0): # checks loss at each iteration\n",
        "        z = np.dot(X, weights)\n",
        "        h = sigmoid(z)\n",
        "        loss_val = loss(h, y)\n",
        "        print(f'loss: {loss_val} \\t')\n",
        "    return weights"
      ],
      "execution_count": null,
      "outputs": []
    },
    {
      "cell_type": "markdown",
      "metadata": {
        "id": "ruq6ZopYC-jc"
      },
      "source": [
        "Lastly, we need some functionality for predicting probabilities for new data points. To replicate standard functionality of `sklean` in our custom logit model, we will supply two functions for prediction. Naturally, the logit model generates probabilistic predictions, which follows from using the sigmoid (aka logistic) function. Further, we supply a sklearn-like `predict()` function, which returns discrete class predictions using some **cut-off**, which we set to 0.5 by default. We can then compare this predicted value to the true labels and calculate the mean error or mean accuracy. "
      ]
    },
    {
      "cell_type": "code",
      "metadata": {
        "id": "d3pGMkA5uS3J"
      },
      "source": [
        "def predict_prob(X, weights, fit_intercept=True):\n",
        "    if fit_intercept:\n",
        "        intercept = np.ones((X.shape[0], 1))\n",
        "        X = np.concatenate((intercept, X), axis=1)\n",
        "        return sigmoid(np.dot(X, weights))"
      ],
      "execution_count": null,
      "outputs": []
    },
    {
      "cell_type": "code",
      "metadata": {
        "id": "GmySMlJvxN1T"
      },
      "source": [
        "def predict(X, weights, fit_intercept=True, threshold=0.5):\n",
        "    predictions = predict_prob(X, weights, fit_intercept=fit_intercept) >= threshold\n",
        "    predictions = np.where(predictions==False, 0, predictions)\n",
        "    predictions = np.where(predictions==True, 1, predictions)\n",
        "    return predictions"
      ],
      "execution_count": null,
      "outputs": []
    },
    {
      "cell_type": "markdown",
      "metadata": {
        "id": "CQwxEi9D1Qtn"
      },
      "source": [
        "Now we can train our model on the data that we have generated to get the intercept (first number in the weights array) and coefficients (the subsequent numbers in the array). "
      ]
    },
    {
      "cell_type": "code",
      "metadata": {
        "id": "LiW-bUPf5c1Q"
      },
      "source": [
        "beta = estimate_logit_model(X, y)"
      ],
      "execution_count": null,
      "outputs": []
    },
    {
      "cell_type": "code",
      "metadata": {
        "colab": {
          "base_uri": "https://localhost:8080/"
        },
        "id": "6SCqiUuuiTYH",
        "outputId": "4f9861d1-9773-4f29-f7f0-47044d58c099"
      },
      "source": [
        "print(beta)"
      ],
      "execution_count": null,
      "outputs": [
        {
          "output_type": "stream",
          "text": [
            "[-10.71700948   2.14284965   2.16951452]\n"
          ],
          "name": "stdout"
        }
      ]
    },
    {
      "cell_type": "markdown",
      "metadata": {
        "id": "9dL4NVcq4K_C"
      },
      "source": [
        "Ok, does maybe not look exciting but, believe it or not, these three numbers are our **logit model**. Really? Yes. All you need to calculate forecasts from a logistic regression models is the coefficients, one for each feature and one for the intercept. For our toy data, this translates into three numbers. \n",
        "\n",
        "All set, we are ready to put our model into production and estimate, for each case in our data, the probabilities of that case belonging to class 1. "
      ]
    },
    {
      "cell_type": "code",
      "metadata": {
        "colab": {
          "base_uri": "https://localhost:8080/"
        },
        "id": "QBMwMlJyEl6S",
        "outputId": "54f0f884-d5ed-4e33-bef4-c77a98d02d6b"
      },
      "source": [
        "# This is how we produce class membership probabilities\n",
        "results = predict_prob(X, beta, fit_intercept=True)\n",
        "print(results[:5])"
      ],
      "execution_count": null,
      "outputs": [
        {
          "output_type": "stream",
          "text": [
            "[1.86481177e-04 2.18313575e-03 2.93535044e-03 6.09243753e-01\n",
            " 1.01761818e-03]\n"
          ],
          "name": "stdout"
        }
      ]
    },
    {
      "cell_type": "code",
      "metadata": {
        "colab": {
          "base_uri": "https://localhost:8080/"
        },
        "id": "0p2TkHAErH7P",
        "outputId": "afed5f5e-eb5e-4cf4-9529-a2ccfb97c611"
      },
      "source": [
        "# And in this way, we can generate discrete class predictions\n",
        "results = predict(X, beta, fit_intercept=True, threshold=0.5)\n",
        "print(results[:5])"
      ],
      "execution_count": null,
      "outputs": [
        {
          "output_type": "stream",
          "text": [
            "[0 0 0 1 0]\n"
          ],
          "name": "stdout"
        }
      ]
    },
    {
      "cell_type": "code",
      "metadata": {
        "colab": {
          "base_uri": "https://localhost:8080/"
        },
        "id": "S3Ivh9cxrmEr",
        "outputId": "1e947220-7089-41b4-e5cc-7997a702c2bb"
      },
      "source": [
        "# Let's check the classification accuracy of our logit model\n",
        "accuracy = y == results\n",
        "\n",
        "mean_accuracy = accuracy.sum() / len(accuracy)\n",
        "\n",
        "mean_accuracy"
      ],
      "execution_count": null,
      "outputs": [
        {
          "output_type": "execute_result",
          "data": {
            "text/plain": [
              "0.986"
            ]
          },
          "metadata": {
            "tags": []
          },
          "execution_count": 17
        }
      ]
    },
    {
      "cell_type": "markdown",
      "metadata": {
        "id": "CP6HSAeg4oX3"
      },
      "source": [
        "To conclude this example, recall that we introduced logistic regression as a linear classifier in the lecture. To convince ourselves that logit really creates a linear decision boundary, we plot this boundary into our feature space using the intercept found in `beta[0]` and the two coefficients found in `beta[1]` and `beta[2]`. \n",
        "\n",
        " In a two-dimensional space, with dimensions $(x_1, x_2)$, a hyperplane is defined by $\\beta_1 x_1 + \\beta_2 x_2 + \\beta_0 = 0$. Rearranging terms, we obtain \n",
        " $$ x_2 = - \\frac{\\beta_1}{\\beta_2} x_1 - \\frac{\\beta_0}{\\beta_2} $$\n",
        " \n",
        " Actually, this equation looks a little odd at first glance. We are used to think of $\\mathbf{x}$ as data. So why is $x_2$ a function? Well, the equation simply gives as a blueprint of hot to plot the hyperplane in 2D. We generate some data for $x_1$. Next, using the estimated values for $\\mathbf{\\beta}$, we determine the corresponding value of $x_2$. This is only to facilitate drawing as follows: "
      ]
    },
    {
      "cell_type": "code",
      "metadata": {
        "id": "y_YXW7Y2dmAu",
        "outputId": "60b2e9c3-0457-41bf-b512-baafa5a940b6"
      },
      "source": [
        "# Generate data points\n",
        "x_1 = np.linspace(-3, 8)  # we plot the hyperplane for this range of values\n",
        "\n",
        "x_2 = - beta[1] / beta[2] * x_1 - beta[0] / beta[2]  # evaluate our above equation\n",
        "\n",
        "# Ready to plot our hyperplane\n",
        "fig = plt.figure()\n",
        "plt.plot(x_1,x_2, label='logit');\n",
        "plt.xlabel(\"$x_1$\");\n",
        "plt.ylabel(\"$x_2$\");\n",
        "plt.legend(loc='best');\n",
        "# Add the actual data to the plot (as before)\n",
        "plt.scatter(X[:,0], X[:,1], c=y, alpha=.5, marker='x');"
      ],
      "execution_count": null,
      "outputs": [
        {
          "output_type": "display_data",
          "data": {
            "image/png": "[encoded data removed]",
            "text/plain": [
              "<Figure size 432x288 with 1 Axes>"
            ]
          },
          "metadata": {
            "tags": [],
            "needs_background": "light"
          }
        }
      ]
    },
    {
      "cell_type": "markdown",
      "metadata": {
        "id": "TV266MtlAR3i",
        "outputId": "c18a11a5-ace7-476c-858c-b3795e27ea79"
      },
      "source": [
        "Looks good. Using the estimated parameters and drawing a line using these parameters, the plot confirms that we obtain a good separation of the two classes. And yet, we can create a better visualization in which we also evaluate the probability estimates of our model. So in case you missed the logistic function is the above example, no worries, we are getting there. To that end, we will compute the output (i.e., probability estimate) of our logit model over the entire feature space. More precisely, we decide on a value range for $x_1$ and $x_2$ and consider all possible input data points in that range. The resulting data is three dimensional and consists of tupels $\\left( x_{i1}, x_{i2}, p_i \\right)$, where $i$ is a data point index and $p_i$ is the probability forecast from the logit model for data point $\\mathbf{x}_i$. Plotting in three dimensions in nontrivial. Below, we provide a working example for generating and plotting the data. The plot offers a maybe more accurate intuition on the inner workings of the logistic model and how it creates a linear classifier. Parts of the code will be hard to read. Feel free to just skip over them and look at the result (i.e., plot). If you want to understand what is going on, start with reading the documentation of the NumPy function `mgrid()`, look up demos for countur plots, and, of course, debug/alter the example in any way you like. "
      ]
    },
    {
      "cell_type": "code",
      "metadata": {
        "id": "5HePiSyOdmAu",
        "outputId": "80cb1322-eff3-4051-cab0-578d9836b254"
      },
      "source": [
        "# Graph to depict probability predictions of the logit model\n",
        "\n",
        "xx, yy = np.mgrid[-3:8:.01, -3:8:.01]  # create input data for our logit model using mgrid\n",
        "grid = np.c_[xx.ravel(), yy.ravel()]   # then transform the data into our standard format\n",
        "\n",
        "# Calculate logit probability predictions\n",
        "probs = predict_prob(grid, beta, fit_intercept=True)\n",
        "\n",
        "# Reshape to facilitate plotting\n",
        "probs = probs.reshape(xx.shape)\n",
        "\n",
        "# Plot logit predictions\n",
        "f, ax = plt.subplots(figsize=(8, 6))\n",
        "contour = ax.contourf(xx, yy, probs, 25,  vmin=0, vmax=1)\n",
        "ax_c = f.colorbar(contour)\n",
        "ax_c.set_label(\"$P(y = 1)$\")\n",
        "ax_c.set_ticks([0, .25, .5, .75, 1])\n",
        "\n",
        "# Plott the actual data points\n",
        "# We alter the format of the scatter plot to ensure that data points are visible\n",
        "ax.scatter(X[:,0], X[:,1], c=y, s=50, vmin=-.2, vmax=1.2, edgecolor=\"white\", linewidth=1);  \n",
        "plt.xlabel(\"$x_1$\");\n",
        "plt.ylabel(\"$x_2$\");"
      ],
      "execution_count": null,
      "outputs": [
        {
          "output_type": "display_data",
          "data": {
            "image/png": "[encoded data removed]",
            "text/plain": [
              "<Figure size 576x432 with 2 Axes>"
            ]
          },
          "metadata": {
            "tags": [],
            "needs_background": "light"
          }
        }
      ]
    },
    {
      "cell_type": "markdown",
      "metadata": {
        "id": "HUkvWfFsVf2m"
      },
      "source": [
        "## Libraries for logistic regression\n",
        "\n",
        "Now that we know that estimating a logistic regression model using the maximum likelihood approach is not some sort of dark magic, we might feel more comfortable with using libraries that hide all the details. In fact, you have already seen one such library in action in [Tutorial 3](https://colab.research.google.com/github/Humboldt-WI/bads/blob/master/tutorials/3_nb_predictive_analytics.ipynb). There, we used the `statsmodels` library to estimate a logit model. Let's revisit the corresponding codes. However, doing so for our toy data is pointless. It's time for a real-world data set and since we spent so much time on cleaning and preparing and understanding the HMEQ data in [Tutorial 4](https://colab.research.google.com/github/Humboldt-WI/bads/blob/master/tutorials/4_nb_data_preparation.ipynb), it would be a shame to not use it for demonstrating logistic regression on some real data. Remember that [Tutorial 4](https://colab.research.google.com/github/Humboldt-WI/bads/blob/master/tutorials/4_nb_data_preparation.ipynb) discusses that data set in detail, so simply go back to the previous tutorial is you need a refresher."
      ]
    },
    {
      "cell_type": "code",
      "metadata": {
        "id": "dkKRcRBRVf2n"
      },
      "source": [
        "import pandas as pd \n",
        "import statsmodels.api as sm\n",
        "from statsmodels.tools.tools import add_constant\n",
        "# Load data from GitHub\n",
        "data_url = 'https://raw.githubusercontent.com/Humboldt-WI/bads/master/data/hmeq_modeling.csv' \n",
        "df = pd.read_csv(data_url, index_col=\"index\")"
      ],
      "execution_count": null,
      "outputs": []
    },
    {
      "cell_type": "markdown",
      "metadata": {
        "id": "1PLQ7buLVf2q"
      },
      "source": [
        "Let's take a quick look at the data to re-familiarize ourselves with the classification task."
      ]
    },
    {
      "cell_type": "code",
      "metadata": {
        "id": "zhgFxnX5Vf2s",
        "outputId": "36b7b321-194c-4cd9-f006-7a905ca15757"
      },
      "source": [
        "df.head(5)"
      ],
      "execution_count": null,
      "outputs": [
        {
          "output_type": "execute_result",
          "data": {
            "text/html": [
              "<div>\n",
              "<style scoped>\n",
              "    .dataframe tbody tr th:only-of-type {\n",
              "        vertical-align: middle;\n",
              "    }\n",
              "\n",
              "    .dataframe tbody tr th {\n",
              "        vertical-align: top;\n",
              "    }\n",
              "\n",
              "    .dataframe thead th {\n",
              "        text-align: right;\n",
              "    }\n",
              "</style>\n",
              "<table border=\"1\" class=\"dataframe\">\n",
              "  <thead>\n",
              "    <tr style=\"text-align: right;\">\n",
              "      <th></th>\n",
              "      <th>BAD</th>\n",
              "      <th>LOAN</th>\n",
              "      <th>MORTDUE</th>\n",
              "      <th>VALUE</th>\n",
              "      <th>YOJ</th>\n",
              "      <th>CLAGE</th>\n",
              "      <th>NINQ</th>\n",
              "      <th>CLNO</th>\n",
              "      <th>DEBTINC</th>\n",
              "      <th>DEROGzero</th>\n",
              "      <th>REASON_HomeImp</th>\n",
              "      <th>REASON_IsMissing</th>\n",
              "      <th>JOB_Office</th>\n",
              "      <th>JOB_Other</th>\n",
              "      <th>JOB_ProfExe</th>\n",
              "      <th>JOB_Sales</th>\n",
              "      <th>JOB_Self</th>\n",
              "      <th>DELINQcat_1</th>\n",
              "      <th>DELINQcat_1+</th>\n",
              "    </tr>\n",
              "    <tr>\n",
              "      <th>index</th>\n",
              "      <th></th>\n",
              "      <th></th>\n",
              "      <th></th>\n",
              "      <th></th>\n",
              "      <th></th>\n",
              "      <th></th>\n",
              "      <th></th>\n",
              "      <th></th>\n",
              "      <th></th>\n",
              "      <th></th>\n",
              "      <th></th>\n",
              "      <th></th>\n",
              "      <th></th>\n",
              "      <th></th>\n",
              "      <th></th>\n",
              "      <th></th>\n",
              "      <th></th>\n",
              "      <th></th>\n",
              "      <th></th>\n",
              "    </tr>\n",
              "  </thead>\n",
              "  <tbody>\n",
              "    <tr>\n",
              "      <th>0</th>\n",
              "      <td>True</td>\n",
              "      <td>-1.832283</td>\n",
              "      <td>-1.295882</td>\n",
              "      <td>-1.335526</td>\n",
              "      <td>0.266788</td>\n",
              "      <td>-1.075278</td>\n",
              "      <td>-0.065054</td>\n",
              "      <td>-1.297476</td>\n",
              "      <td>0.137456</td>\n",
              "      <td>True</td>\n",
              "      <td>1</td>\n",
              "      <td>0</td>\n",
              "      <td>0</td>\n",
              "      <td>1</td>\n",
              "      <td>0</td>\n",
              "      <td>0</td>\n",
              "      <td>0</td>\n",
              "      <td>0</td>\n",
              "      <td>0</td>\n",
              "    </tr>\n",
              "    <tr>\n",
              "      <th>1</th>\n",
              "      <td>True</td>\n",
              "      <td>-1.810666</td>\n",
              "      <td>-0.013474</td>\n",
              "      <td>-0.672699</td>\n",
              "      <td>-0.236615</td>\n",
              "      <td>-0.723092</td>\n",
              "      <td>-0.826792</td>\n",
              "      <td>-0.756608</td>\n",
              "      <td>0.137456</td>\n",
              "      <td>True</td>\n",
              "      <td>1</td>\n",
              "      <td>0</td>\n",
              "      <td>0</td>\n",
              "      <td>1</td>\n",
              "      <td>0</td>\n",
              "      <td>0</td>\n",
              "      <td>0</td>\n",
              "      <td>0</td>\n",
              "      <td>1</td>\n",
              "    </tr>\n",
              "    <tr>\n",
              "      <th>2</th>\n",
              "      <td>True</td>\n",
              "      <td>-1.789048</td>\n",
              "      <td>-1.654549</td>\n",
              "      <td>-1.839275</td>\n",
              "      <td>-0.668103</td>\n",
              "      <td>-0.368769</td>\n",
              "      <td>-0.065054</td>\n",
              "      <td>-1.189302</td>\n",
              "      <td>0.137456</td>\n",
              "      <td>True</td>\n",
              "      <td>1</td>\n",
              "      <td>0</td>\n",
              "      <td>0</td>\n",
              "      <td>1</td>\n",
              "      <td>0</td>\n",
              "      <td>0</td>\n",
              "      <td>0</td>\n",
              "      <td>0</td>\n",
              "      <td>0</td>\n",
              "    </tr>\n",
              "    <tr>\n",
              "      <th>3</th>\n",
              "      <td>True</td>\n",
              "      <td>-1.789048</td>\n",
              "      <td>-0.159552</td>\n",
              "      <td>-0.202559</td>\n",
              "      <td>-0.236615</td>\n",
              "      <td>-0.061033</td>\n",
              "      <td>-0.065054</td>\n",
              "      <td>-0.107566</td>\n",
              "      <td>0.137456</td>\n",
              "      <td>True</td>\n",
              "      <td>0</td>\n",
              "      <td>1</td>\n",
              "      <td>0</td>\n",
              "      <td>1</td>\n",
              "      <td>0</td>\n",
              "      <td>0</td>\n",
              "      <td>0</td>\n",
              "      <td>0</td>\n",
              "      <td>0</td>\n",
              "    </tr>\n",
              "    <tr>\n",
              "      <th>4</th>\n",
              "      <td>False</td>\n",
              "      <td>-1.767431</td>\n",
              "      <td>0.791699</td>\n",
              "      <td>0.311107</td>\n",
              "      <td>-0.811933</td>\n",
              "      <td>-1.088528</td>\n",
              "      <td>-0.826792</td>\n",
              "      <td>-0.756608</td>\n",
              "      <td>0.137456</td>\n",
              "      <td>True</td>\n",
              "      <td>1</td>\n",
              "      <td>0</td>\n",
              "      <td>1</td>\n",
              "      <td>0</td>\n",
              "      <td>0</td>\n",
              "      <td>0</td>\n",
              "      <td>0</td>\n",
              "      <td>0</td>\n",
              "      <td>0</td>\n",
              "    </tr>\n",
              "  </tbody>\n",
              "</table>\n",
              "</div>"
            ],
            "text/plain": [
              "         BAD      LOAN   MORTDUE     VALUE       YOJ     CLAGE      NINQ  \\\n",
              "index                                                                      \n",
              "0       True -1.832283 -1.295882 -1.335526  0.266788 -1.075278 -0.065054   \n",
              "1       True -1.810666 -0.013474 -0.672699 -0.236615 -0.723092 -0.826792   \n",
              "2       True -1.789048 -1.654549 -1.839275 -0.668103 -0.368769 -0.065054   \n",
              "3       True -1.789048 -0.159552 -0.202559 -0.236615 -0.061033 -0.065054   \n",
              "4      False -1.767431  0.791699  0.311107 -0.811933 -1.088528 -0.826792   \n",
              "\n",
              "           CLNO   DEBTINC  DEROGzero  REASON_HomeImp  REASON_IsMissing  \\\n",
              "index                                                                    \n",
              "0     -1.297476  0.137456       True               1                 0   \n",
              "1     -0.756608  0.137456       True               1                 0   \n",
              "2     -1.189302  0.137456       True               1                 0   \n",
              "3     -0.107566  0.137456       True               0                 1   \n",
              "4     -0.756608  0.137456       True               1                 0   \n",
              "\n",
              "       JOB_Office  JOB_Other  JOB_ProfExe  JOB_Sales  JOB_Self  DELINQcat_1  \\\n",
              "index                                                                         \n",
              "0               0          1            0          0         0            0   \n",
              "1               0          1            0          0         0            0   \n",
              "2               0          1            0          0         0            0   \n",
              "3               0          1            0          0         0            0   \n",
              "4               1          0            0          0         0            0   \n",
              "\n",
              "       DELINQcat_1+  \n",
              "index                \n",
              "0                 0  \n",
              "1                 1  \n",
              "2                 0  \n",
              "3                 0  \n",
              "4                 0  "
            ]
          },
          "metadata": {
            "tags": []
          },
          "execution_count": 5
        }
      ]
    },
    {
      "cell_type": "code",
      "metadata": {
        "id": "S_b8UOuPVf2x",
        "outputId": "64951662-a49d-4daf-ab5b-2644c84f095c"
      },
      "source": [
        "# Split into target and features\n",
        "y = df.BAD.values.astype(int)\n",
        "X = df.iloc[:,1:]\n",
        "\n",
        "# We add a constant column to X. Think of this as the Python way to include an intercept in your model \n",
        "X = add_constant(X, prepend=True, has_constant='raise')\n",
        "# Estimate logit model\n",
        "logit_model = sm.Logit(y, X.astype(float), ) \n",
        "logit_model = logit_model.fit()"
      ],
      "execution_count": null,
      "outputs": [
        {
          "output_type": "stream",
          "text": [
            "Optimization terminated successfully.\n",
            "         Current function value: 0.405599\n",
            "         Iterations 6\n"
          ],
          "name": "stdout"
        }
      ]
    },
    {
      "cell_type": "markdown",
      "metadata": {
        "id": "m3_inlDcVf21"
      },
      "source": [
        "A nice feature of the `statsmodels` implementation is that you can easily produce a standard regression table. "
      ]
    },
    {
      "cell_type": "code",
      "metadata": {
        "id": "C0k55AmTVf21",
        "outputId": "53e16eb9-ccf8-4460-8bba-17537ca0c078"
      },
      "source": [
        "logit_model.summary()"
      ],
      "execution_count": null,
      "outputs": [
        {
          "output_type": "execute_result",
          "data": {
            "text/html": [
              "<table class=\"simpletable\">\n",
              "<caption>Logit Regression Results</caption>\n",
              "<tr>\n",
              "  <th>Dep. Variable:</th>           <td>y</td>        <th>  No. Observations:  </th>   <td>  5960</td>  \n",
              "</tr>\n",
              "<tr>\n",
              "  <th>Model:</th>                 <td>Logit</td>      <th>  Df Residuals:      </th>   <td>  5942</td>  \n",
              "</tr>\n",
              "<tr>\n",
              "  <th>Method:</th>                 <td>MLE</td>       <th>  Df Model:          </th>   <td>    17</td>  \n",
              "</tr>\n",
              "<tr>\n",
              "  <th>Date:</th>            <td>Fri, 23 Oct 2020</td> <th>  Pseudo R-squ.:     </th>   <td>0.1883</td>  \n",
              "</tr>\n",
              "<tr>\n",
              "  <th>Time:</th>                <td>16:12:30</td>     <th>  Log-Likelihood:    </th>  <td> -2417.4</td> \n",
              "</tr>\n",
              "<tr>\n",
              "  <th>converged:</th>             <td>True</td>       <th>  LL-Null:           </th>  <td> -2978.2</td> \n",
              "</tr>\n",
              "<tr>\n",
              "  <th>Covariance Type:</th>     <td>nonrobust</td>    <th>  LLR p-value:       </th> <td>7.822e-228</td>\n",
              "</tr>\n",
              "</table>\n",
              "<table class=\"simpletable\">\n",
              "<tr>\n",
              "          <td></td>            <th>coef</th>     <th>std err</th>      <th>z</th>      <th>P>|z|</th>  <th>[0.025</th>    <th>0.975]</th>  \n",
              "</tr>\n",
              "<tr>\n",
              "  <th>const</th>            <td>   -1.0454</td> <td>      nan</td> <td>      nan</td> <td>   nan</td> <td>      nan</td> <td>      nan</td>\n",
              "</tr>\n",
              "<tr>\n",
              "  <th>LOAN</th>             <td>   -0.1491</td> <td>    0.042</td> <td>   -3.586</td> <td> 0.000</td> <td>   -0.231</td> <td>   -0.068</td>\n",
              "</tr>\n",
              "<tr>\n",
              "  <th>MORTDUE</th>          <td>   -0.1913</td> <td>    0.065</td> <td>   -2.953</td> <td> 0.003</td> <td>   -0.318</td> <td>   -0.064</td>\n",
              "</tr>\n",
              "<tr>\n",
              "  <th>VALUE</th>            <td>    0.0706</td> <td>    0.069</td> <td>    1.027</td> <td> 0.304</td> <td>   -0.064</td> <td>    0.205</td>\n",
              "</tr>\n",
              "<tr>\n",
              "  <th>YOJ</th>              <td>   -0.0881</td> <td>    0.040</td> <td>   -2.190</td> <td> 0.029</td> <td>   -0.167</td> <td>   -0.009</td>\n",
              "</tr>\n",
              "<tr>\n",
              "  <th>CLAGE</th>            <td>   -0.4613</td> <td>    0.042</td> <td>  -11.006</td> <td> 0.000</td> <td>   -0.543</td> <td>   -0.379</td>\n",
              "</tr>\n",
              "<tr>\n",
              "  <th>NINQ</th>             <td>    0.3301</td> <td>    0.030</td> <td>   11.060</td> <td> 0.000</td> <td>    0.272</td> <td>    0.389</td>\n",
              "</tr>\n",
              "<tr>\n",
              "  <th>CLNO</th>             <td>   -0.1327</td> <td>    0.045</td> <td>   -2.938</td> <td> 0.003</td> <td>   -0.221</td> <td>   -0.044</td>\n",
              "</tr>\n",
              "<tr>\n",
              "  <th>DEBTINC</th>          <td>    0.4228</td> <td>    0.043</td> <td>    9.868</td> <td> 0.000</td> <td>    0.339</td> <td>    0.507</td>\n",
              "</tr>\n",
              "<tr>\n",
              "  <th>DEROGzero</th>        <td>   -1.0454</td> <td>      nan</td> <td>      nan</td> <td>   nan</td> <td>      nan</td> <td>      nan</td>\n",
              "</tr>\n",
              "<tr>\n",
              "  <th>REASON_HomeImp</th>   <td>    0.2472</td> <td>    0.089</td> <td>    2.770</td> <td> 0.006</td> <td>    0.072</td> <td>    0.422</td>\n",
              "</tr>\n",
              "<tr>\n",
              "  <th>REASON_IsMissing</th> <td>    0.3667</td> <td>    0.174</td> <td>    2.110</td> <td> 0.035</td> <td>    0.026</td> <td>    0.707</td>\n",
              "</tr>\n",
              "<tr>\n",
              "  <th>JOB_Office</th>       <td>   -0.6847</td> <td>      nan</td> <td>      nan</td> <td>   nan</td> <td>      nan</td> <td>      nan</td>\n",
              "</tr>\n",
              "<tr>\n",
              "  <th>JOB_Other</th>        <td>   -0.0256</td> <td>      nan</td> <td>      nan</td> <td>   nan</td> <td>      nan</td> <td>      nan</td>\n",
              "</tr>\n",
              "<tr>\n",
              "  <th>JOB_ProfExe</th>      <td>    0.0376</td> <td>      nan</td> <td>      nan</td> <td>   nan</td> <td>      nan</td> <td>      nan</td>\n",
              "</tr>\n",
              "<tr>\n",
              "  <th>JOB_Sales</th>        <td>    1.1200</td> <td>    0.136</td> <td>    8.237</td> <td> 0.000</td> <td>    0.854</td> <td>    1.387</td>\n",
              "</tr>\n",
              "<tr>\n",
              "  <th>JOB_Self</th>         <td>    0.6336</td> <td>    0.151</td> <td>    4.201</td> <td> 0.000</td> <td>    0.338</td> <td>    0.929</td>\n",
              "</tr>\n",
              "<tr>\n",
              "  <th>DELINQcat_1</th>      <td>    1.2601</td> <td>    0.179</td> <td>    7.020</td> <td> 0.000</td> <td>    0.908</td> <td>    1.612</td>\n",
              "</tr>\n",
              "<tr>\n",
              "  <th>DELINQcat_1+</th>     <td>    2.3296</td> <td>    0.138</td> <td>   16.849</td> <td> 0.000</td> <td>    2.059</td> <td>    2.601</td>\n",
              "</tr>\n",
              "</table>"
            ],
            "text/plain": [
              "<class 'statsmodels.iolib.summary.Summary'>\n",
              "\"\"\"\n",
              "                           Logit Regression Results                           \n",
              "==============================================================================\n",
              "Dep. Variable:                      y   No. Observations:                 5960\n",
              "Model:                          Logit   Df Residuals:                     5942\n",
              "Method:                           MLE   Df Model:                           17\n",
              "Date:                Fri, 23 Oct 2020   Pseudo R-squ.:                  0.1883\n",
              "Time:                        16:12:30   Log-Likelihood:                -2417.4\n",
              "converged:                       True   LL-Null:                       -2978.2\n",
              "Covariance Type:            nonrobust   LLR p-value:                7.822e-228\n",
              "====================================================================================\n",
              "                       coef    std err          z      P>|z|      [0.025      0.975]\n",
              "------------------------------------------------------------------------------------\n",
              "const               -1.0454        nan        nan        nan         nan         nan\n",
              "LOAN                -0.1491      0.042     -3.586      0.000      -0.231      -0.068\n",
              "MORTDUE             -0.1913      0.065     -2.953      0.003      -0.318      -0.064\n",
              "VALUE                0.0706      0.069      1.027      0.304      -0.064       0.205\n",
              "YOJ                 -0.0881      0.040     -2.190      0.029      -0.167      -0.009\n",
              "CLAGE               -0.4613      0.042    -11.006      0.000      -0.543      -0.379\n",
              "NINQ                 0.3301      0.030     11.060      0.000       0.272       0.389\n",
              "CLNO                -0.1327      0.045     -2.938      0.003      -0.221      -0.044\n",
              "DEBTINC              0.4228      0.043      9.868      0.000       0.339       0.507\n",
              "DEROGzero           -1.0454        nan        nan        nan         nan         nan\n",
              "REASON_HomeImp       0.2472      0.089      2.770      0.006       0.072       0.422\n",
              "REASON_IsMissing     0.3667      0.174      2.110      0.035       0.026       0.707\n",
              "JOB_Office          -0.6847        nan        nan        nan         nan         nan\n",
              "JOB_Other           -0.0256        nan        nan        nan         nan         nan\n",
              "JOB_ProfExe          0.0376        nan        nan        nan         nan         nan\n",
              "JOB_Sales            1.1200      0.136      8.237      0.000       0.854       1.387\n",
              "JOB_Self             0.6336      0.151      4.201      0.000       0.338       0.929\n",
              "DELINQcat_1          1.2601      0.179      7.020      0.000       0.908       1.612\n",
              "DELINQcat_1+         2.3296      0.138     16.849      0.000       2.059       2.601\n",
              "====================================================================================\n",
              "\"\"\""
            ]
          },
          "metadata": {
            "tags": []
          },
          "execution_count": 117
        }
      ]
    },
    {
      "cell_type": "markdown",
      "metadata": {
        "id": "kV1SAbWTVf24"
      },
      "source": [
        "Spend a little time on inspecting the table. The pseudo $R^2$ statistic suggests that the model explains only a moderate amount of the variability of the target variable. However, we find from the *LLR test* that the model as a whole is highly significant. Further, most features come out as significant,  two dummy variables for the job categories *prof. executive* and *other* and the feature VALUE being an exception. Remember the result of the analysis of feature correlation in [Tutorial 4](https://colab.research.google.com/github/Humboldt-WI/bads/blob/master/tutorials/4_nb_data_preparation.ipynb)? The result for the VALUE feature is surely due to the high correlation of this feature with MORTDUE.    "
      ]
    },
    {
      "cell_type": "code",
      "metadata": {
        "id": "I7QbSZ8oVf25",
        "outputId": "5fd66b58-4820-4594-a343-d5935563f220"
      },
      "source": [
        "np.corrcoef(df.MORTDUE, df.VALUE)"
      ],
      "execution_count": null,
      "outputs": [
        {
          "output_type": "execute_result",
          "data": {
            "text/plain": [
              "array([[1.        , 0.82513958],\n",
              "       [0.82513958, 1.        ]])"
            ]
          },
          "metadata": {
            "tags": []
          },
          "execution_count": 87
        }
      ]
    },
    {
      "cell_type": "markdown",
      "metadata": {
        "id": "7LP4_ZmzVf29"
      },
      "source": [
        "Reestimating the logit model after removing the feature MORTDUE would be a good exercise. After the modification, VALUE should come out as significant.\n",
        "\n",
        "We could easily continue our discussion of the regression table to draw more conclusions about our data. However, this is not the point the focal tutorial. Instead, let's look at another implementation of logistic regression. The famous `scikit-learn` library is the goto library for machine learning in Python. We will use it intensively throughout the course. It also supplies an implementation of logistic regression. Let's see how to use that implementation      "
      ]
    },
    {
      "cell_type": "code",
      "metadata": {
        "id": "5ij5VpjkVf2-",
        "outputId": "47f85b52-2f1f-456c-ec65-053b92c1ebfc"
      },
      "source": [
        "from sklearn.linear_model import LogisticRegression\n",
        "\n",
        "sk_logit = LogisticRegression(penalty='none', fit_intercept=False)  # Recall that we already included a constant column in X. \n",
        "sk_logit.fit(X, y)                                                  # So we must set fit_intercept to False"
      ],
      "execution_count": null,
      "outputs": [
        {
          "output_type": "execute_result",
          "data": {
            "text/plain": [
              "LogisticRegression(C=1.0, class_weight=None, dual=False, fit_intercept=False,\n",
              "                   intercept_scaling=1, l1_ratio=None, max_iter=100,\n",
              "                   multi_class='auto', n_jobs=None, penalty='none',\n",
              "                   random_state=None, solver='lbfgs', tol=0.0001, verbose=0,\n",
              "                   warm_start=False)"
            ]
          },
          "metadata": {
            "tags": []
          },
          "execution_count": 88
        }
      ]
    },
    {
      "cell_type": "markdown",
      "metadata": {
        "id": "lcCMcjQLVf3C"
      },
      "source": [
        "The sklearn implementation is geared toward predictive modeling. For example, there is no way to easily obtain fitting statistics or shed light on the significance of features. On the other hand, the class `LogisticRegression` supports many advanced features to maximize the predictive power of the logit model. The above output already hints at the many different parameters that you can configure. Have a look into the help if you'd like to learn more. We will cover important parameters like those associated with *regularization* in chapter 7 of BADS. One easy to appreciate advantage of `sklearn` over `statsmodels` when it comes to logistic regression is scalability. The sklearn implementation is faster and can cope with larger data sets.\n",
        "\n",
        "Given the differences between our two logit models, the only way to compare them (for now) is by inspecting the estimated model coefficients.  "
      ]
    },
    {
      "cell_type": "code",
      "metadata": {
        "id": "ZPyDAs0GVf3D",
        "outputId": "fa066259-5255-40c8-88d9-da39e407ff42"
      },
      "source": [
        "# Create a dataframe for the comparison\n",
        "# Note that we also need some conversions to ensure that the two coefficient arrays are compatible\n",
        "pd.DataFrame({\"statsmodels\" :logit_model.params.to_numpy(), \"sklearn\": sk_logit.coef_[0]})\n",
        "df_comparison"
      ],
      "execution_count": null,
      "outputs": [
        {
          "output_type": "execute_result",
          "data": {
            "text/html": [
              "<div>\n",
              "<style scoped>\n",
              "    .dataframe tbody tr th:only-of-type {\n",
              "        vertical-align: middle;\n",
              "    }\n",
              "\n",
              "    .dataframe tbody tr th {\n",
              "        vertical-align: top;\n",
              "    }\n",
              "\n",
              "    .dataframe thead th {\n",
              "        text-align: right;\n",
              "    }\n",
              "</style>\n",
              "<table border=\"1\" class=\"dataframe\">\n",
              "  <thead>\n",
              "    <tr style=\"text-align: right;\">\n",
              "      <th></th>\n",
              "      <th>statsmodels</th>\n",
              "      <th>sklearn</th>\n",
              "    </tr>\n",
              "  </thead>\n",
              "  <tbody>\n",
              "    <tr>\n",
              "      <th>0</th>\n",
              "      <td>-1.045379</td>\n",
              "      <td>-1.045312</td>\n",
              "    </tr>\n",
              "    <tr>\n",
              "      <th>1</th>\n",
              "      <td>-0.149086</td>\n",
              "      <td>-0.149104</td>\n",
              "    </tr>\n",
              "    <tr>\n",
              "      <th>2</th>\n",
              "      <td>-0.191345</td>\n",
              "      <td>-0.191345</td>\n",
              "    </tr>\n",
              "    <tr>\n",
              "      <th>3</th>\n",
              "      <td>0.070593</td>\n",
              "      <td>0.070596</td>\n",
              "    </tr>\n",
              "    <tr>\n",
              "      <th>4</th>\n",
              "      <td>-0.088118</td>\n",
              "      <td>-0.088134</td>\n",
              "    </tr>\n",
              "    <tr>\n",
              "      <th>5</th>\n",
              "      <td>-0.461284</td>\n",
              "      <td>-0.461275</td>\n",
              "    </tr>\n",
              "    <tr>\n",
              "      <th>6</th>\n",
              "      <td>0.330069</td>\n",
              "      <td>0.330033</td>\n",
              "    </tr>\n",
              "    <tr>\n",
              "      <th>7</th>\n",
              "      <td>-0.132715</td>\n",
              "      <td>-0.132714</td>\n",
              "    </tr>\n",
              "    <tr>\n",
              "      <th>8</th>\n",
              "      <td>0.422777</td>\n",
              "      <td>0.422795</td>\n",
              "    </tr>\n",
              "    <tr>\n",
              "      <th>9</th>\n",
              "      <td>-1.045379</td>\n",
              "      <td>-1.045312</td>\n",
              "    </tr>\n",
              "    <tr>\n",
              "      <th>10</th>\n",
              "      <td>0.247169</td>\n",
              "      <td>0.247142</td>\n",
              "    </tr>\n",
              "    <tr>\n",
              "      <th>11</th>\n",
              "      <td>0.366705</td>\n",
              "      <td>0.366697</td>\n",
              "    </tr>\n",
              "    <tr>\n",
              "      <th>12</th>\n",
              "      <td>-0.684658</td>\n",
              "      <td>-0.684842</td>\n",
              "    </tr>\n",
              "    <tr>\n",
              "      <th>13</th>\n",
              "      <td>-0.025605</td>\n",
              "      <td>-0.025707</td>\n",
              "    </tr>\n",
              "    <tr>\n",
              "      <th>14</th>\n",
              "      <td>0.037601</td>\n",
              "      <td>0.037468</td>\n",
              "    </tr>\n",
              "    <tr>\n",
              "      <th>15</th>\n",
              "      <td>1.120021</td>\n",
              "      <td>1.119628</td>\n",
              "    </tr>\n",
              "    <tr>\n",
              "      <th>16</th>\n",
              "      <td>0.633627</td>\n",
              "      <td>0.633327</td>\n",
              "    </tr>\n",
              "    <tr>\n",
              "      <th>17</th>\n",
              "      <td>1.260116</td>\n",
              "      <td>1.260138</td>\n",
              "    </tr>\n",
              "    <tr>\n",
              "      <th>18</th>\n",
              "      <td>2.329565</td>\n",
              "      <td>2.329602</td>\n",
              "    </tr>\n",
              "  </tbody>\n",
              "</table>\n",
              "</div>"
            ],
            "text/plain": [
              "    statsmodels   sklearn\n",
              "0     -1.045379 -1.045312\n",
              "1     -0.149086 -0.149104\n",
              "2     -0.191345 -0.191345\n",
              "3      0.070593  0.070596\n",
              "4     -0.088118 -0.088134\n",
              "5     -0.461284 -0.461275\n",
              "6      0.330069  0.330033\n",
              "7     -0.132715 -0.132714\n",
              "8      0.422777  0.422795\n",
              "9     -1.045379 -1.045312\n",
              "10     0.247169  0.247142\n",
              "11     0.366705  0.366697\n",
              "12    -0.684658 -0.684842\n",
              "13    -0.025605 -0.025707\n",
              "14     0.037601  0.037468\n",
              "15     1.120021  1.119628\n",
              "16     0.633627  0.633327\n",
              "17     1.260116  1.260138\n",
              "18     2.329565  2.329602"
            ]
          },
          "metadata": {
            "tags": []
          },
          "execution_count": 116
        }
      ]
    },
    {
      "cell_type": "markdown",
      "metadata": {
        "id": "tybUfadmVf3H"
      },
      "source": [
        "Conclusion: the two implementations of the logit model deliver similar results. That is nice but maybe not too exciting. The main take-away is that, when it comes to logistic regression, ask yourself whether you want to use the model for an explanatory or predictive purpose. Use the implementation within `statsmodels` in the former and `sklearn` in the latter case. "
      ]
    },
    {
      "cell_type": "markdown",
      "metadata": {
        "id": "L-VlKNTmVf3H"
      },
      "source": [
        "# Decision Trees\n",
        "\n",
        "Decision trees are useful and powerful algorithms for classifying and regressing data. It works on recursive partitioning which will be shown algorithmically in this notebook. Though most of the the time, Sci-Kit Learn can be used to implement this machine learning method simply, it is useful to take a look at the inner workings of these algorithms. The following parts will first introduce a decision tree from scratch, before demonstrating its coverage in `sklearn`. "
      ]
    },
    {
      "cell_type": "markdown",
      "metadata": {
        "id": "YjOnBPEXfHK0"
      },
      "source": [
        "## Decision Tree From Scratch Using HMEQ Data\n",
        "\n",
        "Firstly, we will go through a decision tree made from scratch. The following code is based on the material originally created by Sebastian Mantey for the Iris Dataset whose GitHub is here: https://github.com/SebastianMantey/Decision-Tree-from-Scratch. You can also search his video on YouTube. The code has been adapted to this course's format and fit to HMEQ Dataset.\n",
        "\n",
        "Just in case you made changes to the data by running the above code, we first reload the data to a fixed and clear-defined starting point for our tree classifier. Recall that we defined the variable `data_url` above."
      ]
    },
    {
      "cell_type": "code",
      "metadata": {
        "colab": {
          "base_uri": "https://localhost:8080/",
          "height": 245
        },
        "id": "I2zyH3v5fHK0",
        "outputId": "1b1f98b0-658a-44d7-b982-833f032db0d4"
      },
      "source": [
        "df = pd.read_csv(data_url, header = 0, index_col = 0) # import file with header and index as first row and column respectively\n",
        "\n",
        "df.head() #inspect data to make sure it looks correct"
      ],
      "execution_count": null,
      "outputs": [
        {
          "output_type": "execute_result",
          "data": {
            "text/html": [
              "<div>\n",
              "<style scoped>\n",
              "    .dataframe tbody tr th:only-of-type {\n",
              "        vertical-align: middle;\n",
              "    }\n",
              "\n",
              "    .dataframe tbody tr th {\n",
              "        vertical-align: top;\n",
              "    }\n",
              "\n",
              "    .dataframe thead th {\n",
              "        text-align: right;\n",
              "    }\n",
              "</style>\n",
              "<table border=\"1\" class=\"dataframe\">\n",
              "  <thead>\n",
              "    <tr style=\"text-align: right;\">\n",
              "      <th></th>\n",
              "      <th>BAD</th>\n",
              "      <th>LOAN</th>\n",
              "      <th>MORTDUE</th>\n",
              "      <th>VALUE</th>\n",
              "      <th>YOJ</th>\n",
              "      <th>CLAGE</th>\n",
              "      <th>NINQ</th>\n",
              "      <th>CLNO</th>\n",
              "      <th>DEBTINC</th>\n",
              "      <th>DEROGzero</th>\n",
              "      <th>REASON_HomeImp</th>\n",
              "      <th>REASON_IsMissing</th>\n",
              "      <th>JOB_Office</th>\n",
              "      <th>JOB_Other</th>\n",
              "      <th>JOB_ProfExe</th>\n",
              "      <th>JOB_Sales</th>\n",
              "      <th>JOB_Self</th>\n",
              "      <th>DELINQcat_1</th>\n",
              "      <th>DELINQcat_1+</th>\n",
              "    </tr>\n",
              "    <tr>\n",
              "      <th>index</th>\n",
              "      <th></th>\n",
              "      <th></th>\n",
              "      <th></th>\n",
              "      <th></th>\n",
              "      <th></th>\n",
              "      <th></th>\n",
              "      <th></th>\n",
              "      <th></th>\n",
              "      <th></th>\n",
              "      <th></th>\n",
              "      <th></th>\n",
              "      <th></th>\n",
              "      <th></th>\n",
              "      <th></th>\n",
              "      <th></th>\n",
              "      <th></th>\n",
              "      <th></th>\n",
              "      <th></th>\n",
              "      <th></th>\n",
              "    </tr>\n",
              "  </thead>\n",
              "  <tbody>\n",
              "    <tr>\n",
              "      <th>0</th>\n",
              "      <td>True</td>\n",
              "      <td>-1.832283</td>\n",
              "      <td>-1.295882</td>\n",
              "      <td>-1.335526</td>\n",
              "      <td>0.266788</td>\n",
              "      <td>-1.075278</td>\n",
              "      <td>-0.065054</td>\n",
              "      <td>-1.297476</td>\n",
              "      <td>0.137456</td>\n",
              "      <td>True</td>\n",
              "      <td>1</td>\n",
              "      <td>0</td>\n",
              "      <td>0</td>\n",
              "      <td>1</td>\n",
              "      <td>0</td>\n",
              "      <td>0</td>\n",
              "      <td>0</td>\n",
              "      <td>0</td>\n",
              "      <td>0</td>\n",
              "    </tr>\n",
              "    <tr>\n",
              "      <th>1</th>\n",
              "      <td>True</td>\n",
              "      <td>-1.810666</td>\n",
              "      <td>-0.013474</td>\n",
              "      <td>-0.672699</td>\n",
              "      <td>-0.236615</td>\n",
              "      <td>-0.723092</td>\n",
              "      <td>-0.826792</td>\n",
              "      <td>-0.756608</td>\n",
              "      <td>0.137456</td>\n",
              "      <td>True</td>\n",
              "      <td>1</td>\n",
              "      <td>0</td>\n",
              "      <td>0</td>\n",
              "      <td>1</td>\n",
              "      <td>0</td>\n",
              "      <td>0</td>\n",
              "      <td>0</td>\n",
              "      <td>0</td>\n",
              "      <td>1</td>\n",
              "    </tr>\n",
              "    <tr>\n",
              "      <th>2</th>\n",
              "      <td>True</td>\n",
              "      <td>-1.789048</td>\n",
              "      <td>-1.654549</td>\n",
              "      <td>-1.839275</td>\n",
              "      <td>-0.668103</td>\n",
              "      <td>-0.368769</td>\n",
              "      <td>-0.065054</td>\n",
              "      <td>-1.189302</td>\n",
              "      <td>0.137456</td>\n",
              "      <td>True</td>\n",
              "      <td>1</td>\n",
              "      <td>0</td>\n",
              "      <td>0</td>\n",
              "      <td>1</td>\n",
              "      <td>0</td>\n",
              "      <td>0</td>\n",
              "      <td>0</td>\n",
              "      <td>0</td>\n",
              "      <td>0</td>\n",
              "    </tr>\n",
              "    <tr>\n",
              "      <th>3</th>\n",
              "      <td>True</td>\n",
              "      <td>-1.789048</td>\n",
              "      <td>-0.159552</td>\n",
              "      <td>-0.202559</td>\n",
              "      <td>-0.236615</td>\n",
              "      <td>-0.061033</td>\n",
              "      <td>-0.065054</td>\n",
              "      <td>-0.107566</td>\n",
              "      <td>0.137456</td>\n",
              "      <td>True</td>\n",
              "      <td>0</td>\n",
              "      <td>1</td>\n",
              "      <td>0</td>\n",
              "      <td>1</td>\n",
              "      <td>0</td>\n",
              "      <td>0</td>\n",
              "      <td>0</td>\n",
              "      <td>0</td>\n",
              "      <td>0</td>\n",
              "    </tr>\n",
              "    <tr>\n",
              "      <th>4</th>\n",
              "      <td>False</td>\n",
              "      <td>-1.767431</td>\n",
              "      <td>0.791699</td>\n",
              "      <td>0.311107</td>\n",
              "      <td>-0.811933</td>\n",
              "      <td>-1.088528</td>\n",
              "      <td>-0.826792</td>\n",
              "      <td>-0.756608</td>\n",
              "      <td>0.137456</td>\n",
              "      <td>True</td>\n",
              "      <td>1</td>\n",
              "      <td>0</td>\n",
              "      <td>1</td>\n",
              "      <td>0</td>\n",
              "      <td>0</td>\n",
              "      <td>0</td>\n",
              "      <td>0</td>\n",
              "      <td>0</td>\n",
              "      <td>0</td>\n",
              "    </tr>\n",
              "  </tbody>\n",
              "</table>\n",
              "</div>"
            ],
            "text/plain": [
              "         BAD      LOAN   MORTDUE  ...  JOB_Self  DELINQcat_1  DELINQcat_1+\n",
              "index                             ...                                     \n",
              "0       True -1.832283 -1.295882  ...         0            0             0\n",
              "1       True -1.810666 -0.013474  ...         0            0             1\n",
              "2       True -1.789048 -1.654549  ...         0            0             0\n",
              "3       True -1.789048 -0.159552  ...         0            0             0\n",
              "4      False -1.767431  0.791699  ...         0            0             0\n",
              "\n",
              "[5 rows x 19 columns]"
            ]
          },
          "metadata": {
            "tags": []
          },
          "execution_count": 169
        }
      ]
    },
    {
      "cell_type": "code",
      "metadata": {
        "id": "xQwXkg0SfHK1"
      },
      "source": [
        "X = df.drop(['BAD'], axis=1) #code the variables in the most standard way for your usage\n",
        "y = df[['BAD']]"
      ],
      "execution_count": null,
      "outputs": []
    },
    {
      "cell_type": "code",
      "metadata": {
        "colab": {
          "base_uri": "https://localhost:8080/"
        },
        "id": "y7tOKwVtfHK1",
        "outputId": "b7ca27cb-aa65-4dc7-d78e-3b7d364968e7"
      },
      "source": [
        "print(type(X), type(y), X.shape, y.shape) # double check that types and dimensions are correct before proceeding"
      ],
      "execution_count": null,
      "outputs": [
        {
          "output_type": "stream",
          "text": [
            "<class 'pandas.core.frame.DataFrame'> <class 'pandas.core.frame.DataFrame'> (5960, 18) (5960, 1)\n"
          ],
          "name": "stdout"
        }
      ]
    },
    {
      "cell_type": "markdown",
      "metadata": {
        "id": "1p-_lFYzfHK1"
      },
      "source": [
        "### Helper Functions for the Tree\n",
        "\n",
        "Decision trees work by recursively partitioning data which means:\n",
        "\n",
        "Many potential ways to split the data are calculated (eg. we are going to go through all unique values of each column and finding the midpoint between sequential values). For each potential split, we evaluate whether the target variable has more homogeneity in each leaf. This is done by calculating 'impurity' of the parent node and comparing it with the sum of the impurity of the child nodes. There are three major impurity functions: entropy, gini and misclassification. We will be using entropy in our example. The split which yields the lowest impurity is chosen and the process is repeated for the new nodes (this is recursion). \n",
        "\n",
        "The method of choosing the split which yields the lowest impurity is called the greedy search method. The following functions will help the decision tree implement greedy search tactics on the data. The algorithm stops either when purity in each node is reached or when it has reached a maximum depth (max amount of recursions we allow) specified in our function.\n",
        "\n",
        "Many functions for the tree are not found in Python packages and it is cleaner to write them out first then put them together in our main algorithm. Each function below does a specific action which will be used in our final tree function at the end."
      ]
    },
    {
      "cell_type": "code",
      "metadata": {
        "id": "LhGSx_3efHK1"
      },
      "source": [
        "def check_purity(y):\n",
        "    \n",
        "    'checks if a leaf node is perfectly pure, in other words, if the leaf node contains only one class'\n",
        "    \n",
        "    unique_classes = np.unique(y) #count number of classes in section of data\n",
        "\n",
        "    if len(unique_classes) == 1: #check if the node is pure\n",
        "        return True\n",
        "    else:\n",
        "        return False"
      ],
      "execution_count": null,
      "outputs": []
    },
    {
      "cell_type": "code",
      "metadata": {
        "id": "Lg6zDh56fHK1"
      },
      "source": [
        "def classify_data(y):\n",
        "    \n",
        "    'classifies data according to the majority class of each leaf'\n",
        "    \n",
        "    unique_classes, counts_unique_classes = np.unique(y, return_counts=True)\n",
        "    #returns classes and no. of obs per class\n",
        "\n",
        "    index = counts_unique_classes.argmax() #index of class with most obs\n",
        "    classification = unique_classes[index] #class chosen for classification which is class with most obs\n",
        "    \n",
        "    prob = len(y[y == 1]) / len(y) #returns proportion of class 1 in the leaf (prob of class 1)\n",
        "\n",
        "    return [classification, prob]"
      ],
      "execution_count": null,
      "outputs": []
    },
    {
      "cell_type": "code",
      "metadata": {
        "id": "zNHzxN06fHK1"
      },
      "source": [
        "def get_potential_splits(X):\n",
        "    \n",
        "    'first, takes every unique value of every feature in the feature space, then finds the midpoint between each value'\n",
        "    \n",
        "    potential_splits = {}\n",
        "    _, n_columns = X.shape #don't need rows, we choose the column to split on\n",
        "    # only need second value of .shape which is columns\n",
        "    \n",
        "    for column_index in range(n_columns):\n",
        "        potential_splits[column_index] = [] \n",
        "        values = X[:, column_index] \n",
        "        unique_values = np.unique(values) #get all unique values in each column\n",
        "\n",
        "        for index in range(len(unique_values)): #all unique feature values\n",
        "            if index != 0: #skip first value, we need the difference between next values\n",
        "                current_value = unique_values[index]\n",
        "                previous_value = unique_values[index - 1] #find a value and the next smallest value\n",
        "                potential_split = (current_value + previous_value) / 2 #find difference between the two as a potential split\n",
        "                \n",
        "                #consider all values which lie between two values as a potential split\n",
        "                \n",
        "                potential_splits[column_index].append(potential_split)\n",
        "    \n",
        "    return potential_splits"
      ],
      "execution_count": null,
      "outputs": []
    },
    {
      "cell_type": "code",
      "metadata": {
        "id": "sgtBqNb0fHK1"
      },
      "source": [
        "def split_data(X, y, split_column, split_value):\n",
        "    \n",
        "    'splits data based on specific value, will yield both a split for the features X and target y'\n",
        "    \n",
        "    split_column_values = X[:, split_column]\n",
        "\n",
        "    X_below = X[split_column_values <= split_value] #partitions data according to split values from previous functions\n",
        "    X_above = X[split_column_values >  split_value]\n",
        "    \n",
        "    y_below = y[split_column_values <= split_value]\n",
        "    y_above = y[split_column_values >  split_value]\n",
        "    \n",
        "    return X_below, X_above, y_below, y_above"
      ],
      "execution_count": null,
      "outputs": []
    },
    {
      "cell_type": "code",
      "metadata": {
        "id": "CpXCl5jffHK1"
      },
      "source": [
        "def calculate_entropy(y):\n",
        "    \n",
        "    'calculates entropy for each partition of data'\n",
        "    \n",
        "    _, counts = np.unique(y, return_counts=True) #we only need the counts of each class, _ is a placeholder\n",
        "\n",
        "    probabilities = counts / counts.sum() #probability of each class\n",
        "    entropy = sum(probabilities * -np.log2(probabilities)) #could replace with Gini impurity or misclassification\n",
        "     \n",
        "    return entropy"
      ],
      "execution_count": null,
      "outputs": []
    },
    {
      "cell_type": "code",
      "metadata": {
        "id": "oQAF-VaAfHK1"
      },
      "source": [
        "def calculate_overall_entropy(y_below, y_above): \n",
        "    \n",
        "    'calculates the total entropy after each split'\n",
        "       \n",
        "    n = len(y_below) + len(y_above)\n",
        "    p_data_below = len(y_below) / n\n",
        "    p_data_above = len(y_above) / n\n",
        "\n",
        "    overall_entropy =  (p_data_below * calculate_entropy(y_below)\n",
        "                      + p_data_above * calculate_entropy(y_above))\n",
        "    \n",
        "    return overall_entropy"
      ],
      "execution_count": null,
      "outputs": []
    },
    {
      "cell_type": "code",
      "metadata": {
        "id": "NLItkeXGfHK2"
      },
      "source": [
        "def determine_best_split(X, y, potential_splits):\n",
        "    \n",
        "    'selects which split lowered entropy the most'\n",
        "    \n",
        "    overall_entropy = 9999 #set arbitrarily high, the function will loop over and replace this with lower impurity values\n",
        "    for column_index in potential_splits:\n",
        "        for value in potential_splits[column_index]:\n",
        "            X_below, X_above, y_below, y_above = split_data(X, y, split_column=column_index, split_value=value)\n",
        "            current_overall_entropy = calculate_overall_entropy(y_below, y_above)\n",
        "            \n",
        "            #goes through each potential split and only updates if it lowers entropy\n",
        "\n",
        "            if current_overall_entropy <= overall_entropy: \n",
        "                overall_entropy = current_overall_entropy #updates only if lower entropy split found, in the ned this is greedy search\n",
        "                best_split_column = column_index\n",
        "                best_split_value = value\n",
        "    \n",
        "    return best_split_column, best_split_value"
      ],
      "execution_count": null,
      "outputs": []
    },
    {
      "cell_type": "markdown",
      "metadata": {
        "id": "j_QbUdkdfHK2"
      },
      "source": [
        "### The Main Algorithm\n",
        "\n",
        "The tree will now implement the helper functions and display the decision which yielded the best split if printed. Since the growing the tree can take a little bit of time, the argument `verbose` also exists which gives you status updates on the algorithm's progress. This is common for quite a few functions in the programming world."
      ]
    },
    {
      "cell_type": "code",
      "metadata": {
        "id": "buDByirD5kbJ"
      },
      "source": [
        "def decision_tree_algorithm(X, y, counter=0, min_samples=2, max_depth=5, verbose=False): \n",
        "    \n",
        "    # data preparation\n",
        "    if counter == 0:  # counter tells us how deep the tree is, this is before the tree is initiated\n",
        "        global COLUMN_HEADERS\n",
        "        COLUMN_HEADERS = X.columns\n",
        "        X = X.values  # change all to NumPy array for faster calculations\n",
        "        y = y.values\n",
        "        if verbose:\n",
        "          print(\"Data preparation complete, tree initiated\")\n",
        "          print(\"Creating first branch until first leaf, branches will then be calculated sequentially\")\n",
        "    else:\n",
        "        data = X  # if we have started the tree, X should already be a NumPy array from the code above \n",
        "    # base cases\n",
        "    if (check_purity(y)) or (len(X) < min_samples) or (counter == max_depth):\n",
        "        if verbose:\n",
        "          if (check_purity(y)):\n",
        "              print(\"Classes pure, new leaf node created\")\n",
        "          elif (len(X) < min_samples):\n",
        "              print(\"Min samples reached, new leaf node created\")\n",
        "          else:\n",
        "              print(\"Max depth reached, new leaf node created\")\n",
        "        classification, prob = classify_data(y)\n",
        "        return classification, prob\n",
        "    \n",
        "    # recursive part\n",
        "    else:    \n",
        "\n",
        "        # helper functions \n",
        "        if verbose:\n",
        "            print(\"Calculating splits at depth of\", counter)\n",
        "        potential_splits = get_potential_splits(X)  # check for all possible splits\n",
        "        best_split_column, best_split_value = determine_best_split(X, y, potential_splits)  # select best split based on entropy\n",
        "        X_below, X_above, y_below, y_above = split_data(X, y, best_split_column, best_split_value)  # execute best split\n",
        "        # code to explain decisions made by tree to users\n",
        "        feature_name = COLUMN_HEADERS[best_split_column]\n",
        "        question = \"{} <= {}\".format(feature_name, best_split_value)  # initiate explanation of split\n",
        "        sub_tree = {question: []}\n",
        "        \n",
        "        # pull answers from tree\n",
        "        if verbose:\n",
        "            print(\"Processing first split at depth\", counter)\n",
        "        yes_answer = decision_tree_algorithm(X_below, y_below, counter + 1, min_samples, max_depth, verbose)\n",
        "        if verbose:\n",
        "            print(\"Processing second split at depth\", counter)\n",
        "        no_answer = decision_tree_algorithm(X_above, y_above, counter + 1, min_samples, max_depth, verbose)\n",
        "        \n",
        "        # ensure explanation actually shows useful information\n",
        "        if yes_answer == no_answer:  # if decisions are the same, only display one\n",
        "            sub_tree = yes_answer\n",
        "        else:\n",
        "            sub_tree[question].append(yes_answer)\n",
        "            sub_tree[question].append(no_answer)\n",
        "\n",
        "        if verbose:\n",
        "          if (counter == 0):\n",
        "            print(\"Tree Complete\")\n",
        "\n",
        "        return sub_tree"
      ],
      "execution_count": null,
      "outputs": []
    },
    {
      "cell_type": "markdown",
      "metadata": {
        "id": "Yt9v0ldZfHK2"
      },
      "source": [
        "### Grow First Tree\n",
        "\n",
        "Test the tree and display the decisions with a shallow depth."
      ]
    },
    {
      "cell_type": "code",
      "metadata": {
        "colab": {
          "base_uri": "https://localhost:8080/"
        },
        "id": "CxqcpI_3fHK2",
        "outputId": "7482358c-ac0b-4f41-fcfc-df6a2fd6c7dc"
      },
      "source": [
        "tree = decision_tree_algorithm(X, y, max_depth=2, verbose=True)"
      ],
      "execution_count": null,
      "outputs": [
        {
          "output_type": "stream",
          "text": [
            "Data preparation complete, tree initiated\n",
            "Creating first branch until first leaf, branches will then be calculated sequentially\n",
            "Calculating splits at depth of 0\n",
            "Processing first split at depth 0\n",
            "Calculating splits at depth of 1\n",
            "Processing first split at depth 1\n",
            "Max depth reached, new leaf node created\n",
            "Processing second split at depth 1\n",
            "Max depth reached, new leaf node created\n",
            "Processing second split at depth 0\n",
            "Calculating splits at depth of 1\n",
            "Processing first split at depth 1\n",
            "Max depth reached, new leaf node created\n",
            "Processing second split at depth 1\n",
            "Max depth reached, new leaf node created\n",
            "Tree Complete\n"
          ],
          "name": "stdout"
        }
      ]
    },
    {
      "cell_type": "markdown",
      "metadata": {
        "id": "pz8boTvjfHK2"
      },
      "source": [
        "#### Structure of the First Tree"
      ]
    },
    {
      "cell_type": "code",
      "metadata": {
        "colab": {
          "base_uri": "https://localhost:8080/"
        },
        "id": "u-eOLiADfHK2",
        "scrolled": true,
        "outputId": "791e67e4-6e50-4367-eb2e-3d1baf14c673"
      },
      "source": [
        "from pprint import pprint  # library for prettier print output\n",
        "\n",
        "pprint(tree)"
      ],
      "execution_count": null,
      "outputs": [
        {
          "output_type": "stream",
          "text": [
            "{'DEBTINC <= 0.13253751764464605': [{'DELINQcat_1+ <= 0.5': [(False,\n",
            "                                                              0.04424379232505643),\n",
            "                                                             (False,\n",
            "                                                              0.2777777777777778)]},\n",
            "                                    {'DEBTINC <= 0.137471043429223': [(True,\n",
            "                                                                       0.6182246661429693),\n",
            "                                                                      (False,\n",
            "                                                                       0.11466325660699062)]}]}\n"
          ],
          "name": "stdout"
        }
      ]
    },
    {
      "cell_type": "code",
      "metadata": {
        "colab": {
          "base_uri": "https://localhost:8080/"
        },
        "id": "AK0KBq9XfHK2",
        "outputId": "6837e68a-e914-4aa3-b2ad-b279e5548b99"
      },
      "source": [
        "tree.values()"
      ],
      "execution_count": null,
      "outputs": [
        {
          "output_type": "execute_result",
          "data": {
            "text/plain": [
              "dict_values([[{'DELINQcat_1+ <= 0.5': [(False, 0.04424379232505643), (False, 0.2777777777777778)]}, {'DEBTINC <= 0.137471043429223': [(True, 0.6182246661429693), (False, 0.11466325660699062)]}]])"
            ]
          },
          "metadata": {
            "tags": []
          },
          "execution_count": 182
        }
      ]
    },
    {
      "cell_type": "markdown",
      "metadata": {
        "id": "PkaCufj0fHK2"
      },
      "source": [
        "The first node in the tree asks the question:\n",
        "\n",
        "DEBTINC <= 0.13253751764464605\n",
        "\n",
        "If this is true, the tree will predict BAD as false.\n",
        "\n",
        "If this is false, the tree will ask a second question:\n",
        "\n",
        "DEBTINC <= 0.137471043429223\n",
        "\n",
        "If true, the tree will predict BAD is true. If false, the tree will predict BAD is false."
      ]
    },
    {
      "cell_type": "markdown",
      "metadata": {
        "id": "MC_T56DrfHK2"
      },
      "source": [
        "#### Classification Example from First Tree\n",
        "\n",
        "Let's take an example and see how the tree classifies it."
      ]
    },
    {
      "cell_type": "code",
      "metadata": {
        "colab": {
          "base_uri": "https://localhost:8080/"
        },
        "id": "6bVttPZlfHK2",
        "outputId": "497bb187-dd9c-49ab-a9a0-863e4e030e14"
      },
      "source": [
        "example = df.iloc[2] #take a random observation\n",
        "example"
      ],
      "execution_count": null,
      "outputs": [
        {
          "output_type": "execute_result",
          "data": {
            "text/plain": [
              "BAD                      True\n",
              "LOAN                 -1.78905\n",
              "MORTDUE              -1.65455\n",
              "VALUE                -1.83928\n",
              "YOJ                 -0.668103\n",
              "CLAGE               -0.368769\n",
              "NINQ               -0.0650545\n",
              "CLNO                  -1.1893\n",
              "DEBTINC              0.137456\n",
              "DEROGzero                True\n",
              "REASON_HomeImp              1\n",
              "REASON_IsMissing            0\n",
              "JOB_Office                  0\n",
              "JOB_Other                   1\n",
              "JOB_ProfExe                 0\n",
              "JOB_Sales                   0\n",
              "JOB_Self                    0\n",
              "DELINQcat_1                 0\n",
              "DELINQcat_1+                0\n",
              "Name: 2, dtype: object"
            ]
          },
          "metadata": {
            "tags": []
          },
          "execution_count": 183
        }
      ]
    },
    {
      "cell_type": "code",
      "metadata": {
        "id": "Pj2LL01HfHK2"
      },
      "source": [
        "def classify_example(example, tree):\n",
        "    question = list(tree.keys())[0] #checks what is the next data split\n",
        "    feature_name, comparison_operator, value = question.split() #splits question into elements\n",
        "\n",
        "    # ask question\n",
        "    if example[feature_name] <= float(value): # checks key element for split\n",
        "        answer = tree[question][0] # selects yes answer\n",
        "    else:\n",
        "        answer = tree[question][1] # selects no answer\n",
        "\n",
        "    # base case\n",
        "    if not isinstance(answer, dict): # if answer is not a dictionary, we have reached a decision\n",
        "        return answer # display prediction\n",
        "    \n",
        "    # recursive part\n",
        "    else:\n",
        "        residual_tree = answer # continue if another dictionary is reached\n",
        "        return classify_example(example, residual_tree)\n",
        "\n",
        "# function for predicting class of observation\n",
        "def predict_class(tree, data):\n",
        "  pred = data.apply(classify_example, axis=1, args=(tree,))\n",
        "  return [int(row[0]) for row in pred]\n",
        "\n",
        "# function for predicting probability of observation being class 1 \n",
        "def predict_prob(tree, data):\n",
        "  pred = data.apply(classify_example, axis=1, args=(tree,))\n",
        "  return [row[1] for row in pred]"
      ],
      "execution_count": null,
      "outputs": []
    },
    {
      "cell_type": "code",
      "metadata": {
        "colab": {
          "base_uri": "https://localhost:8080/"
        },
        "id": "yKAAKTB6fHK2",
        "outputId": "dd5bde52-35d4-40f2-8f5c-1c32326076ae"
      },
      "source": [
        "classify_example(example, tree)"
      ],
      "execution_count": null,
      "outputs": [
        {
          "output_type": "execute_result",
          "data": {
            "text/plain": [
              "(True, 0.6182246661429693)"
            ]
          },
          "metadata": {
            "tags": []
          },
          "execution_count": 185
        }
      ]
    },
    {
      "cell_type": "code",
      "metadata": {
        "colab": {
          "base_uri": "https://localhost:8080/"
        },
        "id": "oZlyn-UbfHK2",
        "outputId": "9ca8eaf4-bae3-4600-9798-2307a0b033d1"
      },
      "source": [
        "y.iloc[2]"
      ],
      "execution_count": null,
      "outputs": [
        {
          "output_type": "execute_result",
          "data": {
            "text/plain": [
              "BAD    True\n",
              "Name: 2, dtype: bool"
            ]
          },
          "metadata": {
            "tags": []
          },
          "execution_count": 186
        }
      ]
    },
    {
      "cell_type": "markdown",
      "metadata": {
        "id": "qs0EdAtUfHK2"
      },
      "source": [
        "The classification for this one instance above is correct, how well does this tree do for the rest of the data points?\n",
        "\n",
        "#### Predictions and Accuracy from First Tree"
      ]
    },
    {
      "cell_type": "code",
      "metadata": {
        "id": "lwkFg2YzfHK2",
        "colab": {
          "base_uri": "https://localhost:8080/"
        },
        "outputId": "ea8f86a2-e3ff-4fae-e5e4-3e74468d52a3"
      },
      "source": [
        "predictions = predict_class(tree, X)\n",
        "\n",
        "predictions[:5]"
      ],
      "execution_count": null,
      "outputs": [
        {
          "output_type": "execute_result",
          "data": {
            "text/plain": [
              "[1, 1, 1, 1, 1]"
            ]
          },
          "metadata": {
            "tags": []
          },
          "execution_count": 187
        }
      ]
    },
    {
      "cell_type": "code",
      "metadata": {
        "colab": {
          "base_uri": "https://localhost:8080/"
        },
        "id": "-29Sz93zYu_R",
        "outputId": "adb800fa-0684-4568-8c97-ce9bb4b90adc"
      },
      "source": [
        "predictions_prob = predict_prob(tree, X) #probability of being class 1\n",
        "\n",
        "predictions_prob[:5]"
      ],
      "execution_count": null,
      "outputs": [
        {
          "output_type": "execute_result",
          "data": {
            "text/plain": [
              "[0.6182246661429693,\n",
              " 0.6182246661429693,\n",
              " 0.6182246661429693,\n",
              " 0.6182246661429693,\n",
              " 0.6182246661429693]"
            ]
          },
          "metadata": {
            "tags": []
          },
          "execution_count": 188
        }
      ]
    },
    {
      "cell_type": "code",
      "metadata": {
        "colab": {
          "base_uri": "https://localhost:8080/"
        },
        "id": "ITH87JpTfHK2",
        "outputId": "5c57b162-90c5-40cd-8b87-42cfd153fe7b"
      },
      "source": [
        "error = np.mean(np.vstack(predictions) == np.array(y))\n",
        "\n",
        "error"
      ],
      "execution_count": null,
      "outputs": [
        {
          "output_type": "execute_result",
          "data": {
            "text/plain": [
              "0.851006711409396"
            ]
          },
          "metadata": {
            "tags": []
          },
          "execution_count": 189
        }
      ]
    },
    {
      "cell_type": "markdown",
      "metadata": {
        "id": "sLnc0niWfHK2"
      },
      "source": [
        "The tree is able to classify a good proportion of the test set well even with only a depth of 2."
      ]
    },
    {
      "cell_type": "markdown",
      "metadata": {
        "id": "Q9BColNWfHK2"
      },
      "source": [
        "### Higher Depth in Tree\n",
        "\n",
        "Test the tree and display the decisions with a higher depth to see if accuracy changed."
      ]
    },
    {
      "cell_type": "code",
      "metadata": {
        "colab": {
          "base_uri": "https://localhost:8080/"
        },
        "id": "DGO-xjnyfHK2",
        "outputId": "e8a7b08f-dd0d-4ade-c54d-25e9f98c7b47"
      },
      "source": [
        "tree_deep = decision_tree_algorithm(X, y, max_depth=5, verbose=True)"
      ],
      "execution_count": null,
      "outputs": [
        {
          "output_type": "stream",
          "text": [
            "Data preparation complete, tree initiated\n",
            "Branches to be calculated sequentially from root node\n",
            "Calculating splits at depth of 0\n",
            "Processing first split at depth 0\n",
            "Calculating splits at depth of 1\n",
            "Processing first split at depth 1\n",
            "Calculating splits at depth of 2\n",
            "Processing first split at depth 2\n",
            "Calculating splits at depth of 3\n",
            "Processing first split at depth 3\n",
            "Calculating splits at depth of 4\n",
            "Processing first split at depth 4\n",
            "Max depth reached, new leaf node created\n",
            "Processing second split at depth 4\n",
            "Max depth reached, new leaf node created\n",
            "Processing second split at depth 3\n",
            "Calculating splits at depth of 4\n",
            "Processing first split at depth 4\n",
            "Classes pure, new leaf node created\n",
            "Processing second split at depth 4\n",
            "Max depth reached, new leaf node created\n",
            "Processing second split at depth 2\n",
            "Calculating splits at depth of 3\n",
            "Processing first split at depth 3\n",
            "Calculating splits at depth of 4\n",
            "Processing first split at depth 4\n",
            "Classes pure, new leaf node created\n",
            "Processing second split at depth 4\n",
            "Classes pure, new leaf node created\n",
            "Processing second split at depth 3\n",
            "Calculating splits at depth of 4\n",
            "Processing first split at depth 4\n",
            "Max depth reached, new leaf node created\n",
            "Processing second split at depth 4\n",
            "Classes pure, new leaf node created\n",
            "Processing second split at depth 1\n",
            "Calculating splits at depth of 2\n",
            "Processing first split at depth 2\n",
            "Classes pure, new leaf node created\n",
            "Processing second split at depth 2\n",
            "Calculating splits at depth of 3\n",
            "Processing first split at depth 3\n",
            "Calculating splits at depth of 4\n",
            "Processing first split at depth 4\n",
            "Max depth reached, new leaf node created\n",
            "Processing second split at depth 4\n",
            "Max depth reached, new leaf node created\n",
            "Processing second split at depth 3\n",
            "Calculating splits at depth of 4\n",
            "Processing first split at depth 4\n",
            "Max depth reached, new leaf node created\n",
            "Processing second split at depth 4\n",
            "Classes pure, new leaf node created\n",
            "Processing second split at depth 0\n",
            "Calculating splits at depth of 1\n",
            "Processing first split at depth 1\n",
            "Calculating splits at depth of 2\n",
            "Processing first split at depth 2\n",
            "Calculating splits at depth of 3\n",
            "Processing first split at depth 3\n",
            "Calculating splits at depth of 4\n",
            "Processing first split at depth 4\n",
            "Max depth reached, new leaf node created\n",
            "Processing second split at depth 4\n",
            "Max depth reached, new leaf node created\n",
            "Processing second split at depth 3\n",
            "Calculating splits at depth of 4\n",
            "Processing first split at depth 4\n",
            "Max depth reached, new leaf node created\n",
            "Processing second split at depth 4\n",
            "Max depth reached, new leaf node created\n",
            "Processing second split at depth 2\n",
            "Calculating splits at depth of 3\n",
            "Processing first split at depth 3\n",
            "Calculating splits at depth of 4\n",
            "Processing first split at depth 4\n",
            "Max depth reached, new leaf node created\n",
            "Processing second split at depth 4\n",
            "Classes pure, new leaf node created\n",
            "Processing second split at depth 3\n",
            "Classes pure, new leaf node created\n",
            "Processing second split at depth 1\n",
            "Calculating splits at depth of 2\n",
            "Processing first split at depth 2\n",
            "Calculating splits at depth of 3\n",
            "Processing first split at depth 3\n",
            "Calculating splits at depth of 4\n",
            "Processing first split at depth 4\n",
            "Max depth reached, new leaf node created\n",
            "Processing second split at depth 4\n",
            "Max depth reached, new leaf node created\n",
            "Processing second split at depth 3\n",
            "Calculating splits at depth of 4\n",
            "Processing first split at depth 4\n",
            "Max depth reached, new leaf node created\n",
            "Processing second split at depth 4\n",
            "Max depth reached, new leaf node created\n",
            "Processing second split at depth 2\n",
            "Calculating splits at depth of 3\n",
            "Processing first split at depth 3\n",
            "Calculating splits at depth of 4\n",
            "Processing first split at depth 4\n",
            "Classes pure, new leaf node created\n",
            "Processing second split at depth 4\n",
            "Classes pure, new leaf node created\n",
            "Processing second split at depth 3\n",
            "Classes pure, new leaf node created\n",
            "Tree Complete\n"
          ],
          "name": "stdout"
        }
      ]
    },
    {
      "cell_type": "code",
      "metadata": {
        "colab": {
          "base_uri": "https://localhost:8080/"
        },
        "id": "BolXOVjR-huJ",
        "outputId": "c7cfc4e0-33d3-49ea-ab06-42b9c3299771"
      },
      "source": [
        "pprint(tree_deep)"
      ],
      "execution_count": null,
      "outputs": [
        {
          "output_type": "stream",
          "text": [
            "{'DEBTINC <= 0.13253751764464605': [{'DELINQcat_1+ <= 0.5': [{'YOJ <= -0.45235911313134003': [{'MORTDUE <= -0.9625627627614091': [{'LOAN <= -0.5406409454191005': [(False,\n",
            "                                                                                                                                                                    0.46875),\n",
            "                                                                                                                                                                   (False,\n",
            "                                                                                                                                                                    0.07407407407407407)]},\n",
            "                                                                                                                                  {'CLAGE <= -1.6018838077330106': [(True,\n",
            "                                                                                                                                                                     1.0),\n",
            "                                                                                                                                                                    (False,\n",
            "                                                                                                                                                                     0.05263157894736842)]}]},\n",
            "                                                                                              {'CLNO <= -2.000604835823807': [{'NINQ <= 1.8392902689088348': [(True,\n",
            "                                                                                                                                                               1.0),\n",
            "                                                                                                                                                              (False,\n",
            "                                                                                                                                                               0.0)]},\n",
            "                                                                                                                              {'VALUE <= 1.0932318617252927': [(False,\n",
            "                                                                                                                                                                0.02585487906588824),\n",
            "                                                                                                                                                               (False,\n",
            "                                                                                                                                                                0.0)]}]}]},\n",
            "                                                             {'DEBTINC <= -2.3454895026160827': [(True,\n",
            "                                                                                                  1.0),\n",
            "                                                                                                 {'CLNO <= 0.37921586131542506': [{'MORTDUE <= -0.10670961854524455': [(False,\n",
            "                                                                                                                                                                        0.23809523809523808),\n",
            "                                                                                                                                                                       (True,\n",
            "                                                                                                                                                                        0.8181818181818182)]},\n",
            "                                                                                                                                  {'NINQ <= 1.8392902689088348': [(False,\n",
            "                                                                                                                                                                   0.03389830508474576),\n",
            "                                                                                                                                                                  (True,\n",
            "                                                                                                                                                                   1.0)]}]}]}]},\n",
            "                                    {'DEBTINC <= 0.137471043429223': [{'DELINQcat_1+ <= 0.5': [{'CLAGE <= -0.0016147772794835172': [{'DELINQcat_1 <= 0.5': [(True,\n",
            "                                                                                                                                                             0.6184971098265896),\n",
            "                                                                                                                                                            (True,\n",
            "                                                                                                                                                             0.8161764705882353)]},\n",
            "                                                                                                                                    {'DELINQcat_1 <= 0.5': [(False,\n",
            "                                                                                                                                                             0.29328621908127206),\n",
            "                                                                                                                                                            (True,\n",
            "                                                                                                                                                             0.6296296296296297)]}]},\n",
            "                                                                                               {'NINQ <= 1.8392902689088348': [{'CLAGE <= 2.6917061819147854': [(True,\n",
            "                                                                                                                                                                 0.8564814814814815),\n",
            "                                                                                                                                                                (False,\n",
            "                                                                                                                                                                 0.0)]},\n",
            "                                                                                                                               (True,\n",
            "                                                                                                                                1.0)]}]},\n",
            "                                                                      {'DEBTINC <= 1.8737893279539954': [{'CLAGE <= 0.3074093985075284': [{'DEBTINC <= 1.496421807365903': [(False,\n",
            "                                                                                                                                                                             0.10277569392348088),\n",
            "                                                                                                                                                                            (False,\n",
            "                                                                                                                                                                             0.39344262295081966)]},\n",
            "                                                                                                                                          {'DELINQcat_1+ <= 0.5': [(False,\n",
            "                                                                                                                                                                    0.019161676646706587),\n",
            "                                                                                                                                                                   (False,\n",
            "                                                                                                                                                                    0.37142857142857144)]}]},\n",
            "                                                                                                         {'DEBTINC <= 1.9581125560204375': [{'REASON_HomeImp <= 0.5': [(True,\n",
            "                                                                                                                                                                        1.0),\n",
            "                                                                                                                                                                       (False,\n",
            "                                                                                                                                                                        0.0)]},\n",
            "                                                                                                                                            (True,\n",
            "                                                                                                                                             1.0)]}]}]}]}\n"
          ],
          "name": "stdout"
        }
      ]
    },
    {
      "cell_type": "code",
      "metadata": {
        "id": "kTuXwY5DfHK3",
        "colab": {
          "base_uri": "https://localhost:8080/"
        },
        "outputId": "5e3669c5-618e-413b-cef0-fecd43301cbb"
      },
      "source": [
        "predictions_deep = predict_class(tree_deep, X)\n",
        "\n",
        "predictions_deep[:5]"
      ],
      "execution_count": null,
      "outputs": [
        {
          "output_type": "execute_result",
          "data": {
            "text/plain": [
              "[1, 1, 1, 1, 1]"
            ]
          },
          "metadata": {
            "tags": []
          },
          "execution_count": 192
        }
      ]
    },
    {
      "cell_type": "code",
      "metadata": {
        "colab": {
          "base_uri": "https://localhost:8080/"
        },
        "id": "cWaQxYrsZkuY",
        "outputId": "efecddb6-e46b-41b5-ffc0-41d7c48fe367"
      },
      "source": [
        "predictions_prob_deep = predict_prob(tree_deep, X)\n",
        "\n",
        "predictions_prob_deep[:5]"
      ],
      "execution_count": null,
      "outputs": [
        {
          "output_type": "execute_result",
          "data": {
            "text/plain": [
              "[0.6184971098265896,\n",
              " 0.8564814814814815,\n",
              " 0.6184971098265896,\n",
              " 0.6184971098265896,\n",
              " 0.6184971098265896]"
            ]
          },
          "metadata": {
            "tags": []
          },
          "execution_count": 193
        }
      ]
    },
    {
      "cell_type": "code",
      "metadata": {
        "colab": {
          "base_uri": "https://localhost:8080/"
        },
        "id": "pP4SrqQLfHK3",
        "outputId": "d0898a9c-fbb5-44fd-951d-464931a3239f"
      },
      "source": [
        "error_deep = np.mean(np.vstack(predictions_deep) == np.array(y))\n",
        "\n",
        "error_deep"
      ],
      "execution_count": null,
      "outputs": [
        {
          "output_type": "execute_result",
          "data": {
            "text/plain": [
              "0.8897651006711409"
            ]
          },
          "metadata": {
            "tags": []
          },
          "execution_count": 194
        }
      ]
    },
    {
      "cell_type": "markdown",
      "metadata": {
        "id": "kN-4UJIJfHK3"
      },
      "source": [
        "The performance of the tree is even better with this depth. However, as we continue to increase depth, there will come a point where the accuracy decreases as the tree internalizes noise from the data. This is called overfitting and weakens the tree's ability to classify unseen observations. Thus, the tree can be deepened only until the test set accuracy begins decreasing."
      ]
    },
    {
      "cell_type": "markdown",
      "metadata": {
        "id": "24iH_u3ANDol"
      },
      "source": [
        "## Decision Trees with Sci-Kit Learn\n",
        "\n",
        "As mentioned, the package Ski-Kit Learn has prebuilt functions which avoid coding most algorithms by scratch. Now armed with the knowledge of the inner workings of the decision tree, it should be easier to understand what this algorithm is trying to achieve."
      ]
    },
    {
      "cell_type": "code",
      "metadata": {
        "id": "y4Fd0cChNDol"
      },
      "source": [
        "from sklearn import tree\n",
        "\n",
        "clf = tree.DecisionTreeClassifier(criterion=\"entropy\", min_samples_split=2, max_depth=2) #keep tree at a low depth\n",
        "\n",
        "dt_shallow = clf.fit(X, y)"
      ],
      "execution_count": null,
      "outputs": []
    },
    {
      "cell_type": "code",
      "metadata": {
        "id": "v_KPNLD6NDon"
      },
      "source": [
        "pred_dt_shallow = dt_shallow.predict(X)"
      ],
      "execution_count": null,
      "outputs": []
    },
    {
      "cell_type": "code",
      "metadata": {
        "colab": {
          "base_uri": "https://localhost:8080/",
          "height": 34
        },
        "id": "k6CTpH7yNDoq",
        "outputId": "1c733e16-9084-4e85-9fce-c3598f66a945"
      },
      "source": [
        "pred_dt_shallow[0:5]"
      ],
      "execution_count": null,
      "outputs": [
        {
          "output_type": "execute_result",
          "data": {
            "text/plain": [
              "array([ True,  True,  True,  True,  True])"
            ]
          },
          "metadata": {
            "tags": []
          },
          "execution_count": 64
        }
      ]
    },
    {
      "cell_type": "code",
      "metadata": {
        "colab": {
          "base_uri": "https://localhost:8080/",
          "height": 34
        },
        "id": "lJT5XZOsNDos",
        "outputId": "8d3c6298-380d-4fe3-f05f-19931bd7e3e8"
      },
      "source": [
        "classify_correct_shallow = pred_dt_shallow == y.iloc[:,0]\n",
        "accuracy_shallow = classify_correct_shallow.mean()\n",
        "\n",
        "\n",
        "accuracy_shallow"
      ],
      "execution_count": null,
      "outputs": [
        {
          "output_type": "execute_result",
          "data": {
            "text/plain": [
              "0.851006711409396"
            ]
          },
          "metadata": {
            "tags": []
          },
          "execution_count": 65
        }
      ]
    },
    {
      "cell_type": "code",
      "metadata": {
        "colab": {
          "base_uri": "https://localhost:8080/",
          "height": 367
        },
        "id": "L7n0bgMhNDow",
        "outputId": "96a1b17b-f461-4b74-84ab-4f2ed2dc1ef2"
      },
      "source": [
        "tree.plot_tree(dt_shallow, fontsize=8)"
      ],
      "execution_count": null,
      "outputs": [
        {
          "output_type": "execute_result",
          "data": {
            "text/plain": [
              "[Text(167.4, 181.2, 'X[7] <= 0.133\\nentropy = 0.721\\nsamples = 5960\\nvalue = [4771, 1189]'),\n",
              " Text(83.7, 108.72, 'X[17] <= 0.5\\nentropy = 0.315\\nsamples = 2341\\nvalue = [2208, 133]'),\n",
              " Text(41.85, 36.23999999999998, 'entropy = 0.261\\nsamples = 2215\\nvalue = [2117, 98]'),\n",
              " Text(125.55000000000001, 36.23999999999998, 'entropy = 0.852\\nsamples = 126\\nvalue = [91, 35]'),\n",
              " Text(251.10000000000002, 108.72, 'X[7] <= 0.137\\nentropy = 0.871\\nsamples = 3619\\nvalue = [2563, 1056]'),\n",
              " Text(209.25, 36.23999999999998, 'entropy = 0.959\\nsamples = 1273\\nvalue = [486, 787]'),\n",
              " Text(292.95, 36.23999999999998, 'entropy = 0.514\\nsamples = 2346\\nvalue = [2077, 269]')]"
            ]
          },
          "metadata": {
            "tags": []
          },
          "execution_count": 66
        },
        {
          "output_type": "display_data",
          "data": {
            "image/png": "[encoded data removed]",
            "text/plain": [
              "<Figure size 432x288 with 1 Axes>"
            ]
          },
          "metadata": {
            "tags": [],
            "needs_background": "light"
          }
        }
      ]
    },
    {
      "cell_type": "markdown",
      "metadata": {
        "id": "Q8I98tRbNDoz"
      },
      "source": [
        "### SK Learn Tree with No Limit on Depth\n",
        "\n",
        "If we remove the maximum depth parameter, the algorithm will go as far as it can until all nodes are pure."
      ]
    },
    {
      "cell_type": "code",
      "metadata": {
        "id": "y4HfrTLyNDoz"
      },
      "source": [
        "clf = tree.DecisionTreeClassifier(criterion='entropy', min_samples_split=2)\n",
        "\n",
        "dt_deep = clf.fit(X, y)\n",
        "\n",
        "pred_dt_deep = dt_deep.predict(X)"
      ],
      "execution_count": null,
      "outputs": []
    },
    {
      "cell_type": "code",
      "metadata": {
        "colab": {
          "base_uri": "https://localhost:8080/",
          "height": 34
        },
        "id": "5Na0BNJFNDo1",
        "outputId": "880bb367-9e33-4ada-fd54-d3be00aae62a"
      },
      "source": [
        "pred_dt_deep[0:5]"
      ],
      "execution_count": null,
      "outputs": [
        {
          "output_type": "execute_result",
          "data": {
            "text/plain": [
              "array([ True,  True,  True,  True, False])"
            ]
          },
          "metadata": {
            "tags": []
          },
          "execution_count": 68
        }
      ]
    },
    {
      "cell_type": "code",
      "metadata": {
        "colab": {
          "base_uri": "https://localhost:8080/",
          "height": 34
        },
        "id": "s-rfG-hbNDo3",
        "outputId": "b8b34046-5cf2-4336-fd72-29c1fb1c8490"
      },
      "source": [
        "classify_correct_deep = pred_dt_deep == y.iloc[:,0]\n",
        "accuracy_deep = classify_correct_deep.mean()\n",
        "\n",
        "accuracy_deep"
      ],
      "execution_count": null,
      "outputs": [
        {
          "output_type": "execute_result",
          "data": {
            "text/plain": [
              "1.0"
            ]
          },
          "metadata": {
            "tags": []
          },
          "execution_count": 69
        }
      ]
    },
    {
      "cell_type": "markdown",
      "metadata": {
        "id": "Bs1jcqGTNDo5"
      },
      "source": [
        "While this seems great at first glance, what is the problem here? What does this mean for new data that we encounter whose idiosyncracies may be slightly different than the data we used to train the model?"
      ]
    }
  ]
}